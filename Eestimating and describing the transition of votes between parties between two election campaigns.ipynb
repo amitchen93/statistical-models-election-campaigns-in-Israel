{
 "nbformat": 4,
 "nbformat_minor": 0,
 "metadata": {
  "colab": {
   "name": "Untitled1.ipynb",
   "provenance": []
  },
  "kernelspec": {
   "name": "python3",
   "language": "python",
   "display_name": "Python 3"
  },
  "pycharm": {
   "stem_cell": {
    "cell_type": "raw",
    "source": [],
    "metadata": {
     "collapsed": false
    }
   }
  }
 },
 "cells": [
  {
   "cell_type": "markdown",
   "source": [],
   "metadata": {
    "collapsed": false,
    "pycharm": {
     "name": "#%% md\n"
    }
   }
  },
  {
   "cell_type": "markdown",
   "source": [
    "  #\n",
    "\n",
    "",
    "amit chen\n",
    ""
   ],
   "metadata": {
    "collapsed": false
   }
  },
  {
   "cell_type": "code",
   "metadata": {
    "id": "EIhqKPL9LI7j",
    "pycharm": {
     "is_executing": false
    }
   },
   "source": [
    "import pandas as pd\n",
    "import numpy as np\n",
    "import os\n",
    "from IPython.core.display import display\n",
    "from matplotlib import pyplot as plt\n",
    "from scipy import stats\n",
    "import seaborn as sns\n",
    "from elections_functions import *\n",
    "from sklearn.decomposition import PCA\n",
    "import scipy\n",
    "# from dim_reduc_internal import show_votes_pca"
   ],
   "execution_count": 75,
   "outputs": []
  },
  {
   "cell_type": "code",
   "metadata": {
    "id": "jlYrn7wkLWZR",
    "pycharm": {
     "is_executing": false
    }
   },
   "source": [
    "# pre process:\n",
    "\n",
    "sns.set(style=\"dark\")\n",
    "\n",
    "THRESH_HOLD = 0.035\n",
    "\n",
    "MEREZ = 'מרצ'\n",
    "\n",
    "EMET = 'אמת'\n",
    "\n",
    "BADGE_VAADA = 'סמל ועדה'\n",
    "\n",
    "OUTSIDE_ENEVELOPS = 'מעטפות חיצוניות'\n",
    "\n",
    "ECO_LEVEL_COL = 'eco_level'\n",
    "\n",
    "ECO_LEVELS_AMOUNT = 10\n",
    "\n",
    "NAME_COL = 'name'\n",
    "\n",
    "ISO_ECNODING_FORMAT = 'iso-8859-8'\n",
    "\n",
    "HEVRATI_CALCALI_XLSX = 'eshkol_hevrati_calcali.xlsx'\n",
    "\n",
    "YESHOV_BADGE_COL = 'סמל ישוב'\n",
    "\n",
    "SET_CODE_COL = \"set_code\"\n",
    "\n",
    "party_acrynom_to_name_2020 ={EMET: \"עבודה גשר מרצ\", 'ג' : \"יהדות התורה\", 'ודעם'  : \"הרשימה המשותפת\", 'טב'  : \"ימינה\",\n",
    " 'ל'  : \"ישראל ביתנו\", 'מחל'  : \"הליכוד\",  'פה'  : \"כחול לבן\", 'שס'  : \"שס\"}"
   ],
   "execution_count": 76,
   "outputs": []
  },
  {
   "cell_type": "code",
   "execution_count": 77,
   "outputs": [],
   "source": [
    "raw_2020_ballots = pd.read_csv('votes per ballot 2020.csv', encoding ='iso-8859-8', index_col='שם ישוב')\n",
    "raw_2020_ballots.drop([\"מעטפות חיצוניות\"], axis=0, inplace=True)\n",
    "ballots_2020 = raw_2020_ballots.drop(BADGE_VAADA, axis=1)\n",
    "ballots_2020 = ballots_2020[ballots_2020.columns[8:-1]]\n",
    "ballots_2020 = ballots_2020.drop(columns='כשרים')\n",
    "df_2020 = ballots_2020.copy()\n"
   ],
   "metadata": {
    "collapsed": false,
    "pycharm": {
     "name": "#%%\n",
     "is_executing": false
    }
   }
  },
  {
   "cell_type": "code",
   "execution_count": 78,
   "outputs": [],
   "source": [
    "\n",
    "def threshold_parties(df, thresh):\n",
    "    party_ratios = df.sum().div(df.sum().sum()).sort_values(ascending=False)\n",
    "\n",
    "    return party_ratios[party_ratios > thresh]\n",
    "\n",
    "\n",
    "above_th_parties = threshold_parties(ballots_2020, 0.0325).index\n",
    "df_2020_above_th = ballots_2020[above_th_parties]\n",
    "\n",
    "\n",
    "\n",
    "\n",
    "df_2019b = pd.read_csv('votes per city 2019b.csv', encoding ='iso-8859-8', index_col='שם ישוב')\n",
    "\n",
    "parse_dict = {}\n",
    "\n",
    "\n",
    "for i in range(len(df_2019b.index)):\n",
    "    df_indexes = df_2019b.index[i]\n",
    "    df_inx_post_ptrn1 = df_indexes.replace('-',\"\")\n",
    "    df_indexes_pst_ptrn2 = df_inx_post_ptrn1.replace(\"\\'\", \"\")\n",
    "    df_indexes_post_ptrn3 = df_indexes_pst_ptrn2.replace(\"\\\"\", \"\")\n",
    "\n",
    "    parse_dict[df_2019b.index[i]] = df_indexes_post_ptrn3\n"
   ],
   "metadata": {
    "collapsed": false,
    "pycharm": {
     "name": "#%%\n",
     "is_executing": false
    }
   }
  },
  {
   "cell_type": "markdown",
   "source": [
    "Dropping the needless columns"
   ],
   "metadata": {
    "collapsed": false
   }
  },
  {
   "cell_type": "code",
   "execution_count": 79,
   "outputs": [],
   "source": [
    "\n",
    "df_2019b = df_2019b.rename(index=parse_dict)\n",
    "df_2019b = df_2019b.drop([OUTSIDE_ENEVELOPS])\n",
    "df_2019 = df_2019b.drop(BADGE_VAADA, axis=1)\n",
    "\n",
    "df_2019 = df_2019[df_2019.columns[5:]]\n",
    "df_2019 = df_2019.sort_index()\n",
    "df_2019b = df_2019b.sort_index()\n",
    "df_2019[EMET] = df_2019[MEREZ] + df_2019[EMET]\n",
    "df_2019= df_2019.drop(columns=[MEREZ], axis=1)\n",
    "df_2019['נץ'] = df_2019['כף']\n",
    "df_2019 = df_2019.drop(columns=['כף'], axis=1)\n"
   ],
   "metadata": {
    "collapsed": false,
    "pycharm": {
     "name": "#%%\n",
     "is_executing": false
    }
   }
  },
  {
   "cell_type": "markdown",
   "source": [
    "Combining Merez Emet Avoda\n",
    "Changing Yahadot a Tora name"
   ],
   "metadata": {
    "collapsed": false
   }
  },
  {
   "cell_type": "markdown",
   "source": [
    "Getting above threshold parties"
   ],
   "metadata": {
    "collapsed": false
   }
  },
  {
   "cell_type": "code",
   "execution_count": 80,
   "outputs": [],
   "source": [
    "pjs = df_2020_above_th.sum(axis=0) / df_2020_above_th.values.sum()\n",
    "\n",
    "above_th_parties19 = threshold_parties(df_2019, THRESH_HOLD)\n",
    "above_th_parties19 = above_th_parties19.reindex(pjs.index, axis=1)\n",
    "\n",
    "# Path to datafiles - change to your directory!\n",
    "DATA_PATH = ''\n",
    "ELECTIONS = \"בחירות 2020 או 2019 ב\""
   ],
   "metadata": {
    "collapsed": false,
    "pycharm": {
     "name": "#%%\n",
     "is_executing": false
    }
   }
  },
  {
   "cell_type": "code",
   "metadata": {
    "id": "KRcca-xVNLwu",
    "pycharm": {
     "is_executing": false
    }
   },
   "source": [],
   "execution_count": 80,
   "outputs": []
  },
  {
   "cell_type": "code",
   "metadata": {
    "id": "v5sjLyX0La0b",
    "pycharm": {
     "is_executing": false
    }
   },
   "source": [
    "# Helper functions: you can use and modify\n",
    "# Draw 1*3 plots\n",
    "def subplot_bars(x, y, title_str):\n",
    "    width = 0.35\n",
    "    fig, axs = plt.subplots(3, figsize=(25, 10))\n",
    "    for i in range(3): # loop on plots\n",
    "        axs[i].bar(np.arange(9), x[i,:], width, color='b')\n",
    "        axs[i].bar(np.arange(9)+width, y[i,:], width, color='r')\n",
    "        axs[i].set_title(title_str[i][::-1], fontsize=24)\n",
    "        axs[i].set_xticks(np.arange(9))\n",
    "    plt.show()"
   ],
   "execution_count": 81,
   "outputs": []
  },
  {
   "cell_type": "code",
   "metadata": {
    "id": "UNuFfu05Le0h",
    "pycharm": {
     "is_executing": false
    }
   },
   "source": [
    "def plop():\n",
    "    df_2020, df_2020_raw = read_election_results('2020', 'city')\n",
    "    df_2019b, df_2019b_raw = read_election_results('2019b', 'city')\n",
    "    df_2020_raw = df_2020_raw[df_2020_raw.index != 'מעטפות חיצוניות']\n",
    "    df_2019b_raw = df_2019b_raw[df_2019b_raw.index != 'מעטפות חיצוניות']\n",
    "    df_2020_big = df_2020[big_parties_2020]\n",
    "    df_2019b_big = df_2019b[big_parties_2019b]\n",
    "    df_2019b_big['אמת'] = df_2019b_big[['מרצ', 'אמת']].sum(axis=1)\n",
    "    df_2019b_big['נץ'] = df_2019b_big['כף']\n",
    "    df_2019b_big = df_2019b_big.drop(['מרצ', 'כף'], axis=1)\n",
    "    df_combined = pd.concat([df_2019b_big, df_2020_big])\n",
    "    df_combined_ratios = df_combined / np.array(df_combined.sum(axis=1)).reshape(-1, 1)\n",
    "    pca = do_PCA(df_combined_ratios).T\n",
    "    df_combined_ratios['PC1'] = pca[0]\n",
    "    df_combined_ratios['PC2'] = pca[1]\n",
    "    a = np.vstack([np.array(df_2020_raw['בזב']), np.array(df_2019b_raw['בזב'])])\n",
    "    df_combined_ratios['בזב'] = a.flatten()\n",
    "    df_combined_ratios[ELECTIONS] = np.vstack([np.ones((1213,)), np.zeros((1213,))]).flatten()\n",
    "    return df_2019b_big, df_2020_big, df_combined_ratios"
   ],
   "execution_count": 82,
   "outputs": []
  },
  {
   "cell_type": "code",
   "metadata": {
    "id": "0yijko5hLmBQ",
    "pycharm": {
     "is_executing": false
    }
   },
   "source": [
    "def do_PCA(df, order=2):\n",
    "\n",
    "    pca = PCA(n_components=order)  # define PCA object\n",
    "    X_pca = pca.fit_transform(df)  # fit model. Compute principal components\n",
    "    return X_pca"
   ],
   "execution_count": 83,
   "outputs": []
  },
  {
   "cell_type": "code",
   "metadata": {
    "id": "61vXgnIINWen",
    "pycharm": {
     "is_executing": false
    }
   },
   "source": [
    "def Seaborn_scatter(X_DF, name, title, Arrow=False,big_three=[]):\n",
    "    plt.figure(figsize=(16.3, 13))\n",
    "    p1 = sns.scatterplot(data=X_DF, x=\"PC1\", y=\"PC2\", marker=\"o\", hue=ELECTIONS, size='בזב'\n",
    "                         ,alpha=0.87, legend=False)\n",
    "    if Arrow:\n",
    "        X_DF_a = X_DF[['PC1', 'PC2']].iloc[:X_DF.shape[0]//2]\n",
    "        X_DF_b = X_DF[['PC1', 'PC2']].iloc[X_DF.shape[0]//2:]\n",
    "        for x1, y1, x2, y2, name in zip(X_DF_a['PC1'], X_DF_a['PC2'],X_DF_b['PC1'],X_DF_b['PC2'], X_DF_a.index):\n",
    "            if name in big_three:\n",
    "                plt.arrow(x1, y1, x2 - x1, y2 - y1, color='red')\n",
    "                plt.annotate(name[::-1],(x1, y1))\n",
    "                plt.annotate(name[::-1],(x2, y2))\n",
    "            else:\n",
    "                plt.arrow(x1, y1, x2-x1, y2-y1)\n",
    "\n",
    "    plt.title(title)\n",
    "    p1.set_xlabel(\"PC1\")\n",
    "    p1.set_ylabel(\"PC2\")\n",
    "    plt.savefig(name)\n",
    "    plt.show()\n"
   ],
   "execution_count": 84,
   "outputs": []
  },
  {
   "cell_type": "code",
   "metadata": {
    "id": "tY4-zTcJNZ3C",
    "pycharm": {
     "is_executing": false
    }
   },
   "source": [],
   "execution_count": 84,
   "outputs": []
  },
  {
   "cell_type": "code",
   "metadata": {
    "id": "GOBY7lO_NhAE",
    "pycharm": {
     "is_executing": false
    }
   },
   "source": [
    "def Q_2_v_subplot(x, y, title_str):\n",
    "    x = np.array(x)\n",
    "    y = np.array(y)\n",
    "    width = 0.35\n",
    "    fig, axs = plt.subplots(3, figsize=(25, 10))\n",
    "    for i in range(3): # loop on plots\n",
    "        axs[i].bar(np.arange(9), x[i,:], width, color='b')\n",
    "        axs[i].bar(np.arange(9)+width, y[i,:], width, color='r')\n",
    "        axs[i].set_title(title_str[i][::-1], fontsize=24)\n",
    "        axs[i].set_xticks(np.arange(9))\n",
    "    plt.show()"
   ],
   "execution_count": 85,
   "outputs": []
  },
  {
   "cell_type": "code",
   "metadata": {
    "id": "s4zkPPNoNlOl",
    "pycharm": {
     "is_executing": false
    }
   },
   "source": [
    "def subplot_bars_2(x, y):\n",
    "    x = np.array(x)\n",
    "    y = np.array(y)\n",
    "    width = 0.35\n",
    "    fig, axs = plt.subplots(2, 5, figsize=(25, 10))\n",
    "    for i in range(10):  # loop on plots\n",
    "        axs[i//5, i % 5].bar(np.arange(5), x[i,:], width, color='b')\n",
    "        axs[i//5, i % 5].bar(np.arange(5)+width, y[i,:], width, color='r')\n",
    "        #axs[i//5, i % 5].set_title(title_str[i], fontsize=24)\n",
    "        if i in [0, 5]:\n",
    "            axs[i // 5, i % 5].set_ylabel('Votes percent', fontsize=24)\n",
    "        #axs[i // 5, i % 5].legend(legend_str[i])\n",
    "    plt.show()"
   ],
   "execution_count": 86,
   "outputs": []
  },
  {
   "cell_type": "code",
   "metadata": {
    "colab": {
     "base_uri": "https://localhost:8080/",
     "height": 1000
    },
    "id": "vVcTbsTbNpQb",
    "outputId": "2eb5e921-cb0c-4df3-e004-b06da6b7dc0f",
    "pycharm": {
     "is_executing": false
    }
   },
   "source": [
    "\n",
    "\n",
    "\n",
    "df_2020_ballot, df_2020_raw_ballot = read_election_results('2020', 'ballot')\n",
    "df_2019b_ballot, df_2019b_raw_ballot = read_election_results('2019b', 'ballot')\n",
    "b2020 = adapt_df(df_2020_raw_ballot, list(parties_dict_2020.keys()), include_no_vote=False,\n",
    "                    ballot_number_field_name='קלפי')\n",
    "b2019b = adapt_df(df_2019b_raw_ballot, list(parties_dict_2019b.keys()), include_no_vote=False,\n",
    "                    ballot_number_field_name='קלפי')\n",
    "b2019b['נץ'] = b2019b['כף']\n",
    "b2019b = b2019b.drop(['כף'], axis=1)\n",
    "new_data_frame = pd.DataFrame(index=b2019b.index)\n",
    "new_data_frame['ישוב'] = b2019b['ישוב'].copy()\n",
    "b2019b.drop('ישוב', axis=1, inplace=True) # drop column\n",
    "b2020.drop('ישוב', axis=1, inplace=True) # drop column\n",
    "combined = pd.merge(b2020, b2019b, how='inner', left_index=True, right_index=True)\n",
    "\n",
    "N_a_2020 = combined.iloc[:, :9]\n",
    "N_b_2019b = combined.iloc[:, 9:]\n",
    "a = N_b_2019b['מרצ'].copy()\n",
    "b = N_b_2019b['נץ_y'].copy()\n",
    "N_b_2019b['מרצ'] = b\n",
    "N_b_2019b['נץ_y'] = a\n",
    "display(N_a_2020)\n",
    "display(N_b_2019b)\n",
    "M, res, rank, a = np.linalg.lstsq(N_b_2019b,N_a_2020)\n"
   ],
   "execution_count": 87,
   "outputs": [
    {
     "data": {
      "text/plain": "           אמת_x  ג_x  ודעם_x  טב_x  ל_x  מחל_x  נץ_x  פה_x  שס_x\nballot_id                                                        \n967__1.0       2    0     112     0    0      1     0     6     2\n967__2.0       6    0     235     0    0      2     0     0     0\n967__3.0       5    0     207     0    1      1     0     2     0\n472__8.0       5    3     205     1    1     26     0     8     0\n472__7.0       6    0     260     0    1     32     0    17     1\n...          ...  ...     ...   ...  ...    ...   ...   ...   ...\n3563__2.0     10   14       2   174   15    227     9    27    11\n3563__3.0      7    8       0   301   10    188     9    25    13\n970__1.0       0    0      43     0    0      0     0     4     0\n1346__1.0      0    0     160     0    0     40     0     2     0\n778__1.0       9    7       0    85    1    254     2    65    47\n\n[10047 rows x 9 columns]",
      "text/html": "<div>\n<style scoped>\n    .dataframe tbody tr th:only-of-type {\n        vertical-align: middle;\n    }\n\n    .dataframe tbody tr th {\n        vertical-align: top;\n    }\n\n    .dataframe thead th {\n        text-align: right;\n    }\n</style>\n<table border=\"1\" class=\"dataframe\">\n  <thead>\n    <tr style=\"text-align: right;\">\n      <th></th>\n      <th>אמת_x</th>\n      <th>ג_x</th>\n      <th>ודעם_x</th>\n      <th>טב_x</th>\n      <th>ל_x</th>\n      <th>מחל_x</th>\n      <th>נץ_x</th>\n      <th>פה_x</th>\n      <th>שס_x</th>\n    </tr>\n    <tr>\n      <th>ballot_id</th>\n      <th></th>\n      <th></th>\n      <th></th>\n      <th></th>\n      <th></th>\n      <th></th>\n      <th></th>\n      <th></th>\n      <th></th>\n    </tr>\n  </thead>\n  <tbody>\n    <tr>\n      <th>967__1.0</th>\n      <td>2</td>\n      <td>0</td>\n      <td>112</td>\n      <td>0</td>\n      <td>0</td>\n      <td>1</td>\n      <td>0</td>\n      <td>6</td>\n      <td>2</td>\n    </tr>\n    <tr>\n      <th>967__2.0</th>\n      <td>6</td>\n      <td>0</td>\n      <td>235</td>\n      <td>0</td>\n      <td>0</td>\n      <td>2</td>\n      <td>0</td>\n      <td>0</td>\n      <td>0</td>\n    </tr>\n    <tr>\n      <th>967__3.0</th>\n      <td>5</td>\n      <td>0</td>\n      <td>207</td>\n      <td>0</td>\n      <td>1</td>\n      <td>1</td>\n      <td>0</td>\n      <td>2</td>\n      <td>0</td>\n    </tr>\n    <tr>\n      <th>472__8.0</th>\n      <td>5</td>\n      <td>3</td>\n      <td>205</td>\n      <td>1</td>\n      <td>1</td>\n      <td>26</td>\n      <td>0</td>\n      <td>8</td>\n      <td>0</td>\n    </tr>\n    <tr>\n      <th>472__7.0</th>\n      <td>6</td>\n      <td>0</td>\n      <td>260</td>\n      <td>0</td>\n      <td>1</td>\n      <td>32</td>\n      <td>0</td>\n      <td>17</td>\n      <td>1</td>\n    </tr>\n    <tr>\n      <th>...</th>\n      <td>...</td>\n      <td>...</td>\n      <td>...</td>\n      <td>...</td>\n      <td>...</td>\n      <td>...</td>\n      <td>...</td>\n      <td>...</td>\n      <td>...</td>\n    </tr>\n    <tr>\n      <th>3563__2.0</th>\n      <td>10</td>\n      <td>14</td>\n      <td>2</td>\n      <td>174</td>\n      <td>15</td>\n      <td>227</td>\n      <td>9</td>\n      <td>27</td>\n      <td>11</td>\n    </tr>\n    <tr>\n      <th>3563__3.0</th>\n      <td>7</td>\n      <td>8</td>\n      <td>0</td>\n      <td>301</td>\n      <td>10</td>\n      <td>188</td>\n      <td>9</td>\n      <td>25</td>\n      <td>13</td>\n    </tr>\n    <tr>\n      <th>970__1.0</th>\n      <td>0</td>\n      <td>0</td>\n      <td>43</td>\n      <td>0</td>\n      <td>0</td>\n      <td>0</td>\n      <td>0</td>\n      <td>4</td>\n      <td>0</td>\n    </tr>\n    <tr>\n      <th>1346__1.0</th>\n      <td>0</td>\n      <td>0</td>\n      <td>160</td>\n      <td>0</td>\n      <td>0</td>\n      <td>40</td>\n      <td>0</td>\n      <td>2</td>\n      <td>0</td>\n    </tr>\n    <tr>\n      <th>778__1.0</th>\n      <td>9</td>\n      <td>7</td>\n      <td>0</td>\n      <td>85</td>\n      <td>1</td>\n      <td>254</td>\n      <td>2</td>\n      <td>65</td>\n      <td>47</td>\n    </tr>\n  </tbody>\n</table>\n<p>10047 rows × 9 columns</p>\n</div>"
     },
     "metadata": {},
     "output_type": "display_data"
    },
    {
     "data": {
      "text/plain": "           אמת_y  ג_y  ודעם_y  טב_y  ל_y  מחל_y  מרצ  פה_y  שס_y  נץ_y\nballot_id                                                             \n967__1.0       0    1     100     0    0      0    0     9     0     0\n967__2.0       3    0     202     0    0      2    0    12     0     0\n967__3.0       0    0     196     0    0      1    0     1     0     0\n472__8.0       2    3     148     0    1      6    1    27     3     6\n472__7.0       2    0     194     1    3     18    0    43    12     6\n...          ...  ...     ...   ...  ...    ...  ...   ...   ...   ...\n3563__2.0     13   14       1   176   21    166   28    19    11     2\n3563__3.0      9    3       0   308    6    133   39    25    12     0\n970__1.0       0    0      25     0    0      2    0     6     0     0\n1346__1.0      5    1     115     1    0     63    2     8     2     1\n778__1.0      17    9       0    85    2    202   12    35    48     4\n\n[10047 rows x 10 columns]",
      "text/html": "<div>\n<style scoped>\n    .dataframe tbody tr th:only-of-type {\n        vertical-align: middle;\n    }\n\n    .dataframe tbody tr th {\n        vertical-align: top;\n    }\n\n    .dataframe thead th {\n        text-align: right;\n    }\n</style>\n<table border=\"1\" class=\"dataframe\">\n  <thead>\n    <tr style=\"text-align: right;\">\n      <th></th>\n      <th>אמת_y</th>\n      <th>ג_y</th>\n      <th>ודעם_y</th>\n      <th>טב_y</th>\n      <th>ל_y</th>\n      <th>מחל_y</th>\n      <th>מרצ</th>\n      <th>פה_y</th>\n      <th>שס_y</th>\n      <th>נץ_y</th>\n    </tr>\n    <tr>\n      <th>ballot_id</th>\n      <th></th>\n      <th></th>\n      <th></th>\n      <th></th>\n      <th></th>\n      <th></th>\n      <th></th>\n      <th></th>\n      <th></th>\n      <th></th>\n    </tr>\n  </thead>\n  <tbody>\n    <tr>\n      <th>967__1.0</th>\n      <td>0</td>\n      <td>1</td>\n      <td>100</td>\n      <td>0</td>\n      <td>0</td>\n      <td>0</td>\n      <td>0</td>\n      <td>9</td>\n      <td>0</td>\n      <td>0</td>\n    </tr>\n    <tr>\n      <th>967__2.0</th>\n      <td>3</td>\n      <td>0</td>\n      <td>202</td>\n      <td>0</td>\n      <td>0</td>\n      <td>2</td>\n      <td>0</td>\n      <td>12</td>\n      <td>0</td>\n      <td>0</td>\n    </tr>\n    <tr>\n      <th>967__3.0</th>\n      <td>0</td>\n      <td>0</td>\n      <td>196</td>\n      <td>0</td>\n      <td>0</td>\n      <td>1</td>\n      <td>0</td>\n      <td>1</td>\n      <td>0</td>\n      <td>0</td>\n    </tr>\n    <tr>\n      <th>472__8.0</th>\n      <td>2</td>\n      <td>3</td>\n      <td>148</td>\n      <td>0</td>\n      <td>1</td>\n      <td>6</td>\n      <td>1</td>\n      <td>27</td>\n      <td>3</td>\n      <td>6</td>\n    </tr>\n    <tr>\n      <th>472__7.0</th>\n      <td>2</td>\n      <td>0</td>\n      <td>194</td>\n      <td>1</td>\n      <td>3</td>\n      <td>18</td>\n      <td>0</td>\n      <td>43</td>\n      <td>12</td>\n      <td>6</td>\n    </tr>\n    <tr>\n      <th>...</th>\n      <td>...</td>\n      <td>...</td>\n      <td>...</td>\n      <td>...</td>\n      <td>...</td>\n      <td>...</td>\n      <td>...</td>\n      <td>...</td>\n      <td>...</td>\n      <td>...</td>\n    </tr>\n    <tr>\n      <th>3563__2.0</th>\n      <td>13</td>\n      <td>14</td>\n      <td>1</td>\n      <td>176</td>\n      <td>21</td>\n      <td>166</td>\n      <td>28</td>\n      <td>19</td>\n      <td>11</td>\n      <td>2</td>\n    </tr>\n    <tr>\n      <th>3563__3.0</th>\n      <td>9</td>\n      <td>3</td>\n      <td>0</td>\n      <td>308</td>\n      <td>6</td>\n      <td>133</td>\n      <td>39</td>\n      <td>25</td>\n      <td>12</td>\n      <td>0</td>\n    </tr>\n    <tr>\n      <th>970__1.0</th>\n      <td>0</td>\n      <td>0</td>\n      <td>25</td>\n      <td>0</td>\n      <td>0</td>\n      <td>2</td>\n      <td>0</td>\n      <td>6</td>\n      <td>0</td>\n      <td>0</td>\n    </tr>\n    <tr>\n      <th>1346__1.0</th>\n      <td>5</td>\n      <td>1</td>\n      <td>115</td>\n      <td>1</td>\n      <td>0</td>\n      <td>63</td>\n      <td>2</td>\n      <td>8</td>\n      <td>2</td>\n      <td>1</td>\n    </tr>\n    <tr>\n      <th>778__1.0</th>\n      <td>17</td>\n      <td>9</td>\n      <td>0</td>\n      <td>85</td>\n      <td>2</td>\n      <td>202</td>\n      <td>12</td>\n      <td>35</td>\n      <td>48</td>\n      <td>4</td>\n    </tr>\n  </tbody>\n</table>\n<p>10047 rows × 10 columns</p>\n</div>"
     },
     "metadata": {},
     "output_type": "display_data"
    },
    {
     "name": "stderr",
     "text": [
      "C:\\Users\\amitc\\anaconda3\\lib\\site-packages\\ipykernel_launcher.py:23: FutureWarning:\n",
      "\n",
      "`rcond` parameter will change to the default of machine precision times ``max(M, N)`` where M and N are the input matrix dimensions.\n",
      "To use the future default and silence this warning we advise to pass `rcond=None`, to keep using the old, explicitly pass `rcond=-1`.\n",
      "\n"
     ],
     "output_type": "stream"
    }
   ]
  },
  {
   "cell_type": "code",
   "metadata": {
    "id": "wN9y94USNtvj",
    "pycharm": {
     "is_executing": false
    }
   },
   "source": [
    "names_2019 = [name[::-1] for name in b2019b.columns]\n",
    "a = names_2019[6]\n",
    "b = names_2019[9]\n",
    "names_2019[6] = b\n",
    "names_2019[9] = a\n",
    "pd_M = pd.DataFrame(M)\n",
    "pd_M = pd_M.set_index(pd.Series(names_2019))\n",
    "pd_M = pd_M.set_axis(pd.Series([name[::-1] for name in b2020.columns]),axis=1)\n",
    "sns.heatmap(pd_M,xticklabels=True,yticklabels=True)\n",
    "plt.title('1 a unnormalized transfer votes heatmap')\n",
    "\n",
    "M_q1_1 = pd_M.copy()"
   ],
   "execution_count": 88,
   "outputs": [
    {
     "data": {
      "text/plain": "<Figure size 432x288 with 2 Axes>",
      "image/png": "[encoded data removed]"
     },
     "metadata": {},
     "output_type": "display_data"
    }
   ]
  },
  {
   "cell_type": "code",
   "execution_count": 89,
   "outputs": [
    {
     "data": {
      "text/plain": "<Figure size 432x288 with 2 Axes>",
      "image/png": "[encoded data removed]"
     },
     "metadata": {},
     "output_type": "display_data"
    }
   ],
   "source": [
    "pd_M[pd_M<0.005] = 0\n",
    "pd_M = pd_M/np.array(pd_M.sum(axis=1)).reshape(-1,1)\n",
    "sns.heatmap(pd_M,xticklabels=True,yticklabels=True)\n",
    "plt.title('1 b normalized transfer votes heatmap')\n",
    "\n",
    "M_q1_2 = pd_M.copy()\n"
   ],
   "metadata": {
    "collapsed": false,
    "pycharm": {
     "name": "#%%\n",
     "is_executing": false
    }
   }
  },
  {
   "cell_type": "markdown",
   "source": [
    "אמת ומחל אמת ופה נץ וטב פה ומחל הכול אבל לא גבוה במיוחד."
   ],
   "metadata": {
    "collapsed": false,
    "pycharm": {
     "name": "#%% md\n"
    }
   }
  },
  {
   "cell_type": "code",
   "execution_count": 90,
   "outputs": [
    {
     "name": "stderr",
     "text": [
      "C:\\Users\\amitc\\anaconda3\\lib\\site-packages\\ipykernel_launcher.py:21: FutureWarning:\n",
      "\n",
      "`rcond` parameter will change to the default of machine precision times ``max(M, N)`` where M and N are the input matrix dimensions.\n",
      "To use the future default and silence this warning we advise to pass `rcond=None`, to keep using the old, explicitly pass `rcond=-1`.\n",
      "\n"
     ],
     "output_type": "stream"
    },
    {
     "data": {
      "text/plain": "<Figure size 432x288 with 2 Axes>",
      "image/png": "[encoded data removed]"
     },
     "metadata": {},
     "output_type": "display_data"
    }
   ],
   "source": [
    "#question 2\n",
    "b2020 = adapt_df(df_2020_raw_ballot, list(parties_dict_2020.keys()), include_no_vote=True,\n",
    "                    ballot_number_field_name='קלפי')\n",
    "b2019b = adapt_df(df_2019b_raw_ballot, list(parties_dict_2019b.keys()), include_no_vote=True,\n",
    "                    ballot_number_field_name='קלפי')\n",
    "b2019b['נץ'] = b2019b['כף']\n",
    "b2019b = b2019b.drop(['כף'], axis=1)\n",
    "new_data_frame = pd.DataFrame(index=b2019b.index)\n",
    "new_data_frame['ישוב'] = b2019b['ישוב'].copy()\n",
    "b2019b.drop('ישוב', axis=1, inplace=True) # drop column\n",
    "b2020.drop('ישוב', axis=1, inplace=True) # drop column\n",
    "combined = pd.merge(b2020, b2019b, how='inner', left_index=True, right_index=True)\n",
    "\n",
    "N_a_2020 = combined.iloc[:, :10]\n",
    "N_b_2019b = combined.iloc[:, 10:]\n",
    "a = N_b_2019b['מרצ'].copy()\n",
    "b = N_b_2019b['נץ_y'].copy()\n",
    "N_b_2019b['מרצ'] = b\n",
    "N_b_2019b['נץ_y'] = a\n",
    "\n",
    "M, res, rank, a = np.linalg.lstsq(N_b_2019b,N_a_2020)\n",
    "names_2019 = [name[::-1] for name in b2019b.columns]\n",
    "a = names_2019[6]\n",
    "b = names_2019[10]\n",
    "names_2019[6] = b\n",
    "names_2019[10] = a\n",
    "\n",
    "pd_M = pd.DataFrame(M)\n",
    "pd_M = pd_M.set_index(pd.Series(names_2019))\n",
    "pd_M = pd_M.set_axis(pd.Series([name[::-1] for name in b2020.columns]),axis=1)\n",
    "pd_M[pd_M<0.005] = 0\n",
    "pd_M = pd_M/np.array(pd_M.sum(axis=1)).reshape(-1,1)\n",
    "sns.heatmap(pd_M,xticklabels=True,yticklabels=True)\n",
    "plt.title('2 normalized transfer votes heatmap with dosent vote col')\n",
    "\n",
    "M_q2_1 = pd_M.copy()\n"
   ],
   "metadata": {
    "collapsed": false,
    "pycharm": {
     "name": "#%% \n",
     "is_executing": false
    }
   }
  },
  {
   "cell_type": "code",
   "execution_count": 91,
   "outputs": [
    {
     "data": {
      "text/plain": "Text(0.5, 1, 'q3 normalized transfer votes heatmap nnls')"
     },
     "metadata": {},
     "output_type": "execute_result",
     "execution_count": 91
    },
    {
     "data": {
      "text/plain": "<Figure size 432x288 with 2 Axes>",
      "image/png": "[encoded data removed]"
     },
     "metadata": {},
     "output_type": "display_data"
    }
   ],
   "source": [
    "#question 3\n",
    "df_2020_ballot, df_2020_raw_ballot = read_election_results('2020', 'ballot')\n",
    "df_2019b_ballot, df_2019b_raw_ballot = read_election_results('2019b', 'ballot')\n",
    "b2020 = adapt_df(df_2020_raw_ballot, list(parties_dict_2020.keys()), include_no_vote=False,\n",
    "                    ballot_number_field_name='קלפי')\n",
    "b2019b = adapt_df(df_2019b_raw_ballot, list(parties_dict_2019b.keys()), include_no_vote=False,\n",
    "                    ballot_number_field_name='קלפי')\n",
    "b2019b['נץ'] = b2019b['כף']\n",
    "b2019b = b2019b.drop(['כף'], axis=1)\n",
    "new_data_frame = pd.DataFrame(index=b2019b.index)\n",
    "new_data_frame['ישוב'] = b2019b['ישוב'].copy()\n",
    "b2019b.drop('ישוב', axis=1, inplace=True) # drop column\n",
    "b2020.drop('ישוב', axis=1, inplace=True) # drop column\n",
    "combined = pd.merge(b2020, b2019b, how='inner', left_index=True, right_index=True)\n",
    "\n",
    "N_a_2020 = combined.iloc[:, :9]\n",
    "N_b_2019b = combined.iloc[:, 9:]\n",
    "a = N_b_2019b['מרצ'].copy()\n",
    "b = N_b_2019b['נץ_y'].copy()\n",
    "N_b_2019b['מרצ'] = b\n",
    "N_b_2019b['נץ_y'] = a\n",
    "a = []\n",
    "[a.append(scipy.optimize.nnls(N_b_2019b, b)[0]) for b in N_a_2020.T.to_numpy()]\n",
    "M = np.vstack(a)\n",
    "names_2019 = [name[::-1] for name in b2019b.columns]\n",
    "a = names_2019[6]\n",
    "b = names_2019[9]\n",
    "names_2019[6] = b\n",
    "names_2019[9] = a\n",
    "pd_M = pd.DataFrame(M).T\n",
    "pd_M = pd_M.set_index(pd.Series(names_2019))\n",
    "pd_M = pd_M.set_axis(pd.Series([name[::-1] for name in b2020.columns]),axis=1)\n",
    "pd_M[pd_M<0.005] = 0\n",
    "\n",
    "M_q3_1 = pd_M.copy()\n",
    "\n",
    "pd_M = pd_M/np.array(pd_M.sum(axis=1)).reshape(-1,1)\n",
    "sns.heatmap(pd_M,xticklabels=True,yticklabels=True)\n",
    "plt.title('q3 normalized transfer votes heatmap nnls')\n"
   ],
   "metadata": {
    "collapsed": false,
    "pycharm": {
     "name": "#%% \n",
     "is_executing": false
    }
   }
  },
  {
   "cell_type": "markdown",
   "source": [
    " שס לשס עלה אמת לאמת עלה מחל למחל עלה ל לל עלה ופה ואמת עלה"
   ],
   "metadata": {
    "collapsed": false,
    "pycharm": {
     "name": "#%% md\n",
     "is_executing": false
    }
   }
  },
  {
   "cell_type": "code",
   "execution_count": 92,
   "outputs": [
    {
     "name": "stderr",
     "text": [
      "C:\\Users\\amitc\\anaconda3\\lib\\site-packages\\ipykernel_launcher.py:22: FutureWarning:\n",
      "\n",
      "`rcond` parameter will change to the default of machine precision times ``max(M, N)`` where M and N are the input matrix dimensions.\n",
      "To use the future default and silence this warning we advise to pass `rcond=None`, to keep using the old, explicitly pass `rcond=-1`.\n",
      "\n"
     ],
     "output_type": "stream"
    },
    {
     "data": {
      "text/plain": "<matplotlib.axes._subplots.AxesSubplot at 0x2cca6158608>"
     },
     "metadata": {},
     "output_type": "execute_result",
     "execution_count": 92
    },
    {
     "data": {
      "text/plain": "<Figure size 432x288 with 1 Axes>",
      "image/png": "[encoded data removed]"
     },
     "metadata": {},
     "output_type": "display_data"
    }
   ],
   "source": [
    "#q4\n",
    "#question 2\n",
    "b2020 = adapt_df(df_2020_raw_ballot, list(parties_dict_2020.keys()), include_no_vote=True,\n",
    "                    ballot_number_field_name='קלפי')\n",
    "b2019b = adapt_df(df_2019b_raw_ballot, list(parties_dict_2019b.keys()), include_no_vote=True,\n",
    "                    ballot_number_field_name='קלפי')\n",
    "b2019b['נץ'] = b2019b['כף']\n",
    "b2019b = b2019b.drop(['כף'], axis=1)\n",
    "new_data_frame = pd.DataFrame(index=b2019b.index)\n",
    "new_data_frame['ישוב'] = b2019b['ישוב'].copy()\n",
    "b2019b.drop('ישוב', axis=1, inplace=True) # drop column\n",
    "b2020.drop('ישוב', axis=1, inplace=True) # drop column\n",
    "combined = pd.merge(b2020, b2019b, how='inner', left_index=True, right_index=True)\n",
    "\n",
    "N_a_2020 = combined.iloc[:, :10]\n",
    "N_b_2019b = combined.iloc[:, 10:]\n",
    "a = N_b_2019b['מרצ'].copy()\n",
    "b = N_b_2019b['נץ_y'].copy()\n",
    "N_b_2019b['מרצ'] = b\n",
    "N_b_2019b['נץ_y'] = a\n",
    "\n",
    "M, res, rank, a = np.linalg.lstsq(N_b_2019b,N_a_2020)\n",
    "names_2019 = [name[::-1] for name in b2019b.columns]\n",
    "a = names_2019[6]\n",
    "b = names_2019[10]\n",
    "names_2019[6] = b\n",
    "names_2019[10] = a\n",
    "a = (N_b_2019b@M).to_numpy() -N_a_2020.to_numpy() \n",
    "a = np.square(a)\n",
    "a = a.sum(axis=0)/10047\n",
    "b2020.columns\n",
    "a = pd.DataFrame(a.reshape(1,-1))\n",
    "a = a.set_axis(pd.Series([name[::-1] for name in b2020.columns]),axis=1)\n",
    "plt.title('q4 normalized transfer votes barplot')\n",
    "sns.barplot(data=a)"
   ],
   "metadata": {
    "collapsed": false,
    "pycharm": {
     "name": "#%% \n",
     "is_executing": false
    }
   }
  },
  {
   "cell_type": "markdown",
   "source": [
    "מצליח לחזות היטב עבור מפלגת ל נץ טב ג אמת ושס, עבור מחל פה וודעם ככה ככה אבל הן בפער הכי גדולות ולא הצביע מאוד לא מצליח אבל זה בעיקר בגלל שהשיטה שבא אנחנו משיגים אותו היא מאוד שנויה במחלוקת."
   ],
   "metadata": {
    "collapsed": false,
    "pycharm": {
     "name": "#%% md\n"
    }
   }
  },
  {
   "cell_type": "markdown",
   "source": [
    "# bonus cell \n",
    "# bonus cell\n",
    "# bonus cell!  you agreed this after the mail we sent you about it :) "
   ],
   "metadata": {
    "collapsed": false,
    "pycharm": {
     "name": "#%% md\n"
    }
   }
  },
  {
   "cell_type": "markdown",
   "source": [
    "בקוד הבא ניתן לראות את גרף sankey plot תחת וריאציית המעברים עבור שאלה 1 סעיף 1"
   ],
   "metadata": {
    "collapsed": false,
    "pycharm": {
     "name": "#%% md\n",
     "is_executing": false
    }
   }
  },
  {
   "cell_type": "code",
   "execution_count": 93,
   "outputs": [
    {
     "data": {
      "application/vnd.plotly.v1+json": {
       "config": {
        "plotlyServerURL": "https://plot.ly"
       },
       "data": [
        {
         "link": {
          "color": [
           "rgb(141,211,199)",
           "rgb(141,211,199)",
           "rgb(141,211,199)",
           "rgb(141,211,199)",
           "rgb(141,211,199)",
           "rgb(141,211,199)",
           "rgb(141,211,199)",
           "rgb(141,211,199)",
           "rgb(141,211,199)",
           "rgb(255,255,179)",
           "rgb(255,255,179)",
           "rgb(255,255,179)",
           "rgb(255,255,179)",
           "rgb(255,255,179)",
           "rgb(255,255,179)",
           "rgb(255,255,179)",
           "rgb(255,255,179)",
           "rgb(255,255,179)",
           "rgb(190,186,218)",
           "rgb(190,186,218)",
           "rgb(190,186,218)",
           "rgb(190,186,218)",
           "rgb(190,186,218)",
           "rgb(190,186,218)",
           "rgb(190,186,218)",
           "rgb(190,186,218)",
           "rgb(190,186,218)",
           "rgb(251,128,114)",
           "rgb(251,128,114)",
           "rgb(251,128,114)",
           "rgb(251,128,114)",
           "rgb(251,128,114)",
           "rgb(251,128,114)",
           "rgb(251,128,114)",
           "rgb(251,128,114)",
           "rgb(251,128,114)",
           "rgb(128,177,211)",
           "rgb(128,177,211)",
           "rgb(128,177,211)",
           "rgb(128,177,211)",
           "rgb(128,177,211)",
           "rgb(128,177,211)",
           "rgb(128,177,211)",
           "rgb(128,177,211)",
           "rgb(128,177,211)",
           "rgb(253,180,98)",
           "rgb(253,180,98)",
           "rgb(253,180,98)",
           "rgb(253,180,98)",
           "rgb(253,180,98)",
           "rgb(253,180,98)",
           "rgb(253,180,98)",
           "rgb(253,180,98)",
           "rgb(253,180,98)",
           "rgb(179,222,105)",
           "rgb(179,222,105)",
           "rgb(179,222,105)",
           "rgb(179,222,105)",
           "rgb(179,222,105)",
           "rgb(179,222,105)",
           "rgb(179,222,105)",
           "rgb(179,222,105)",
           "rgb(179,222,105)",
           "rgb(252,205,229)",
           "rgb(252,205,229)",
           "rgb(252,205,229)",
           "rgb(252,205,229)",
           "rgb(252,205,229)",
           "rgb(252,205,229)",
           "rgb(252,205,229)",
           "rgb(252,205,229)",
           "rgb(252,205,229)",
           "rgb(217,217,217)",
           "rgb(217,217,217)",
           "rgb(217,217,217)",
           "rgb(217,217,217)",
           "rgb(217,217,217)",
           "rgb(217,217,217)",
           "rgb(217,217,217)",
           "rgb(217,217,217)",
           "rgb(217,217,217)",
           "rgb(188,128,189)",
           "rgb(188,128,189)",
           "rgb(188,128,189)",
           "rgb(188,128,189)",
           "rgb(188,128,189)",
           "rgb(188,128,189)",
           "rgb(188,128,189)",
           "rgb(188,128,189)",
           "rgb(188,128,189)"
          ],
          "source": [
           0,
           0,
           0,
           0,
           0,
           0,
           0,
           0,
           0,
           1,
           1,
           1,
           1,
           1,
           1,
           1,
           1,
           1,
           2,
           2,
           2,
           2,
           2,
           2,
           2,
           2,
           2,
           3,
           3,
           3,
           3,
           3,
           3,
           3,
           3,
           3,
           4,
           4,
           4,
           4,
           4,
           4,
           4,
           4,
           4,
           5,
           5,
           5,
           5,
           5,
           5,
           5,
           5,
           5,
           6,
           6,
           6,
           6,
           6,
           6,
           6,
           6,
           6,
           7,
           7,
           7,
           7,
           7,
           7,
           7,
           7,
           7,
           8,
           8,
           8,
           8,
           8,
           8,
           8,
           8,
           8,
           9,
           9,
           9,
           9,
           9,
           9,
           9,
           9,
           9
          ],
          "target": [
           10,
           11,
           12,
           13,
           14,
           15,
           16,
           17,
           18,
           10,
           11,
           12,
           13,
           14,
           15,
           16,
           17,
           18,
           10,
           11,
           12,
           13,
           14,
           15,
           16,
           17,
           18,
           10,
           11,
           12,
           13,
           14,
           15,
           16,
           17,
           18,
           10,
           11,
           12,
           13,
           14,
           15,
           16,
           17,
           18,
           10,
           11,
           12,
           13,
           14,
           15,
           16,
           17,
           18,
           10,
           11,
           12,
           13,
           14,
           15,
           16,
           17,
           18,
           10,
           11,
           12,
           13,
           14,
           15,
           16,
           17,
           18,
           10,
           11,
           12,
           13,
           14,
           15,
           16,
           17,
           18,
           10,
           11,
           12,
           13,
           14,
           15,
           16,
           17,
           18
          ],
          "value": [
           0.708307866850715,
           -0.0034569471954219236,
           0.011832084212980829,
           0.04384777508688491,
           0.05301543768302609,
           0.20661652218503945,
           0.005798756337067206,
           0.46073368668875897,
           0.00024905391175645257,
           -0.0009867528791338768,
           0.9794899512876072,
           -0.0023544324710117193,
           -0.002810432607105303,
           -0.0014250142482436575,
           -0.014220845871842367,
           0.000995607345710679,
           -0.002498668167917351,
           0.015371561877310187,
           -0.011809923169326894,
           -0.0006397807005378269,
           1.1679836827306576,
           -0.0006569243612658987,
           -0.0025109606124857167,
           -0.005729244244765071,
           0.00017488182321800827,
           -0.029711075198109643,
           -0.00492419749465865,
           -0.0028811991831495264,
           -0.014999636389470671,
           -0.0038398583999413247,
           0.9121797072477432,
           -0.006539464247196598,
           0.062494989766771744,
           -0.005460964354297781,
           -0.017535818491589535,
           -0.0195892398911498,
           0.014124127702261489,
           0.011737593412080981,
           0.017792533645466665,
           0.017602908989371502,
           0.9218114944145296,
           0.08477526293095788,
           0.002804937599064632,
           0.02884449079484248,
           -0.0013881449015166834,
           -0.021890481379813368,
           -0.011989624494200527,
           -0.003423642911841515,
           -0.026596082462057954,
           -0.006343726766081227,
           1.0717131861955114,
           -0.0013194185060344085,
           -0.0718891435580503,
           0.004328391245622244,
           0.023225746861771486,
           0.1834857523481356,
           0.0020824945955584054,
           0.1548929487779215,
           0.002451044773226694,
           0.3500376461465983,
           0.23571013769636173,
           0.017997639066701973,
           0.15782797637177456,
           -0.007388449989273402,
           0.0001706096910372556,
           -0.016300142178894365,
           -0.005579627238810316,
           -0.031117450160275114,
           -0.013224663866761842,
           3.8287541629710566e-05,
           0.9575248744529439,
           -0.003169877826078747,
           0.006656349540378717,
           -0.0022717811429400006,
           0.004196047826237812,
           -0.0031855217342293264,
           0.005036764293614739,
           0.0427885316202365,
           -0.002561110379887989,
           0.01079592683116632,
           0.9865643100320888,
           0.6908398821745444,
           -0.003925881881342516,
           0.12024451057839933,
           -0.016423798606409395,
           0.004233049510331587,
           -0.09671563754281211,
           -0.0016190599467647137,
           0.18595067779863145,
           -0.00374770193250322
          ]
         },
         "node": {
          "color": [
           "rgb(141,211,199)",
           "rgb(255,255,179)",
           "rgb(190,186,218)",
           "rgb(251,128,114)",
           "rgb(128,177,211)",
           "rgb(253,180,98)",
           "rgb(179,222,105)",
           "rgb(252,205,229)",
           "rgb(217,217,217)",
           "rgb(188,128,189)",
           "rgb(141,211,199)",
           "rgb(255,255,179)",
           "rgb(190,186,218)",
           "rgb(251,128,114)",
           "rgb(128,177,211)",
           "rgb(253,180,98)",
           "rgb(179,222,105)",
           "rgb(252,205,229)",
           "rgb(217,217,217)"
          ],
          "label": [
           [
            " 2019 תמא"
           ],
           [
            " 2019 ג"
           ],
           [
            " 2019 םעדו"
           ],
           [
            " 2019 בט"
           ],
           [
            " 2019 ל"
           ],
           [
            " 2019 לחמ"
           ],
           [
            " 2019 ץנ"
           ],
           [
            " 2019 הפ"
           ],
           [
            " 2019 סש"
           ],
           [
            " 2019 צרמ"
           ],
           [
            " 2020 תמא"
           ],
           [
            " 2020 ג"
           ],
           [
            " 2020 םעדו"
           ],
           [
            " 2020 בט"
           ],
           [
            " 2020 ל"
           ],
           [
            " 2020 לחמ"
           ],
           [
            " 2020 ץנ"
           ],
           [
            " 2020 הפ"
           ],
           [
            " 2020 סש"
           ]
          ],
          "line": {
           "color": "black",
           "width": 2
          },
          "pad": 5,
          "thickness": 5
         },
         "type": "sankey"
        }
       ],
       "layout": {
        "font": {
         "size": 10
        },
        "template": {
         "data": {
          "bar": [
           {
            "error_x": {
             "color": "#2a3f5f"
            },
            "error_y": {
             "color": "#2a3f5f"
            },
            "marker": {
             "line": {
              "color": "#E5ECF6",
              "width": 0.5
             }
            },
            "type": "bar"
           }
          ],
          "barpolar": [
           {
            "marker": {
             "line": {
              "color": "#E5ECF6",
              "width": 0.5
             }
            },
            "type": "barpolar"
           }
          ],
          "carpet": [
           {
            "aaxis": {
             "endlinecolor": "#2a3f5f",
             "gridcolor": "white",
             "linecolor": "white",
             "minorgridcolor": "white",
             "startlinecolor": "#2a3f5f"
            },
            "baxis": {
             "endlinecolor": "#2a3f5f",
             "gridcolor": "white",
             "linecolor": "white",
             "minorgridcolor": "white",
             "startlinecolor": "#2a3f5f"
            },
            "type": "carpet"
           }
          ],
          "choropleth": [
           {
            "colorbar": {
             "outlinewidth": 0,
             "ticks": ""
            },
            "type": "choropleth"
           }
          ],
          "contour": [
           {
            "colorbar": {
             "outlinewidth": 0,
             "ticks": ""
            },
            "colorscale": [
             [
              0.0,
              "#0d0887"
             ],
             [
              0.1111111111111111,
              "#46039f"
             ],
             [
              0.2222222222222222,
              "#7201a8"
             ],
             [
              0.3333333333333333,
              "#9c179e"
             ],
             [
              0.4444444444444444,
              "#bd3786"
             ],
             [
              0.5555555555555556,
              "#d8576b"
             ],
             [
              0.6666666666666666,
              "#ed7953"
             ],
             [
              0.7777777777777778,
              "#fb9f3a"
             ],
             [
              0.8888888888888888,
              "#fdca26"
             ],
             [
              1.0,
              "#f0f921"
             ]
            ],
            "type": "contour"
           }
          ],
          "contourcarpet": [
           {
            "colorbar": {
             "outlinewidth": 0,
             "ticks": ""
            },
            "type": "contourcarpet"
           }
          ],
          "heatmap": [
           {
            "colorbar": {
             "outlinewidth": 0,
             "ticks": ""
            },
            "colorscale": [
             [
              0.0,
              "#0d0887"
             ],
             [
              0.1111111111111111,
              "#46039f"
             ],
             [
              0.2222222222222222,
              "#7201a8"
             ],
             [
              0.3333333333333333,
              "#9c179e"
             ],
             [
              0.4444444444444444,
              "#bd3786"
             ],
             [
              0.5555555555555556,
              "#d8576b"
             ],
             [
              0.6666666666666666,
              "#ed7953"
             ],
             [
              0.7777777777777778,
              "#fb9f3a"
             ],
             [
              0.8888888888888888,
              "#fdca26"
             ],
             [
              1.0,
              "#f0f921"
             ]
            ],
            "type": "heatmap"
           }
          ],
          "heatmapgl": [
           {
            "colorbar": {
             "outlinewidth": 0,
             "ticks": ""
            },
            "colorscale": [
             [
              0.0,
              "#0d0887"
             ],
             [
              0.1111111111111111,
              "#46039f"
             ],
             [
              0.2222222222222222,
              "#7201a8"
             ],
             [
              0.3333333333333333,
              "#9c179e"
             ],
             [
              0.4444444444444444,
              "#bd3786"
             ],
             [
              0.5555555555555556,
              "#d8576b"
             ],
             [
              0.6666666666666666,
              "#ed7953"
             ],
             [
              0.7777777777777778,
              "#fb9f3a"
             ],
             [
              0.8888888888888888,
              "#fdca26"
             ],
             [
              1.0,
              "#f0f921"
             ]
            ],
            "type": "heatmapgl"
           }
          ],
          "histogram": [
           {
            "marker": {
             "colorbar": {
              "outlinewidth": 0,
              "ticks": ""
             }
            },
            "type": "histogram"
           }
          ],
          "histogram2d": [
           {
            "colorbar": {
             "outlinewidth": 0,
             "ticks": ""
            },
            "colorscale": [
             [
              0.0,
              "#0d0887"
             ],
             [
              0.1111111111111111,
              "#46039f"
             ],
             [
              0.2222222222222222,
              "#7201a8"
             ],
             [
              0.3333333333333333,
              "#9c179e"
             ],
             [
              0.4444444444444444,
              "#bd3786"
             ],
             [
              0.5555555555555556,
              "#d8576b"
             ],
             [
              0.6666666666666666,
              "#ed7953"
             ],
             [
              0.7777777777777778,
              "#fb9f3a"
             ],
             [
              0.8888888888888888,
              "#fdca26"
             ],
             [
              1.0,
              "#f0f921"
             ]
            ],
            "type": "histogram2d"
           }
          ],
          "histogram2dcontour": [
           {
            "colorbar": {
             "outlinewidth": 0,
             "ticks": ""
            },
            "colorscale": [
             [
              0.0,
              "#0d0887"
             ],
             [
              0.1111111111111111,
              "#46039f"
             ],
             [
              0.2222222222222222,
              "#7201a8"
             ],
             [
              0.3333333333333333,
              "#9c179e"
             ],
             [
              0.4444444444444444,
              "#bd3786"
             ],
             [
              0.5555555555555556,
              "#d8576b"
             ],
             [
              0.6666666666666666,
              "#ed7953"
             ],
             [
              0.7777777777777778,
              "#fb9f3a"
             ],
             [
              0.8888888888888888,
              "#fdca26"
             ],
             [
              1.0,
              "#f0f921"
             ]
            ],
            "type": "histogram2dcontour"
           }
          ],
          "mesh3d": [
           {
            "colorbar": {
             "outlinewidth": 0,
             "ticks": ""
            },
            "type": "mesh3d"
           }
          ],
          "parcoords": [
           {
            "line": {
             "colorbar": {
              "outlinewidth": 0,
              "ticks": ""
             }
            },
            "type": "parcoords"
           }
          ],
          "pie": [
           {
            "automargin": true,
            "type": "pie"
           }
          ],
          "scatter": [
           {
            "marker": {
             "colorbar": {
              "outlinewidth": 0,
              "ticks": ""
             }
            },
            "type": "scatter"
           }
          ],
          "scatter3d": [
           {
            "line": {
             "colorbar": {
              "outlinewidth": 0,
              "ticks": ""
             }
            },
            "marker": {
             "colorbar": {
              "outlinewidth": 0,
              "ticks": ""
             }
            },
            "type": "scatter3d"
           }
          ],
          "scattercarpet": [
           {
            "marker": {
             "colorbar": {
              "outlinewidth": 0,
              "ticks": ""
             }
            },
            "type": "scattercarpet"
           }
          ],
          "scattergeo": [
           {
            "marker": {
             "colorbar": {
              "outlinewidth": 0,
              "ticks": ""
             }
            },
            "type": "scattergeo"
           }
          ],
          "scattergl": [
           {
            "marker": {
             "colorbar": {
              "outlinewidth": 0,
              "ticks": ""
             }
            },
            "type": "scattergl"
           }
          ],
          "scattermapbox": [
           {
            "marker": {
             "colorbar": {
              "outlinewidth": 0,
              "ticks": ""
             }
            },
            "type": "scattermapbox"
           }
          ],
          "scatterpolar": [
           {
            "marker": {
             "colorbar": {
              "outlinewidth": 0,
              "ticks": ""
             }
            },
            "type": "scatterpolar"
           }
          ],
          "scatterpolargl": [
           {
            "marker": {
             "colorbar": {
              "outlinewidth": 0,
              "ticks": ""
             }
            },
            "type": "scatterpolargl"
           }
          ],
          "scatterternary": [
           {
            "marker": {
             "colorbar": {
              "outlinewidth": 0,
              "ticks": ""
             }
            },
            "type": "scatterternary"
           }
          ],
          "surface": [
           {
            "colorbar": {
             "outlinewidth": 0,
             "ticks": ""
            },
            "colorscale": [
             [
              0.0,
              "#0d0887"
             ],
             [
              0.1111111111111111,
              "#46039f"
             ],
             [
              0.2222222222222222,
              "#7201a8"
             ],
             [
              0.3333333333333333,
              "#9c179e"
             ],
             [
              0.4444444444444444,
              "#bd3786"
             ],
             [
              0.5555555555555556,
              "#d8576b"
             ],
             [
              0.6666666666666666,
              "#ed7953"
             ],
             [
              0.7777777777777778,
              "#fb9f3a"
             ],
             [
              0.8888888888888888,
              "#fdca26"
             ],
             [
              1.0,
              "#f0f921"
             ]
            ],
            "type": "surface"
           }
          ],
          "table": [
           {
            "cells": {
             "fill": {
              "color": "#EBF0F8"
             },
             "line": {
              "color": "white"
             }
            },
            "header": {
             "fill": {
              "color": "#C8D4E3"
             },
             "line": {
              "color": "white"
             }
            },
            "type": "table"
           }
          ]
         },
         "layout": {
          "annotationdefaults": {
           "arrowcolor": "#2a3f5f",
           "arrowhead": 0,
           "arrowwidth": 1
          },
          "autotypenumbers": "strict",
          "coloraxis": {
           "colorbar": {
            "outlinewidth": 0,
            "ticks": ""
           }
          },
          "colorscale": {
           "diverging": [
            [
             0,
             "#8e0152"
            ],
            [
             0.1,
             "#c51b7d"
            ],
            [
             0.2,
             "#de77ae"
            ],
            [
             0.3,
             "#f1b6da"
            ],
            [
             0.4,
             "#fde0ef"
            ],
            [
             0.5,
             "#f7f7f7"
            ],
            [
             0.6,
             "#e6f5d0"
            ],
            [
             0.7,
             "#b8e186"
            ],
            [
             0.8,
             "#7fbc41"
            ],
            [
             0.9,
             "#4d9221"
            ],
            [
             1,
             "#276419"
            ]
           ],
           "sequential": [
            [
             0.0,
             "#0d0887"
            ],
            [
             0.1111111111111111,
             "#46039f"
            ],
            [
             0.2222222222222222,
             "#7201a8"
            ],
            [
             0.3333333333333333,
             "#9c179e"
            ],
            [
             0.4444444444444444,
             "#bd3786"
            ],
            [
             0.5555555555555556,
             "#d8576b"
            ],
            [
             0.6666666666666666,
             "#ed7953"
            ],
            [
             0.7777777777777778,
             "#fb9f3a"
            ],
            [
             0.8888888888888888,
             "#fdca26"
            ],
            [
             1.0,
             "#f0f921"
            ]
           ],
           "sequentialminus": [
            [
             0.0,
             "#0d0887"
            ],
            [
             0.1111111111111111,
             "#46039f"
            ],
            [
             0.2222222222222222,
             "#7201a8"
            ],
            [
             0.3333333333333333,
             "#9c179e"
            ],
            [
             0.4444444444444444,
             "#bd3786"
            ],
            [
             0.5555555555555556,
             "#d8576b"
            ],
            [
             0.6666666666666666,
             "#ed7953"
            ],
            [
             0.7777777777777778,
             "#fb9f3a"
            ],
            [
             0.8888888888888888,
             "#fdca26"
            ],
            [
             1.0,
             "#f0f921"
            ]
           ]
          },
          "colorway": [
           "#636efa",
           "#EF553B",
           "#00cc96",
           "#ab63fa",
           "#FFA15A",
           "#19d3f3",
           "#FF6692",
           "#B6E880",
           "#FF97FF",
           "#FECB52"
          ],
          "font": {
           "color": "#2a3f5f"
          },
          "geo": {
           "bgcolor": "white",
           "lakecolor": "white",
           "landcolor": "#E5ECF6",
           "showlakes": true,
           "showland": true,
           "subunitcolor": "white"
          },
          "hoverlabel": {
           "align": "left"
          },
          "hovermode": "closest",
          "mapbox": {
           "style": "light"
          },
          "paper_bgcolor": "white",
          "plot_bgcolor": "#E5ECF6",
          "polar": {
           "angularaxis": {
            "gridcolor": "white",
            "linecolor": "white",
            "ticks": ""
           },
           "bgcolor": "#E5ECF6",
           "radialaxis": {
            "gridcolor": "white",
            "linecolor": "white",
            "ticks": ""
           }
          },
          "scene": {
           "xaxis": {
            "backgroundcolor": "#E5ECF6",
            "gridcolor": "white",
            "gridwidth": 2,
            "linecolor": "white",
            "showbackground": true,
            "ticks": "",
            "zerolinecolor": "white"
           },
           "yaxis": {
            "backgroundcolor": "#E5ECF6",
            "gridcolor": "white",
            "gridwidth": 2,
            "linecolor": "white",
            "showbackground": true,
            "ticks": "",
            "zerolinecolor": "white"
           },
           "zaxis": {
            "backgroundcolor": "#E5ECF6",
            "gridcolor": "white",
            "gridwidth": 2,
            "linecolor": "white",
            "showbackground": true,
            "ticks": "",
            "zerolinecolor": "white"
           }
          },
          "shapedefaults": {
           "line": {
            "color": "#2a3f5f"
           }
          },
          "ternary": {
           "aaxis": {
            "gridcolor": "white",
            "linecolor": "white",
            "ticks": ""
           },
           "baxis": {
            "gridcolor": "white",
            "linecolor": "white",
            "ticks": ""
           },
           "bgcolor": "#E5ECF6",
           "caxis": {
            "gridcolor": "white",
            "linecolor": "white",
            "ticks": ""
           }
          },
          "title": {
           "x": 0.05
          },
          "xaxis": {
           "automargin": true,
           "gridcolor": "white",
           "linecolor": "white",
           "ticks": "",
           "title": {
            "standoff": 15
           },
           "zerolinecolor": "white",
           "zerolinewidth": 2
          },
          "yaxis": {
           "automargin": true,
           "gridcolor": "white",
           "linecolor": "white",
           "ticks": "",
           "title": {
            "standoff": 15
           },
           "zerolinecolor": "white",
           "zerolinewidth": 2
          }
         }
        },
        "title": {
         "text": "Elections votes transition Q1_1"
        }
       }
      },
      "text/html": "<div>                            <div id=\"4143c2d6-c6b8-4897-ab3f-d822155e2595\" class=\"plotly-graph-div\" style=\"height:525px; width:100%;\"></div>            <script type=\"text/javascript\">                require([\"plotly\"], function(Plotly) {                    window.PLOTLYENV=window.PLOTLYENV || {};                                    if (document.getElementById(\"4143c2d6-c6b8-4897-ab3f-d822155e2595\")) {                    Plotly.newPlot(                        \"4143c2d6-c6b8-4897-ab3f-d822155e2595\",                        [{\"link\": {\"color\": [\"rgb(141,211,199)\", \"rgb(141,211,199)\", \"rgb(141,211,199)\", \"rgb(141,211,199)\", \"rgb(141,211,199)\", \"rgb(141,211,199)\", \"rgb(141,211,199)\", \"rgb(141,211,199)\", \"rgb(141,211,199)\", \"rgb(255,255,179)\", \"rgb(255,255,179)\", \"rgb(255,255,179)\", \"rgb(255,255,179)\", \"rgb(255,255,179)\", \"rgb(255,255,179)\", \"rgb(255,255,179)\", \"rgb(255,255,179)\", \"rgb(255,255,179)\", \"rgb(190,186,218)\", \"rgb(190,186,218)\", \"rgb(190,186,218)\", \"rgb(190,186,218)\", \"rgb(190,186,218)\", \"rgb(190,186,218)\", \"rgb(190,186,218)\", \"rgb(190,186,218)\", \"rgb(190,186,218)\", \"rgb(251,128,114)\", \"rgb(251,128,114)\", \"rgb(251,128,114)\", \"rgb(251,128,114)\", \"rgb(251,128,114)\", \"rgb(251,128,114)\", \"rgb(251,128,114)\", \"rgb(251,128,114)\", \"rgb(251,128,114)\", \"rgb(128,177,211)\", \"rgb(128,177,211)\", \"rgb(128,177,211)\", \"rgb(128,177,211)\", \"rgb(128,177,211)\", \"rgb(128,177,211)\", \"rgb(128,177,211)\", \"rgb(128,177,211)\", \"rgb(128,177,211)\", \"rgb(253,180,98)\", \"rgb(253,180,98)\", \"rgb(253,180,98)\", \"rgb(253,180,98)\", \"rgb(253,180,98)\", \"rgb(253,180,98)\", \"rgb(253,180,98)\", \"rgb(253,180,98)\", \"rgb(253,180,98)\", \"rgb(179,222,105)\", \"rgb(179,222,105)\", \"rgb(179,222,105)\", \"rgb(179,222,105)\", \"rgb(179,222,105)\", \"rgb(179,222,105)\", \"rgb(179,222,105)\", \"rgb(179,222,105)\", \"rgb(179,222,105)\", \"rgb(252,205,229)\", \"rgb(252,205,229)\", \"rgb(252,205,229)\", \"rgb(252,205,229)\", \"rgb(252,205,229)\", \"rgb(252,205,229)\", \"rgb(252,205,229)\", \"rgb(252,205,229)\", \"rgb(252,205,229)\", \"rgb(217,217,217)\", \"rgb(217,217,217)\", \"rgb(217,217,217)\", \"rgb(217,217,217)\", \"rgb(217,217,217)\", \"rgb(217,217,217)\", \"rgb(217,217,217)\", \"rgb(217,217,217)\", \"rgb(217,217,217)\", \"rgb(188,128,189)\", \"rgb(188,128,189)\", \"rgb(188,128,189)\", \"rgb(188,128,189)\", \"rgb(188,128,189)\", \"rgb(188,128,189)\", \"rgb(188,128,189)\", \"rgb(188,128,189)\", \"rgb(188,128,189)\"], \"source\": [0, 0, 0, 0, 0, 0, 0, 0, 0, 1, 1, 1, 1, 1, 1, 1, 1, 1, 2, 2, 2, 2, 2, 2, 2, 2, 2, 3, 3, 3, 3, 3, 3, 3, 3, 3, 4, 4, 4, 4, 4, 4, 4, 4, 4, 5, 5, 5, 5, 5, 5, 5, 5, 5, 6, 6, 6, 6, 6, 6, 6, 6, 6, 7, 7, 7, 7, 7, 7, 7, 7, 7, 8, 8, 8, 8, 8, 8, 8, 8, 8, 9, 9, 9, 9, 9, 9, 9, 9, 9], \"target\": [10, 11, 12, 13, 14, 15, 16, 17, 18, 10, 11, 12, 13, 14, 15, 16, 17, 18, 10, 11, 12, 13, 14, 15, 16, 17, 18, 10, 11, 12, 13, 14, 15, 16, 17, 18, 10, 11, 12, 13, 14, 15, 16, 17, 18, 10, 11, 12, 13, 14, 15, 16, 17, 18, 10, 11, 12, 13, 14, 15, 16, 17, 18, 10, 11, 12, 13, 14, 15, 16, 17, 18, 10, 11, 12, 13, 14, 15, 16, 17, 18, 10, 11, 12, 13, 14, 15, 16, 17, 18], \"value\": [0.708307866850715, -0.0034569471954219236, 0.011832084212980829, 0.04384777508688491, 0.05301543768302609, 0.20661652218503945, 0.005798756337067206, 0.46073368668875897, 0.00024905391175645257, -0.0009867528791338768, 0.9794899512876072, -0.0023544324710117193, -0.002810432607105303, -0.0014250142482436575, -0.014220845871842367, 0.000995607345710679, -0.002498668167917351, 0.015371561877310187, -0.011809923169326894, -0.0006397807005378269, 1.1679836827306576, -0.0006569243612658987, -0.0025109606124857167, -0.005729244244765071, 0.00017488182321800827, -0.029711075198109643, -0.00492419749465865, -0.0028811991831495264, -0.014999636389470671, -0.0038398583999413247, 0.9121797072477432, -0.006539464247196598, 0.062494989766771744, -0.005460964354297781, -0.017535818491589535, -0.0195892398911498, 0.014124127702261489, 0.011737593412080981, 0.017792533645466665, 0.017602908989371502, 0.9218114944145296, 0.08477526293095788, 0.002804937599064632, 0.02884449079484248, -0.0013881449015166834, -0.021890481379813368, -0.011989624494200527, -0.003423642911841515, -0.026596082462057954, -0.006343726766081227, 1.0717131861955114, -0.0013194185060344085, -0.0718891435580503, 0.004328391245622244, 0.023225746861771486, 0.1834857523481356, 0.0020824945955584054, 0.1548929487779215, 0.002451044773226694, 0.3500376461465983, 0.23571013769636173, 0.017997639066701973, 0.15782797637177456, -0.007388449989273402, 0.0001706096910372556, -0.016300142178894365, -0.005579627238810316, -0.031117450160275114, -0.013224663866761842, 3.8287541629710566e-05, 0.9575248744529439, -0.003169877826078747, 0.006656349540378717, -0.0022717811429400006, 0.004196047826237812, -0.0031855217342293264, 0.005036764293614739, 0.0427885316202365, -0.002561110379887989, 0.01079592683116632, 0.9865643100320888, 0.6908398821745444, -0.003925881881342516, 0.12024451057839933, -0.016423798606409395, 0.004233049510331587, -0.09671563754281211, -0.0016190599467647137, 0.18595067779863145, -0.00374770193250322]}, \"node\": {\"color\": [\"rgb(141,211,199)\", \"rgb(255,255,179)\", \"rgb(190,186,218)\", \"rgb(251,128,114)\", \"rgb(128,177,211)\", \"rgb(253,180,98)\", \"rgb(179,222,105)\", \"rgb(252,205,229)\", \"rgb(217,217,217)\", \"rgb(188,128,189)\", \"rgb(141,211,199)\", \"rgb(255,255,179)\", \"rgb(190,186,218)\", \"rgb(251,128,114)\", \"rgb(128,177,211)\", \"rgb(253,180,98)\", \"rgb(179,222,105)\", \"rgb(252,205,229)\", \"rgb(217,217,217)\"], \"label\": [[\" 2019 \\u05ea\\u05de\\u05d0\"], [\" 2019 \\u05d2\"], [\" 2019 \\u05dd\\u05e2\\u05d3\\u05d5\"], [\" 2019 \\u05d1\\u05d8\"], [\" 2019 \\u05dc\"], [\" 2019 \\u05dc\\u05d7\\u05de\"], [\" 2019 \\u05e5\\u05e0\"], [\" 2019 \\u05d4\\u05e4\"], [\" 2019 \\u05e1\\u05e9\"], [\" 2019 \\u05e6\\u05e8\\u05de\"], [\" 2020 \\u05ea\\u05de\\u05d0\"], [\" 2020 \\u05d2\"], [\" 2020 \\u05dd\\u05e2\\u05d3\\u05d5\"], [\" 2020 \\u05d1\\u05d8\"], [\" 2020 \\u05dc\"], [\" 2020 \\u05dc\\u05d7\\u05de\"], [\" 2020 \\u05e5\\u05e0\"], [\" 2020 \\u05d4\\u05e4\"], [\" 2020 \\u05e1\\u05e9\"]], \"line\": {\"color\": \"black\", \"width\": 2}, \"pad\": 5, \"thickness\": 5}, \"type\": \"sankey\"}],                        {\"font\": {\"size\": 10}, \"template\": {\"data\": {\"bar\": [{\"error_x\": {\"color\": \"#2a3f5f\"}, \"error_y\": {\"color\": \"#2a3f5f\"}, \"marker\": {\"line\": {\"color\": \"#E5ECF6\", \"width\": 0.5}}, \"type\": \"bar\"}], \"barpolar\": [{\"marker\": {\"line\": {\"color\": \"#E5ECF6\", \"width\": 0.5}}, \"type\": \"barpolar\"}], \"carpet\": [{\"aaxis\": {\"endlinecolor\": \"#2a3f5f\", \"gridcolor\": \"white\", \"linecolor\": \"white\", \"minorgridcolor\": \"white\", \"startlinecolor\": \"#2a3f5f\"}, \"baxis\": {\"endlinecolor\": \"#2a3f5f\", \"gridcolor\": \"white\", \"linecolor\": \"white\", \"minorgridcolor\": \"white\", \"startlinecolor\": \"#2a3f5f\"}, \"type\": \"carpet\"}], \"choropleth\": [{\"colorbar\": {\"outlinewidth\": 0, \"ticks\": \"\"}, \"type\": \"choropleth\"}], \"contour\": [{\"colorbar\": {\"outlinewidth\": 0, \"ticks\": \"\"}, \"colorscale\": [[0.0, \"#0d0887\"], [0.1111111111111111, \"#46039f\"], [0.2222222222222222, \"#7201a8\"], [0.3333333333333333, \"#9c179e\"], [0.4444444444444444, \"#bd3786\"], [0.5555555555555556, \"#d8576b\"], [0.6666666666666666, \"#ed7953\"], [0.7777777777777778, \"#fb9f3a\"], [0.8888888888888888, \"#fdca26\"], [1.0, \"#f0f921\"]], \"type\": \"contour\"}], \"contourcarpet\": [{\"colorbar\": {\"outlinewidth\": 0, \"ticks\": \"\"}, \"type\": \"contourcarpet\"}], \"heatmap\": [{\"colorbar\": {\"outlinewidth\": 0, \"ticks\": \"\"}, \"colorscale\": [[0.0, \"#0d0887\"], [0.1111111111111111, \"#46039f\"], [0.2222222222222222, \"#7201a8\"], [0.3333333333333333, \"#9c179e\"], [0.4444444444444444, \"#bd3786\"], [0.5555555555555556, \"#d8576b\"], [0.6666666666666666, \"#ed7953\"], [0.7777777777777778, \"#fb9f3a\"], [0.8888888888888888, \"#fdca26\"], [1.0, \"#f0f921\"]], \"type\": \"heatmap\"}], \"heatmapgl\": [{\"colorbar\": {\"outlinewidth\": 0, \"ticks\": \"\"}, \"colorscale\": [[0.0, \"#0d0887\"], [0.1111111111111111, \"#46039f\"], [0.2222222222222222, \"#7201a8\"], [0.3333333333333333, \"#9c179e\"], [0.4444444444444444, \"#bd3786\"], [0.5555555555555556, \"#d8576b\"], [0.6666666666666666, \"#ed7953\"], [0.7777777777777778, \"#fb9f3a\"], [0.8888888888888888, \"#fdca26\"], [1.0, \"#f0f921\"]], \"type\": \"heatmapgl\"}], \"histogram\": [{\"marker\": {\"colorbar\": {\"outlinewidth\": 0, \"ticks\": \"\"}}, \"type\": \"histogram\"}], \"histogram2d\": [{\"colorbar\": {\"outlinewidth\": 0, \"ticks\": \"\"}, \"colorscale\": [[0.0, \"#0d0887\"], [0.1111111111111111, \"#46039f\"], [0.2222222222222222, \"#7201a8\"], [0.3333333333333333, \"#9c179e\"], [0.4444444444444444, \"#bd3786\"], [0.5555555555555556, \"#d8576b\"], [0.6666666666666666, \"#ed7953\"], [0.7777777777777778, \"#fb9f3a\"], [0.8888888888888888, \"#fdca26\"], [1.0, \"#f0f921\"]], \"type\": \"histogram2d\"}], \"histogram2dcontour\": [{\"colorbar\": {\"outlinewidth\": 0, \"ticks\": \"\"}, \"colorscale\": [[0.0, \"#0d0887\"], [0.1111111111111111, \"#46039f\"], [0.2222222222222222, \"#7201a8\"], [0.3333333333333333, \"#9c179e\"], [0.4444444444444444, \"#bd3786\"], [0.5555555555555556, \"#d8576b\"], [0.6666666666666666, \"#ed7953\"], [0.7777777777777778, \"#fb9f3a\"], [0.8888888888888888, \"#fdca26\"], [1.0, \"#f0f921\"]], \"type\": \"histogram2dcontour\"}], \"mesh3d\": [{\"colorbar\": {\"outlinewidth\": 0, \"ticks\": \"\"}, \"type\": \"mesh3d\"}], \"parcoords\": [{\"line\": {\"colorbar\": {\"outlinewidth\": 0, \"ticks\": \"\"}}, \"type\": \"parcoords\"}], \"pie\": [{\"automargin\": true, \"type\": \"pie\"}], \"scatter\": [{\"marker\": {\"colorbar\": {\"outlinewidth\": 0, \"ticks\": \"\"}}, \"type\": \"scatter\"}], \"scatter3d\": [{\"line\": {\"colorbar\": {\"outlinewidth\": 0, \"ticks\": \"\"}}, \"marker\": {\"colorbar\": {\"outlinewidth\": 0, \"ticks\": \"\"}}, \"type\": \"scatter3d\"}], \"scattercarpet\": [{\"marker\": {\"colorbar\": {\"outlinewidth\": 0, \"ticks\": \"\"}}, \"type\": \"scattercarpet\"}], \"scattergeo\": [{\"marker\": {\"colorbar\": {\"outlinewidth\": 0, \"ticks\": \"\"}}, \"type\": \"scattergeo\"}], \"scattergl\": [{\"marker\": {\"colorbar\": {\"outlinewidth\": 0, \"ticks\": \"\"}}, \"type\": \"scattergl\"}], \"scattermapbox\": [{\"marker\": {\"colorbar\": {\"outlinewidth\": 0, \"ticks\": \"\"}}, \"type\": \"scattermapbox\"}], \"scatterpolar\": [{\"marker\": {\"colorbar\": {\"outlinewidth\": 0, \"ticks\": \"\"}}, \"type\": \"scatterpolar\"}], \"scatterpolargl\": [{\"marker\": {\"colorbar\": {\"outlinewidth\": 0, \"ticks\": \"\"}}, \"type\": \"scatterpolargl\"}], \"scatterternary\": [{\"marker\": {\"colorbar\": {\"outlinewidth\": 0, \"ticks\": \"\"}}, \"type\": \"scatterternary\"}], \"surface\": [{\"colorbar\": {\"outlinewidth\": 0, \"ticks\": \"\"}, \"colorscale\": [[0.0, \"#0d0887\"], [0.1111111111111111, \"#46039f\"], [0.2222222222222222, \"#7201a8\"], [0.3333333333333333, \"#9c179e\"], [0.4444444444444444, \"#bd3786\"], [0.5555555555555556, \"#d8576b\"], [0.6666666666666666, \"#ed7953\"], [0.7777777777777778, \"#fb9f3a\"], [0.8888888888888888, \"#fdca26\"], [1.0, \"#f0f921\"]], \"type\": \"surface\"}], \"table\": [{\"cells\": {\"fill\": {\"color\": \"#EBF0F8\"}, \"line\": {\"color\": \"white\"}}, \"header\": {\"fill\": {\"color\": \"#C8D4E3\"}, \"line\": {\"color\": \"white\"}}, \"type\": \"table\"}]}, \"layout\": {\"annotationdefaults\": {\"arrowcolor\": \"#2a3f5f\", \"arrowhead\": 0, \"arrowwidth\": 1}, \"autotypenumbers\": \"strict\", \"coloraxis\": {\"colorbar\": {\"outlinewidth\": 0, \"ticks\": \"\"}}, \"colorscale\": {\"diverging\": [[0, \"#8e0152\"], [0.1, \"#c51b7d\"], [0.2, \"#de77ae\"], [0.3, \"#f1b6da\"], [0.4, \"#fde0ef\"], [0.5, \"#f7f7f7\"], [0.6, \"#e6f5d0\"], [0.7, \"#b8e186\"], [0.8, \"#7fbc41\"], [0.9, \"#4d9221\"], [1, \"#276419\"]], \"sequential\": [[0.0, \"#0d0887\"], [0.1111111111111111, \"#46039f\"], [0.2222222222222222, \"#7201a8\"], [0.3333333333333333, \"#9c179e\"], [0.4444444444444444, \"#bd3786\"], [0.5555555555555556, \"#d8576b\"], [0.6666666666666666, \"#ed7953\"], [0.7777777777777778, \"#fb9f3a\"], [0.8888888888888888, \"#fdca26\"], [1.0, \"#f0f921\"]], \"sequentialminus\": [[0.0, \"#0d0887\"], [0.1111111111111111, \"#46039f\"], [0.2222222222222222, \"#7201a8\"], [0.3333333333333333, \"#9c179e\"], [0.4444444444444444, \"#bd3786\"], [0.5555555555555556, \"#d8576b\"], [0.6666666666666666, \"#ed7953\"], [0.7777777777777778, \"#fb9f3a\"], [0.8888888888888888, \"#fdca26\"], [1.0, \"#f0f921\"]]}, \"colorway\": [\"#636efa\", \"#EF553B\", \"#00cc96\", \"#ab63fa\", \"#FFA15A\", \"#19d3f3\", \"#FF6692\", \"#B6E880\", \"#FF97FF\", \"#FECB52\"], \"font\": {\"color\": \"#2a3f5f\"}, \"geo\": {\"bgcolor\": \"white\", \"lakecolor\": \"white\", \"landcolor\": \"#E5ECF6\", \"showlakes\": true, \"showland\": true, \"subunitcolor\": \"white\"}, \"hoverlabel\": {\"align\": \"left\"}, \"hovermode\": \"closest\", \"mapbox\": {\"style\": \"light\"}, \"paper_bgcolor\": \"white\", \"plot_bgcolor\": \"#E5ECF6\", \"polar\": {\"angularaxis\": {\"gridcolor\": \"white\", \"linecolor\": \"white\", \"ticks\": \"\"}, \"bgcolor\": \"#E5ECF6\", \"radialaxis\": {\"gridcolor\": \"white\", \"linecolor\": \"white\", \"ticks\": \"\"}}, \"scene\": {\"xaxis\": {\"backgroundcolor\": \"#E5ECF6\", \"gridcolor\": \"white\", \"gridwidth\": 2, \"linecolor\": \"white\", \"showbackground\": true, \"ticks\": \"\", \"zerolinecolor\": \"white\"}, \"yaxis\": {\"backgroundcolor\": \"#E5ECF6\", \"gridcolor\": \"white\", \"gridwidth\": 2, \"linecolor\": \"white\", \"showbackground\": true, \"ticks\": \"\", \"zerolinecolor\": \"white\"}, \"zaxis\": {\"backgroundcolor\": \"#E5ECF6\", \"gridcolor\": \"white\", \"gridwidth\": 2, \"linecolor\": \"white\", \"showbackground\": true, \"ticks\": \"\", \"zerolinecolor\": \"white\"}}, \"shapedefaults\": {\"line\": {\"color\": \"#2a3f5f\"}}, \"ternary\": {\"aaxis\": {\"gridcolor\": \"white\", \"linecolor\": \"white\", \"ticks\": \"\"}, \"baxis\": {\"gridcolor\": \"white\", \"linecolor\": \"white\", \"ticks\": \"\"}, \"bgcolor\": \"#E5ECF6\", \"caxis\": {\"gridcolor\": \"white\", \"linecolor\": \"white\", \"ticks\": \"\"}}, \"title\": {\"x\": 0.05}, \"xaxis\": {\"automargin\": true, \"gridcolor\": \"white\", \"linecolor\": \"white\", \"ticks\": \"\", \"title\": {\"standoff\": 15}, \"zerolinecolor\": \"white\", \"zerolinewidth\": 2}, \"yaxis\": {\"automargin\": true, \"gridcolor\": \"white\", \"linecolor\": \"white\", \"ticks\": \"\", \"title\": {\"standoff\": 15}, \"zerolinecolor\": \"white\", \"zerolinewidth\": 2}}}, \"title\": {\"text\": \"Elections votes transition Q1_1\"}},                        {\"responsive\": true}                    ).then(function(){\n                            \nvar gd = document.getElementById('4143c2d6-c6b8-4897-ab3f-d822155e2595');\nvar x = new MutationObserver(function (mutations, observer) {{\n        var display = window.getComputedStyle(gd).display;\n        if (!display || display === 'none') {{\n            console.log([gd, 'removed!']);\n            Plotly.purge(gd);\n            observer.disconnect();\n        }}\n}});\n\n// Listen for the removal of the full notebook cells\nvar notebookContainer = gd.closest('#notebook-container');\nif (notebookContainer) {{\n    x.observe(notebookContainer, {childList: true});\n}}\n\n// Listen for the clearing of the current output cell\nvar outputEl = gd.closest('.output');\nif (outputEl) {{\n    x.observe(outputEl, {childList: true});\n}}\n\n                        })                };                });            </script>        </div>"
     },
     "metadata": {},
     "output_type": "display_data"
    }
   ],
   "source": [
    "import plotly.graph_objects as go\n",
    "import plotly.express as px\n",
    "\n",
    "\n",
    "current_q = M_q1_1\n",
    "combined_names =  [\" 2019 \" + name  for name in list(current_q.index)] +\\\n",
    "                 [\" 2020 \" + name for name in list(current_q.columns)]\n",
    "combined_names = pd.DataFrame(combined_names)\n",
    "#display(combined_names)\n",
    "#display(current_q)\n",
    "\n",
    "# source = np.tile(np.arange(0,11), (10,1)).T.flatten()\n",
    "# target = np.tile(np.arange(11,21), 11)\n",
    "\n",
    "source = np.tile(np.arange(0,10), (9,1)).T.flatten()\n",
    "#print(source)\n",
    "target = np.tile(np.arange(10,19), 10)\n",
    "#print(target)\n",
    "colors = px.colors.qualitative.Set3[:-2]\n",
    "color_node = colors + colors[:8] + colors[10:] + [colors[8]]\n",
    "np_color = np.tile(np.array(colors), (9,1)).T.flatten()\n",
    "#print(np_color)\n",
    "\n",
    "fig = go.Figure(data=[go.Sankey(\n",
    "    node = dict(\n",
    "      pad = 5,\n",
    "      thickness = 5,\n",
    "      line = dict(color = \"black\", width = 2),\n",
    "      label = combined_names,  # parties names\n",
    "      color = color_node\n",
    "    ),\n",
    "    link = dict(\n",
    "        # from 0-10 is 2019. from 11-20 is 2020 print\n",
    "      source = source, # 2019\n",
    "      target = target,  # 2020\n",
    "      value = current_q.to_numpy().flatten(),\n",
    "      color = np_color\n",
    "  ))])\n",
    "\n",
    "fig.update_layout(title_text=\"Elections votes transition Q1_1\", font_size=10)\n",
    "fig.show()\n"
   ],
   "metadata": {
    "collapsed": false,
    "pycharm": {
     "name": "#%%\n",
     "is_executing": false
    }
   }
  },
  {
   "cell_type": "markdown",
   "source": [
    "בקוד הבא ניתן לראות את גרף sankey plot תחת וריאציית המעברים עבור שאלה 1 סעיף 2"
   ],
   "metadata": {
    "collapsed": false,
    "pycharm": {
     "name": "#%% md\n",
     "is_executing": false
    }
   }
  },
  {
   "cell_type": "code",
   "execution_count": 94,
   "outputs": [
    {
     "data": {
      "application/vnd.plotly.v1+json": {
       "config": {
        "plotlyServerURL": "https://plot.ly"
       },
       "data": [
        {
         "link": {
          "color": [
           "rgb(141,211,199)",
           "rgb(141,211,199)",
           "rgb(141,211,199)",
           "rgb(141,211,199)",
           "rgb(141,211,199)",
           "rgb(141,211,199)",
           "rgb(141,211,199)",
           "rgb(141,211,199)",
           "rgb(141,211,199)",
           "rgb(255,255,179)",
           "rgb(255,255,179)",
           "rgb(255,255,179)",
           "rgb(255,255,179)",
           "rgb(255,255,179)",
           "rgb(255,255,179)",
           "rgb(255,255,179)",
           "rgb(255,255,179)",
           "rgb(255,255,179)",
           "rgb(190,186,218)",
           "rgb(190,186,218)",
           "rgb(190,186,218)",
           "rgb(190,186,218)",
           "rgb(190,186,218)",
           "rgb(190,186,218)",
           "rgb(190,186,218)",
           "rgb(190,186,218)",
           "rgb(190,186,218)",
           "rgb(251,128,114)",
           "rgb(251,128,114)",
           "rgb(251,128,114)",
           "rgb(251,128,114)",
           "rgb(251,128,114)",
           "rgb(251,128,114)",
           "rgb(251,128,114)",
           "rgb(251,128,114)",
           "rgb(251,128,114)",
           "rgb(128,177,211)",
           "rgb(128,177,211)",
           "rgb(128,177,211)",
           "rgb(128,177,211)",
           "rgb(128,177,211)",
           "rgb(128,177,211)",
           "rgb(128,177,211)",
           "rgb(128,177,211)",
           "rgb(128,177,211)",
           "rgb(253,180,98)",
           "rgb(253,180,98)",
           "rgb(253,180,98)",
           "rgb(253,180,98)",
           "rgb(253,180,98)",
           "rgb(253,180,98)",
           "rgb(253,180,98)",
           "rgb(253,180,98)",
           "rgb(253,180,98)",
           "rgb(179,222,105)",
           "rgb(179,222,105)",
           "rgb(179,222,105)",
           "rgb(179,222,105)",
           "rgb(179,222,105)",
           "rgb(179,222,105)",
           "rgb(179,222,105)",
           "rgb(179,222,105)",
           "rgb(179,222,105)",
           "rgb(252,205,229)",
           "rgb(252,205,229)",
           "rgb(252,205,229)",
           "rgb(252,205,229)",
           "rgb(252,205,229)",
           "rgb(252,205,229)",
           "rgb(252,205,229)",
           "rgb(252,205,229)",
           "rgb(252,205,229)",
           "rgb(217,217,217)",
           "rgb(217,217,217)",
           "rgb(217,217,217)",
           "rgb(217,217,217)",
           "rgb(217,217,217)",
           "rgb(217,217,217)",
           "rgb(217,217,217)",
           "rgb(217,217,217)",
           "rgb(217,217,217)",
           "rgb(188,128,189)",
           "rgb(188,128,189)",
           "rgb(188,128,189)",
           "rgb(188,128,189)",
           "rgb(188,128,189)",
           "rgb(188,128,189)",
           "rgb(188,128,189)",
           "rgb(188,128,189)",
           "rgb(188,128,189)"
          ],
          "source": [
           0,
           0,
           0,
           0,
           0,
           0,
           0,
           0,
           0,
           1,
           1,
           1,
           1,
           1,
           1,
           1,
           1,
           1,
           2,
           2,
           2,
           2,
           2,
           2,
           2,
           2,
           2,
           3,
           3,
           3,
           3,
           3,
           3,
           3,
           3,
           3,
           4,
           4,
           4,
           4,
           4,
           4,
           4,
           4,
           4,
           5,
           5,
           5,
           5,
           5,
           5,
           5,
           5,
           5,
           6,
           6,
           6,
           6,
           6,
           6,
           6,
           6,
           6,
           7,
           7,
           7,
           7,
           7,
           7,
           7,
           7,
           7,
           8,
           8,
           8,
           8,
           8,
           8,
           8,
           8,
           8,
           9,
           9,
           9,
           9,
           9,
           9,
           9,
           9,
           9
          ],
          "target": [
           10,
           11,
           12,
           13,
           14,
           15,
           16,
           17,
           18,
           10,
           11,
           12,
           13,
           14,
           15,
           16,
           17,
           18,
           10,
           11,
           12,
           13,
           14,
           15,
           16,
           17,
           18,
           10,
           11,
           12,
           13,
           14,
           15,
           16,
           17,
           18,
           10,
           11,
           12,
           13,
           14,
           15,
           16,
           17,
           18,
           10,
           11,
           12,
           13,
           14,
           15,
           16,
           17,
           18,
           10,
           11,
           12,
           13,
           14,
           15,
           16,
           17,
           18,
           10,
           11,
           12,
           13,
           14,
           15,
           16,
           17,
           18,
           10,
           11,
           12,
           13,
           14,
           15,
           16,
           17,
           18,
           10,
           11,
           12,
           13,
           14,
           15,
           16,
           17,
           18
          ],
          "value": [
           0.4753258764961816,
           0.0,
           0.00794018542292584,
           0.029425032674349386,
           0.03557719822674822,
           0.1386546501916739,
           0.0038913854659829474,
           0.30918567152213805,
           0.0,
           0.0,
           0.98454904358657,
           0.0,
           0.0,
           0.0,
           0.0,
           0.0,
           0.0,
           0.015450956413430033,
           0.0,
           0.0,
           1.0,
           0.0,
           0.0,
           0.0,
           0.0,
           0.0,
           0.0,
           0.0,
           0.0,
           0.0,
           0.9358811817335594,
           0.0,
           0.06411881826644061,
           0.0,
           0.0,
           0.0,
           0.012878888432792588,
           0.01070276049681058,
           0.016223873118903016,
           0.01605096652662084,
           0.8405409270499347,
           0.07730113860225493,
           0.0,
           0.026301445772683625,
           0.0,
           0.0,
           0.0,
           0.0,
           0.0,
           0.0,
           1.0,
           0.0,
           0.0,
           0.0,
           0.020678601272487048,
           0.16336304423581427,
           0.0,
           0.13790598626433578,
           0.0,
           0.31164935009858863,
           0.20986003086637958,
           0.01602385509156798,
           0.1405191321708268,
           0.0,
           0.0,
           0.0,
           0.0,
           0.0,
           0.0,
           0.0,
           1.0,
           0.0,
           0.006328279613389252,
           0.0,
           0.0,
           0.0,
           0.004788518481996,
           0.04067962337263285,
           0.0,
           0.010263830536373059,
           0.9379397479956088,
           0.6928942647848497,
           0.0,
           0.12060208725845342,
           0.0,
           0.0,
           0.0,
           0.0,
           0.1865036479566969,
           0.0
          ]
         },
         "node": {
          "color": [
           "rgb(141,211,199)",
           "rgb(255,255,179)",
           "rgb(190,186,218)",
           "rgb(251,128,114)",
           "rgb(128,177,211)",
           "rgb(253,180,98)",
           "rgb(179,222,105)",
           "rgb(252,205,229)",
           "rgb(217,217,217)",
           "rgb(188,128,189)",
           "rgb(141,211,199)",
           "rgb(255,255,179)",
           "rgb(190,186,218)",
           "rgb(251,128,114)",
           "rgb(128,177,211)",
           "rgb(253,180,98)",
           "rgb(179,222,105)",
           "rgb(252,205,229)",
           "rgb(217,217,217)"
          ],
          "label": [
           [
            " 2019 תמא"
           ],
           [
            " 2019 ג"
           ],
           [
            " 2019 םעדו"
           ],
           [
            " 2019 בט"
           ],
           [
            " 2019 ל"
           ],
           [
            " 2019 לחמ"
           ],
           [
            " 2019 ץנ"
           ],
           [
            " 2019 הפ"
           ],
           [
            " 2019 סש"
           ],
           [
            " 2019 צרמ"
           ],
           [
            " 2020 תמא"
           ],
           [
            " 2020 ג"
           ],
           [
            " 2020 םעדו"
           ],
           [
            " 2020 בט"
           ],
           [
            " 2020 ל"
           ],
           [
            " 2020 לחמ"
           ],
           [
            " 2020 ץנ"
           ],
           [
            " 2020 הפ"
           ],
           [
            " 2020 סש"
           ]
          ],
          "line": {
           "color": "black",
           "width": 2
          },
          "pad": 5,
          "thickness": 5
         },
         "type": "sankey"
        }
       ],
       "layout": {
        "font": {
         "size": 10
        },
        "template": {
         "data": {
          "bar": [
           {
            "error_x": {
             "color": "#2a3f5f"
            },
            "error_y": {
             "color": "#2a3f5f"
            },
            "marker": {
             "line": {
              "color": "#E5ECF6",
              "width": 0.5
             }
            },
            "type": "bar"
           }
          ],
          "barpolar": [
           {
            "marker": {
             "line": {
              "color": "#E5ECF6",
              "width": 0.5
             }
            },
            "type": "barpolar"
           }
          ],
          "carpet": [
           {
            "aaxis": {
             "endlinecolor": "#2a3f5f",
             "gridcolor": "white",
             "linecolor": "white",
             "minorgridcolor": "white",
             "startlinecolor": "#2a3f5f"
            },
            "baxis": {
             "endlinecolor": "#2a3f5f",
             "gridcolor": "white",
             "linecolor": "white",
             "minorgridcolor": "white",
             "startlinecolor": "#2a3f5f"
            },
            "type": "carpet"
           }
          ],
          "choropleth": [
           {
            "colorbar": {
             "outlinewidth": 0,
             "ticks": ""
            },
            "type": "choropleth"
           }
          ],
          "contour": [
           {
            "colorbar": {
             "outlinewidth": 0,
             "ticks": ""
            },
            "colorscale": [
             [
              0.0,
              "#0d0887"
             ],
             [
              0.1111111111111111,
              "#46039f"
             ],
             [
              0.2222222222222222,
              "#7201a8"
             ],
             [
              0.3333333333333333,
              "#9c179e"
             ],
             [
              0.4444444444444444,
              "#bd3786"
             ],
             [
              0.5555555555555556,
              "#d8576b"
             ],
             [
              0.6666666666666666,
              "#ed7953"
             ],
             [
              0.7777777777777778,
              "#fb9f3a"
             ],
             [
              0.8888888888888888,
              "#fdca26"
             ],
             [
              1.0,
              "#f0f921"
             ]
            ],
            "type": "contour"
           }
          ],
          "contourcarpet": [
           {
            "colorbar": {
             "outlinewidth": 0,
             "ticks": ""
            },
            "type": "contourcarpet"
           }
          ],
          "heatmap": [
           {
            "colorbar": {
             "outlinewidth": 0,
             "ticks": ""
            },
            "colorscale": [
             [
              0.0,
              "#0d0887"
             ],
             [
              0.1111111111111111,
              "#46039f"
             ],
             [
              0.2222222222222222,
              "#7201a8"
             ],
             [
              0.3333333333333333,
              "#9c179e"
             ],
             [
              0.4444444444444444,
              "#bd3786"
             ],
             [
              0.5555555555555556,
              "#d8576b"
             ],
             [
              0.6666666666666666,
              "#ed7953"
             ],
             [
              0.7777777777777778,
              "#fb9f3a"
             ],
             [
              0.8888888888888888,
              "#fdca26"
             ],
             [
              1.0,
              "#f0f921"
             ]
            ],
            "type": "heatmap"
           }
          ],
          "heatmapgl": [
           {
            "colorbar": {
             "outlinewidth": 0,
             "ticks": ""
            },
            "colorscale": [
             [
              0.0,
              "#0d0887"
             ],
             [
              0.1111111111111111,
              "#46039f"
             ],
             [
              0.2222222222222222,
              "#7201a8"
             ],
             [
              0.3333333333333333,
              "#9c179e"
             ],
             [
              0.4444444444444444,
              "#bd3786"
             ],
             [
              0.5555555555555556,
              "#d8576b"
             ],
             [
              0.6666666666666666,
              "#ed7953"
             ],
             [
              0.7777777777777778,
              "#fb9f3a"
             ],
             [
              0.8888888888888888,
              "#fdca26"
             ],
             [
              1.0,
              "#f0f921"
             ]
            ],
            "type": "heatmapgl"
           }
          ],
          "histogram": [
           {
            "marker": {
             "colorbar": {
              "outlinewidth": 0,
              "ticks": ""
             }
            },
            "type": "histogram"
           }
          ],
          "histogram2d": [
           {
            "colorbar": {
             "outlinewidth": 0,
             "ticks": ""
            },
            "colorscale": [
             [
              0.0,
              "#0d0887"
             ],
             [
              0.1111111111111111,
              "#46039f"
             ],
             [
              0.2222222222222222,
              "#7201a8"
             ],
             [
              0.3333333333333333,
              "#9c179e"
             ],
             [
              0.4444444444444444,
              "#bd3786"
             ],
             [
              0.5555555555555556,
              "#d8576b"
             ],
             [
              0.6666666666666666,
              "#ed7953"
             ],
             [
              0.7777777777777778,
              "#fb9f3a"
             ],
             [
              0.8888888888888888,
              "#fdca26"
             ],
             [
              1.0,
              "#f0f921"
             ]
            ],
            "type": "histogram2d"
           }
          ],
          "histogram2dcontour": [
           {
            "colorbar": {
             "outlinewidth": 0,
             "ticks": ""
            },
            "colorscale": [
             [
              0.0,
              "#0d0887"
             ],
             [
              0.1111111111111111,
              "#46039f"
             ],
             [
              0.2222222222222222,
              "#7201a8"
             ],
             [
              0.3333333333333333,
              "#9c179e"
             ],
             [
              0.4444444444444444,
              "#bd3786"
             ],
             [
              0.5555555555555556,
              "#d8576b"
             ],
             [
              0.6666666666666666,
              "#ed7953"
             ],
             [
              0.7777777777777778,
              "#fb9f3a"
             ],
             [
              0.8888888888888888,
              "#fdca26"
             ],
             [
              1.0,
              "#f0f921"
             ]
            ],
            "type": "histogram2dcontour"
           }
          ],
          "mesh3d": [
           {
            "colorbar": {
             "outlinewidth": 0,
             "ticks": ""
            },
            "type": "mesh3d"
           }
          ],
          "parcoords": [
           {
            "line": {
             "colorbar": {
              "outlinewidth": 0,
              "ticks": ""
             }
            },
            "type": "parcoords"
           }
          ],
          "pie": [
           {
            "automargin": true,
            "type": "pie"
           }
          ],
          "scatter": [
           {
            "marker": {
             "colorbar": {
              "outlinewidth": 0,
              "ticks": ""
             }
            },
            "type": "scatter"
           }
          ],
          "scatter3d": [
           {
            "line": {
             "colorbar": {
              "outlinewidth": 0,
              "ticks": ""
             }
            },
            "marker": {
             "colorbar": {
              "outlinewidth": 0,
              "ticks": ""
             }
            },
            "type": "scatter3d"
           }
          ],
          "scattercarpet": [
           {
            "marker": {
             "colorbar": {
              "outlinewidth": 0,
              "ticks": ""
             }
            },
            "type": "scattercarpet"
           }
          ],
          "scattergeo": [
           {
            "marker": {
             "colorbar": {
              "outlinewidth": 0,
              "ticks": ""
             }
            },
            "type": "scattergeo"
           }
          ],
          "scattergl": [
           {
            "marker": {
             "colorbar": {
              "outlinewidth": 0,
              "ticks": ""
             }
            },
            "type": "scattergl"
           }
          ],
          "scattermapbox": [
           {
            "marker": {
             "colorbar": {
              "outlinewidth": 0,
              "ticks": ""
             }
            },
            "type": "scattermapbox"
           }
          ],
          "scatterpolar": [
           {
            "marker": {
             "colorbar": {
              "outlinewidth": 0,
              "ticks": ""
             }
            },
            "type": "scatterpolar"
           }
          ],
          "scatterpolargl": [
           {
            "marker": {
             "colorbar": {
              "outlinewidth": 0,
              "ticks": ""
             }
            },
            "type": "scatterpolargl"
           }
          ],
          "scatterternary": [
           {
            "marker": {
             "colorbar": {
              "outlinewidth": 0,
              "ticks": ""
             }
            },
            "type": "scatterternary"
           }
          ],
          "surface": [
           {
            "colorbar": {
             "outlinewidth": 0,
             "ticks": ""
            },
            "colorscale": [
             [
              0.0,
              "#0d0887"
             ],
             [
              0.1111111111111111,
              "#46039f"
             ],
             [
              0.2222222222222222,
              "#7201a8"
             ],
             [
              0.3333333333333333,
              "#9c179e"
             ],
             [
              0.4444444444444444,
              "#bd3786"
             ],
             [
              0.5555555555555556,
              "#d8576b"
             ],
             [
              0.6666666666666666,
              "#ed7953"
             ],
             [
              0.7777777777777778,
              "#fb9f3a"
             ],
             [
              0.8888888888888888,
              "#fdca26"
             ],
             [
              1.0,
              "#f0f921"
             ]
            ],
            "type": "surface"
           }
          ],
          "table": [
           {
            "cells": {
             "fill": {
              "color": "#EBF0F8"
             },
             "line": {
              "color": "white"
             }
            },
            "header": {
             "fill": {
              "color": "#C8D4E3"
             },
             "line": {
              "color": "white"
             }
            },
            "type": "table"
           }
          ]
         },
         "layout": {
          "annotationdefaults": {
           "arrowcolor": "#2a3f5f",
           "arrowhead": 0,
           "arrowwidth": 1
          },
          "autotypenumbers": "strict",
          "coloraxis": {
           "colorbar": {
            "outlinewidth": 0,
            "ticks": ""
           }
          },
          "colorscale": {
           "diverging": [
            [
             0,
             "#8e0152"
            ],
            [
             0.1,
             "#c51b7d"
            ],
            [
             0.2,
             "#de77ae"
            ],
            [
             0.3,
             "#f1b6da"
            ],
            [
             0.4,
             "#fde0ef"
            ],
            [
             0.5,
             "#f7f7f7"
            ],
            [
             0.6,
             "#e6f5d0"
            ],
            [
             0.7,
             "#b8e186"
            ],
            [
             0.8,
             "#7fbc41"
            ],
            [
             0.9,
             "#4d9221"
            ],
            [
             1,
             "#276419"
            ]
           ],
           "sequential": [
            [
             0.0,
             "#0d0887"
            ],
            [
             0.1111111111111111,
             "#46039f"
            ],
            [
             0.2222222222222222,
             "#7201a8"
            ],
            [
             0.3333333333333333,
             "#9c179e"
            ],
            [
             0.4444444444444444,
             "#bd3786"
            ],
            [
             0.5555555555555556,
             "#d8576b"
            ],
            [
             0.6666666666666666,
             "#ed7953"
            ],
            [
             0.7777777777777778,
             "#fb9f3a"
            ],
            [
             0.8888888888888888,
             "#fdca26"
            ],
            [
             1.0,
             "#f0f921"
            ]
           ],
           "sequentialminus": [
            [
             0.0,
             "#0d0887"
            ],
            [
             0.1111111111111111,
             "#46039f"
            ],
            [
             0.2222222222222222,
             "#7201a8"
            ],
            [
             0.3333333333333333,
             "#9c179e"
            ],
            [
             0.4444444444444444,
             "#bd3786"
            ],
            [
             0.5555555555555556,
             "#d8576b"
            ],
            [
             0.6666666666666666,
             "#ed7953"
            ],
            [
             0.7777777777777778,
             "#fb9f3a"
            ],
            [
             0.8888888888888888,
             "#fdca26"
            ],
            [
             1.0,
             "#f0f921"
            ]
           ]
          },
          "colorway": [
           "#636efa",
           "#EF553B",
           "#00cc96",
           "#ab63fa",
           "#FFA15A",
           "#19d3f3",
           "#FF6692",
           "#B6E880",
           "#FF97FF",
           "#FECB52"
          ],
          "font": {
           "color": "#2a3f5f"
          },
          "geo": {
           "bgcolor": "white",
           "lakecolor": "white",
           "landcolor": "#E5ECF6",
           "showlakes": true,
           "showland": true,
           "subunitcolor": "white"
          },
          "hoverlabel": {
           "align": "left"
          },
          "hovermode": "closest",
          "mapbox": {
           "style": "light"
          },
          "paper_bgcolor": "white",
          "plot_bgcolor": "#E5ECF6",
          "polar": {
           "angularaxis": {
            "gridcolor": "white",
            "linecolor": "white",
            "ticks": ""
           },
           "bgcolor": "#E5ECF6",
           "radialaxis": {
            "gridcolor": "white",
            "linecolor": "white",
            "ticks": ""
           }
          },
          "scene": {
           "xaxis": {
            "backgroundcolor": "#E5ECF6",
            "gridcolor": "white",
            "gridwidth": 2,
            "linecolor": "white",
            "showbackground": true,
            "ticks": "",
            "zerolinecolor": "white"
           },
           "yaxis": {
            "backgroundcolor": "#E5ECF6",
            "gridcolor": "white",
            "gridwidth": 2,
            "linecolor": "white",
            "showbackground": true,
            "ticks": "",
            "zerolinecolor": "white"
           },
           "zaxis": {
            "backgroundcolor": "#E5ECF6",
            "gridcolor": "white",
            "gridwidth": 2,
            "linecolor": "white",
            "showbackground": true,
            "ticks": "",
            "zerolinecolor": "white"
           }
          },
          "shapedefaults": {
           "line": {
            "color": "#2a3f5f"
           }
          },
          "ternary": {
           "aaxis": {
            "gridcolor": "white",
            "linecolor": "white",
            "ticks": ""
           },
           "baxis": {
            "gridcolor": "white",
            "linecolor": "white",
            "ticks": ""
           },
           "bgcolor": "#E5ECF6",
           "caxis": {
            "gridcolor": "white",
            "linecolor": "white",
            "ticks": ""
           }
          },
          "title": {
           "x": 0.05
          },
          "xaxis": {
           "automargin": true,
           "gridcolor": "white",
           "linecolor": "white",
           "ticks": "",
           "title": {
            "standoff": 15
           },
           "zerolinecolor": "white",
           "zerolinewidth": 2
          },
          "yaxis": {
           "automargin": true,
           "gridcolor": "white",
           "linecolor": "white",
           "ticks": "",
           "title": {
            "standoff": 15
           },
           "zerolinecolor": "white",
           "zerolinewidth": 2
          }
         }
        },
        "title": {
         "text": "Elections votes transition Q1_2"
        }
       }
      },
      "text/html": "<div>                            <div id=\"2dd36896-426c-4ce0-9cad-ab65cf022dc3\" class=\"plotly-graph-div\" style=\"height:525px; width:100%;\"></div>            <script type=\"text/javascript\">                require([\"plotly\"], function(Plotly) {                    window.PLOTLYENV=window.PLOTLYENV || {};                                    if (document.getElementById(\"2dd36896-426c-4ce0-9cad-ab65cf022dc3\")) {                    Plotly.newPlot(                        \"2dd36896-426c-4ce0-9cad-ab65cf022dc3\",                        [{\"link\": {\"color\": [\"rgb(141,211,199)\", \"rgb(141,211,199)\", \"rgb(141,211,199)\", \"rgb(141,211,199)\", \"rgb(141,211,199)\", \"rgb(141,211,199)\", \"rgb(141,211,199)\", \"rgb(141,211,199)\", \"rgb(141,211,199)\", \"rgb(255,255,179)\", \"rgb(255,255,179)\", \"rgb(255,255,179)\", \"rgb(255,255,179)\", \"rgb(255,255,179)\", \"rgb(255,255,179)\", \"rgb(255,255,179)\", \"rgb(255,255,179)\", \"rgb(255,255,179)\", \"rgb(190,186,218)\", \"rgb(190,186,218)\", \"rgb(190,186,218)\", \"rgb(190,186,218)\", \"rgb(190,186,218)\", \"rgb(190,186,218)\", \"rgb(190,186,218)\", \"rgb(190,186,218)\", \"rgb(190,186,218)\", \"rgb(251,128,114)\", \"rgb(251,128,114)\", \"rgb(251,128,114)\", \"rgb(251,128,114)\", \"rgb(251,128,114)\", \"rgb(251,128,114)\", \"rgb(251,128,114)\", \"rgb(251,128,114)\", \"rgb(251,128,114)\", \"rgb(128,177,211)\", \"rgb(128,177,211)\", \"rgb(128,177,211)\", \"rgb(128,177,211)\", \"rgb(128,177,211)\", \"rgb(128,177,211)\", \"rgb(128,177,211)\", \"rgb(128,177,211)\", \"rgb(128,177,211)\", \"rgb(253,180,98)\", \"rgb(253,180,98)\", \"rgb(253,180,98)\", \"rgb(253,180,98)\", \"rgb(253,180,98)\", \"rgb(253,180,98)\", \"rgb(253,180,98)\", \"rgb(253,180,98)\", \"rgb(253,180,98)\", \"rgb(179,222,105)\", \"rgb(179,222,105)\", \"rgb(179,222,105)\", \"rgb(179,222,105)\", \"rgb(179,222,105)\", \"rgb(179,222,105)\", \"rgb(179,222,105)\", \"rgb(179,222,105)\", \"rgb(179,222,105)\", \"rgb(252,205,229)\", \"rgb(252,205,229)\", \"rgb(252,205,229)\", \"rgb(252,205,229)\", \"rgb(252,205,229)\", \"rgb(252,205,229)\", \"rgb(252,205,229)\", \"rgb(252,205,229)\", \"rgb(252,205,229)\", \"rgb(217,217,217)\", \"rgb(217,217,217)\", \"rgb(217,217,217)\", \"rgb(217,217,217)\", \"rgb(217,217,217)\", \"rgb(217,217,217)\", \"rgb(217,217,217)\", \"rgb(217,217,217)\", \"rgb(217,217,217)\", \"rgb(188,128,189)\", \"rgb(188,128,189)\", \"rgb(188,128,189)\", \"rgb(188,128,189)\", \"rgb(188,128,189)\", \"rgb(188,128,189)\", \"rgb(188,128,189)\", \"rgb(188,128,189)\", \"rgb(188,128,189)\"], \"source\": [0, 0, 0, 0, 0, 0, 0, 0, 0, 1, 1, 1, 1, 1, 1, 1, 1, 1, 2, 2, 2, 2, 2, 2, 2, 2, 2, 3, 3, 3, 3, 3, 3, 3, 3, 3, 4, 4, 4, 4, 4, 4, 4, 4, 4, 5, 5, 5, 5, 5, 5, 5, 5, 5, 6, 6, 6, 6, 6, 6, 6, 6, 6, 7, 7, 7, 7, 7, 7, 7, 7, 7, 8, 8, 8, 8, 8, 8, 8, 8, 8, 9, 9, 9, 9, 9, 9, 9, 9, 9], \"target\": [10, 11, 12, 13, 14, 15, 16, 17, 18, 10, 11, 12, 13, 14, 15, 16, 17, 18, 10, 11, 12, 13, 14, 15, 16, 17, 18, 10, 11, 12, 13, 14, 15, 16, 17, 18, 10, 11, 12, 13, 14, 15, 16, 17, 18, 10, 11, 12, 13, 14, 15, 16, 17, 18, 10, 11, 12, 13, 14, 15, 16, 17, 18, 10, 11, 12, 13, 14, 15, 16, 17, 18, 10, 11, 12, 13, 14, 15, 16, 17, 18, 10, 11, 12, 13, 14, 15, 16, 17, 18], \"value\": [0.4753258764961816, 0.0, 0.00794018542292584, 0.029425032674349386, 0.03557719822674822, 0.1386546501916739, 0.0038913854659829474, 0.30918567152213805, 0.0, 0.0, 0.98454904358657, 0.0, 0.0, 0.0, 0.0, 0.0, 0.0, 0.015450956413430033, 0.0, 0.0, 1.0, 0.0, 0.0, 0.0, 0.0, 0.0, 0.0, 0.0, 0.0, 0.0, 0.9358811817335594, 0.0, 0.06411881826644061, 0.0, 0.0, 0.0, 0.012878888432792588, 0.01070276049681058, 0.016223873118903016, 0.01605096652662084, 0.8405409270499347, 0.07730113860225493, 0.0, 0.026301445772683625, 0.0, 0.0, 0.0, 0.0, 0.0, 0.0, 1.0, 0.0, 0.0, 0.0, 0.020678601272487048, 0.16336304423581427, 0.0, 0.13790598626433578, 0.0, 0.31164935009858863, 0.20986003086637958, 0.01602385509156798, 0.1405191321708268, 0.0, 0.0, 0.0, 0.0, 0.0, 0.0, 0.0, 1.0, 0.0, 0.006328279613389252, 0.0, 0.0, 0.0, 0.004788518481996, 0.04067962337263285, 0.0, 0.010263830536373059, 0.9379397479956088, 0.6928942647848497, 0.0, 0.12060208725845342, 0.0, 0.0, 0.0, 0.0, 0.1865036479566969, 0.0]}, \"node\": {\"color\": [\"rgb(141,211,199)\", \"rgb(255,255,179)\", \"rgb(190,186,218)\", \"rgb(251,128,114)\", \"rgb(128,177,211)\", \"rgb(253,180,98)\", \"rgb(179,222,105)\", \"rgb(252,205,229)\", \"rgb(217,217,217)\", \"rgb(188,128,189)\", \"rgb(141,211,199)\", \"rgb(255,255,179)\", \"rgb(190,186,218)\", \"rgb(251,128,114)\", \"rgb(128,177,211)\", \"rgb(253,180,98)\", \"rgb(179,222,105)\", \"rgb(252,205,229)\", \"rgb(217,217,217)\"], \"label\": [[\" 2019 \\u05ea\\u05de\\u05d0\"], [\" 2019 \\u05d2\"], [\" 2019 \\u05dd\\u05e2\\u05d3\\u05d5\"], [\" 2019 \\u05d1\\u05d8\"], [\" 2019 \\u05dc\"], [\" 2019 \\u05dc\\u05d7\\u05de\"], [\" 2019 \\u05e5\\u05e0\"], [\" 2019 \\u05d4\\u05e4\"], [\" 2019 \\u05e1\\u05e9\"], [\" 2019 \\u05e6\\u05e8\\u05de\"], [\" 2020 \\u05ea\\u05de\\u05d0\"], [\" 2020 \\u05d2\"], [\" 2020 \\u05dd\\u05e2\\u05d3\\u05d5\"], [\" 2020 \\u05d1\\u05d8\"], [\" 2020 \\u05dc\"], [\" 2020 \\u05dc\\u05d7\\u05de\"], [\" 2020 \\u05e5\\u05e0\"], [\" 2020 \\u05d4\\u05e4\"], [\" 2020 \\u05e1\\u05e9\"]], \"line\": {\"color\": \"black\", \"width\": 2}, \"pad\": 5, \"thickness\": 5}, \"type\": \"sankey\"}],                        {\"font\": {\"size\": 10}, \"template\": {\"data\": {\"bar\": [{\"error_x\": {\"color\": \"#2a3f5f\"}, \"error_y\": {\"color\": \"#2a3f5f\"}, \"marker\": {\"line\": {\"color\": \"#E5ECF6\", \"width\": 0.5}}, \"type\": \"bar\"}], \"barpolar\": [{\"marker\": {\"line\": {\"color\": \"#E5ECF6\", \"width\": 0.5}}, \"type\": \"barpolar\"}], \"carpet\": [{\"aaxis\": {\"endlinecolor\": \"#2a3f5f\", \"gridcolor\": \"white\", \"linecolor\": \"white\", \"minorgridcolor\": \"white\", \"startlinecolor\": \"#2a3f5f\"}, \"baxis\": {\"endlinecolor\": \"#2a3f5f\", \"gridcolor\": \"white\", \"linecolor\": \"white\", \"minorgridcolor\": \"white\", \"startlinecolor\": \"#2a3f5f\"}, \"type\": \"carpet\"}], \"choropleth\": [{\"colorbar\": {\"outlinewidth\": 0, \"ticks\": \"\"}, \"type\": \"choropleth\"}], \"contour\": [{\"colorbar\": {\"outlinewidth\": 0, \"ticks\": \"\"}, \"colorscale\": [[0.0, \"#0d0887\"], [0.1111111111111111, \"#46039f\"], [0.2222222222222222, \"#7201a8\"], [0.3333333333333333, \"#9c179e\"], [0.4444444444444444, \"#bd3786\"], [0.5555555555555556, \"#d8576b\"], [0.6666666666666666, \"#ed7953\"], [0.7777777777777778, \"#fb9f3a\"], [0.8888888888888888, \"#fdca26\"], [1.0, \"#f0f921\"]], \"type\": \"contour\"}], \"contourcarpet\": [{\"colorbar\": {\"outlinewidth\": 0, \"ticks\": \"\"}, \"type\": \"contourcarpet\"}], \"heatmap\": [{\"colorbar\": {\"outlinewidth\": 0, \"ticks\": \"\"}, \"colorscale\": [[0.0, \"#0d0887\"], [0.1111111111111111, \"#46039f\"], [0.2222222222222222, \"#7201a8\"], [0.3333333333333333, \"#9c179e\"], [0.4444444444444444, \"#bd3786\"], [0.5555555555555556, \"#d8576b\"], [0.6666666666666666, \"#ed7953\"], [0.7777777777777778, \"#fb9f3a\"], [0.8888888888888888, \"#fdca26\"], [1.0, \"#f0f921\"]], \"type\": \"heatmap\"}], \"heatmapgl\": [{\"colorbar\": {\"outlinewidth\": 0, \"ticks\": \"\"}, \"colorscale\": [[0.0, \"#0d0887\"], [0.1111111111111111, \"#46039f\"], [0.2222222222222222, \"#7201a8\"], [0.3333333333333333, \"#9c179e\"], [0.4444444444444444, \"#bd3786\"], [0.5555555555555556, \"#d8576b\"], [0.6666666666666666, \"#ed7953\"], [0.7777777777777778, \"#fb9f3a\"], [0.8888888888888888, \"#fdca26\"], [1.0, \"#f0f921\"]], \"type\": \"heatmapgl\"}], \"histogram\": [{\"marker\": {\"colorbar\": {\"outlinewidth\": 0, \"ticks\": \"\"}}, \"type\": \"histogram\"}], \"histogram2d\": [{\"colorbar\": {\"outlinewidth\": 0, \"ticks\": \"\"}, \"colorscale\": [[0.0, \"#0d0887\"], [0.1111111111111111, \"#46039f\"], [0.2222222222222222, \"#7201a8\"], [0.3333333333333333, \"#9c179e\"], [0.4444444444444444, \"#bd3786\"], [0.5555555555555556, \"#d8576b\"], [0.6666666666666666, \"#ed7953\"], [0.7777777777777778, \"#fb9f3a\"], [0.8888888888888888, \"#fdca26\"], [1.0, \"#f0f921\"]], \"type\": \"histogram2d\"}], \"histogram2dcontour\": [{\"colorbar\": {\"outlinewidth\": 0, \"ticks\": \"\"}, \"colorscale\": [[0.0, \"#0d0887\"], [0.1111111111111111, \"#46039f\"], [0.2222222222222222, \"#7201a8\"], [0.3333333333333333, \"#9c179e\"], [0.4444444444444444, \"#bd3786\"], [0.5555555555555556, \"#d8576b\"], [0.6666666666666666, \"#ed7953\"], [0.7777777777777778, \"#fb9f3a\"], [0.8888888888888888, \"#fdca26\"], [1.0, \"#f0f921\"]], \"type\": \"histogram2dcontour\"}], \"mesh3d\": [{\"colorbar\": {\"outlinewidth\": 0, \"ticks\": \"\"}, \"type\": \"mesh3d\"}], \"parcoords\": [{\"line\": {\"colorbar\": {\"outlinewidth\": 0, \"ticks\": \"\"}}, \"type\": \"parcoords\"}], \"pie\": [{\"automargin\": true, \"type\": \"pie\"}], \"scatter\": [{\"marker\": {\"colorbar\": {\"outlinewidth\": 0, \"ticks\": \"\"}}, \"type\": \"scatter\"}], \"scatter3d\": [{\"line\": {\"colorbar\": {\"outlinewidth\": 0, \"ticks\": \"\"}}, \"marker\": {\"colorbar\": {\"outlinewidth\": 0, \"ticks\": \"\"}}, \"type\": \"scatter3d\"}], \"scattercarpet\": [{\"marker\": {\"colorbar\": {\"outlinewidth\": 0, \"ticks\": \"\"}}, \"type\": \"scattercarpet\"}], \"scattergeo\": [{\"marker\": {\"colorbar\": {\"outlinewidth\": 0, \"ticks\": \"\"}}, \"type\": \"scattergeo\"}], \"scattergl\": [{\"marker\": {\"colorbar\": {\"outlinewidth\": 0, \"ticks\": \"\"}}, \"type\": \"scattergl\"}], \"scattermapbox\": [{\"marker\": {\"colorbar\": {\"outlinewidth\": 0, \"ticks\": \"\"}}, \"type\": \"scattermapbox\"}], \"scatterpolar\": [{\"marker\": {\"colorbar\": {\"outlinewidth\": 0, \"ticks\": \"\"}}, \"type\": \"scatterpolar\"}], \"scatterpolargl\": [{\"marker\": {\"colorbar\": {\"outlinewidth\": 0, \"ticks\": \"\"}}, \"type\": \"scatterpolargl\"}], \"scatterternary\": [{\"marker\": {\"colorbar\": {\"outlinewidth\": 0, \"ticks\": \"\"}}, \"type\": \"scatterternary\"}], \"surface\": [{\"colorbar\": {\"outlinewidth\": 0, \"ticks\": \"\"}, \"colorscale\": [[0.0, \"#0d0887\"], [0.1111111111111111, \"#46039f\"], [0.2222222222222222, \"#7201a8\"], [0.3333333333333333, \"#9c179e\"], [0.4444444444444444, \"#bd3786\"], [0.5555555555555556, \"#d8576b\"], [0.6666666666666666, \"#ed7953\"], [0.7777777777777778, \"#fb9f3a\"], [0.8888888888888888, \"#fdca26\"], [1.0, \"#f0f921\"]], \"type\": \"surface\"}], \"table\": [{\"cells\": {\"fill\": {\"color\": \"#EBF0F8\"}, \"line\": {\"color\": \"white\"}}, \"header\": {\"fill\": {\"color\": \"#C8D4E3\"}, \"line\": {\"color\": \"white\"}}, \"type\": \"table\"}]}, \"layout\": {\"annotationdefaults\": {\"arrowcolor\": \"#2a3f5f\", \"arrowhead\": 0, \"arrowwidth\": 1}, \"autotypenumbers\": \"strict\", \"coloraxis\": {\"colorbar\": {\"outlinewidth\": 0, \"ticks\": \"\"}}, \"colorscale\": {\"diverging\": [[0, \"#8e0152\"], [0.1, \"#c51b7d\"], [0.2, \"#de77ae\"], [0.3, \"#f1b6da\"], [0.4, \"#fde0ef\"], [0.5, \"#f7f7f7\"], [0.6, \"#e6f5d0\"], [0.7, \"#b8e186\"], [0.8, \"#7fbc41\"], [0.9, \"#4d9221\"], [1, \"#276419\"]], \"sequential\": [[0.0, \"#0d0887\"], [0.1111111111111111, \"#46039f\"], [0.2222222222222222, \"#7201a8\"], [0.3333333333333333, \"#9c179e\"], [0.4444444444444444, \"#bd3786\"], [0.5555555555555556, \"#d8576b\"], [0.6666666666666666, \"#ed7953\"], [0.7777777777777778, \"#fb9f3a\"], [0.8888888888888888, \"#fdca26\"], [1.0, \"#f0f921\"]], \"sequentialminus\": [[0.0, \"#0d0887\"], [0.1111111111111111, \"#46039f\"], [0.2222222222222222, \"#7201a8\"], [0.3333333333333333, \"#9c179e\"], [0.4444444444444444, \"#bd3786\"], [0.5555555555555556, \"#d8576b\"], [0.6666666666666666, \"#ed7953\"], [0.7777777777777778, \"#fb9f3a\"], [0.8888888888888888, \"#fdca26\"], [1.0, \"#f0f921\"]]}, \"colorway\": [\"#636efa\", \"#EF553B\", \"#00cc96\", \"#ab63fa\", \"#FFA15A\", \"#19d3f3\", \"#FF6692\", \"#B6E880\", \"#FF97FF\", \"#FECB52\"], \"font\": {\"color\": \"#2a3f5f\"}, \"geo\": {\"bgcolor\": \"white\", \"lakecolor\": \"white\", \"landcolor\": \"#E5ECF6\", \"showlakes\": true, \"showland\": true, \"subunitcolor\": \"white\"}, \"hoverlabel\": {\"align\": \"left\"}, \"hovermode\": \"closest\", \"mapbox\": {\"style\": \"light\"}, \"paper_bgcolor\": \"white\", \"plot_bgcolor\": \"#E5ECF6\", \"polar\": {\"angularaxis\": {\"gridcolor\": \"white\", \"linecolor\": \"white\", \"ticks\": \"\"}, \"bgcolor\": \"#E5ECF6\", \"radialaxis\": {\"gridcolor\": \"white\", \"linecolor\": \"white\", \"ticks\": \"\"}}, \"scene\": {\"xaxis\": {\"backgroundcolor\": \"#E5ECF6\", \"gridcolor\": \"white\", \"gridwidth\": 2, \"linecolor\": \"white\", \"showbackground\": true, \"ticks\": \"\", \"zerolinecolor\": \"white\"}, \"yaxis\": {\"backgroundcolor\": \"#E5ECF6\", \"gridcolor\": \"white\", \"gridwidth\": 2, \"linecolor\": \"white\", \"showbackground\": true, \"ticks\": \"\", \"zerolinecolor\": \"white\"}, \"zaxis\": {\"backgroundcolor\": \"#E5ECF6\", \"gridcolor\": \"white\", \"gridwidth\": 2, \"linecolor\": \"white\", \"showbackground\": true, \"ticks\": \"\", \"zerolinecolor\": \"white\"}}, \"shapedefaults\": {\"line\": {\"color\": \"#2a3f5f\"}}, \"ternary\": {\"aaxis\": {\"gridcolor\": \"white\", \"linecolor\": \"white\", \"ticks\": \"\"}, \"baxis\": {\"gridcolor\": \"white\", \"linecolor\": \"white\", \"ticks\": \"\"}, \"bgcolor\": \"#E5ECF6\", \"caxis\": {\"gridcolor\": \"white\", \"linecolor\": \"white\", \"ticks\": \"\"}}, \"title\": {\"x\": 0.05}, \"xaxis\": {\"automargin\": true, \"gridcolor\": \"white\", \"linecolor\": \"white\", \"ticks\": \"\", \"title\": {\"standoff\": 15}, \"zerolinecolor\": \"white\", \"zerolinewidth\": 2}, \"yaxis\": {\"automargin\": true, \"gridcolor\": \"white\", \"linecolor\": \"white\", \"ticks\": \"\", \"title\": {\"standoff\": 15}, \"zerolinecolor\": \"white\", \"zerolinewidth\": 2}}}, \"title\": {\"text\": \"Elections votes transition Q1_2\"}},                        {\"responsive\": true}                    ).then(function(){\n                            \nvar gd = document.getElementById('2dd36896-426c-4ce0-9cad-ab65cf022dc3');\nvar x = new MutationObserver(function (mutations, observer) {{\n        var display = window.getComputedStyle(gd).display;\n        if (!display || display === 'none') {{\n            console.log([gd, 'removed!']);\n            Plotly.purge(gd);\n            observer.disconnect();\n        }}\n}});\n\n// Listen for the removal of the full notebook cells\nvar notebookContainer = gd.closest('#notebook-container');\nif (notebookContainer) {{\n    x.observe(notebookContainer, {childList: true});\n}}\n\n// Listen for the clearing of the current output cell\nvar outputEl = gd.closest('.output');\nif (outputEl) {{\n    x.observe(outputEl, {childList: true});\n}}\n\n                        })                };                });            </script>        </div>"
     },
     "metadata": {},
     "output_type": "display_data"
    }
   ],
   "source": [
    "\n",
    "\n",
    "\n",
    "current_q = M_q1_2\n",
    "combined_names =  [\" 2019 \" + name  for name in list(current_q.index)] +\\\n",
    "                 [\" 2020 \" + name for name in list(current_q.columns)]\n",
    "combined_names = pd.DataFrame(combined_names)\n",
    "#display(combined_names)\n",
    "#display(current_q)\n",
    "\n",
    "# source = np.tile(np.arange(0,11), (10,1)).T.flatten()\n",
    "# target = np.tile(np.arange(11,21), 11)\n",
    "\n",
    "source = np.tile(np.arange(0,10), (9,1)).T.flatten()\n",
    "#print(source)\n",
    "target = np.tile(np.arange(10,19), 10)\n",
    "#print(target)\n",
    "colors = px.colors.qualitative.Set3[:-2]\n",
    "color_node = colors + colors[:8] + colors[10:] + [colors[8]]\n",
    "np_color = np.tile(np.array(colors), (9,1)).T.flatten()\n",
    "#print(np_color)\n",
    "\n",
    "fig = go.Figure(data=[go.Sankey(\n",
    "    node = dict(\n",
    "      pad = 5,\n",
    "      thickness = 5,\n",
    "      line = dict(color = \"black\", width = 2),\n",
    "      label = combined_names,  # parties names\n",
    "      color = color_node\n",
    "    ),\n",
    "    link = dict(\n",
    "        # from 0-10 is 2019. from 11-20 is 2020 print\n",
    "      source = source, # 2019\n",
    "      target = target,  # 2020\n",
    "      value = current_q.to_numpy().flatten(),\n",
    "      color = np_color\n",
    "  ))])\n",
    "\n",
    "fig.update_layout(title_text=\"Elections votes transition Q1_2\", font_size=10)\n",
    "fig.show()\n",
    "\n"
   ],
   "metadata": {
    "collapsed": false,
    "pycharm": {
     "name": "#%%\n",
     "is_executing": false
    }
   }
  },
  {
   "cell_type": "markdown",
   "source": [
    "בקוד הבא ניתן לראות את גרף sankey plot תחת וריאציית המעברים עבור שאלה 2"
   ],
   "metadata": {
    "collapsed": false,
    "pycharm": {
     "name": "#%% md\n",
     "is_executing": false
    }
   }
  },
  {
   "cell_type": "code",
   "execution_count": 95,
   "outputs": [
    {
     "data": {
      "text/plain": "                 0\n0         2019 תמא\n1           2019 ג\n2        2019 םעדו\n3          2019 בט\n4           2019 ל\n5         2019 לחמ\n6         2019 צרמ\n7          2019 הפ\n8          2019 סש\n9    2019 עיבצה אל\n10         2019 ץנ\n11        2020 תמא\n12          2020 ג\n13       2020 םעדו\n14         2020 בט\n15          2020 ל\n16        2020 לחמ\n17         2020 ץנ\n18         2020 הפ\n19         2020 סש\n20   2020 עיבצה אל",
      "text/html": "<div>\n<style scoped>\n    .dataframe tbody tr th:only-of-type {\n        vertical-align: middle;\n    }\n\n    .dataframe tbody tr th {\n        vertical-align: top;\n    }\n\n    .dataframe thead th {\n        text-align: right;\n    }\n</style>\n<table border=\"1\" class=\"dataframe\">\n  <thead>\n    <tr style=\"text-align: right;\">\n      <th></th>\n      <th>0</th>\n    </tr>\n  </thead>\n  <tbody>\n    <tr>\n      <th>0</th>\n      <td>2019 תמא</td>\n    </tr>\n    <tr>\n      <th>1</th>\n      <td>2019 ג</td>\n    </tr>\n    <tr>\n      <th>2</th>\n      <td>2019 םעדו</td>\n    </tr>\n    <tr>\n      <th>3</th>\n      <td>2019 בט</td>\n    </tr>\n    <tr>\n      <th>4</th>\n      <td>2019 ל</td>\n    </tr>\n    <tr>\n      <th>5</th>\n      <td>2019 לחמ</td>\n    </tr>\n    <tr>\n      <th>6</th>\n      <td>2019 צרמ</td>\n    </tr>\n    <tr>\n      <th>7</th>\n      <td>2019 הפ</td>\n    </tr>\n    <tr>\n      <th>8</th>\n      <td>2019 סש</td>\n    </tr>\n    <tr>\n      <th>9</th>\n      <td>2019 עיבצה אל</td>\n    </tr>\n    <tr>\n      <th>10</th>\n      <td>2019 ץנ</td>\n    </tr>\n    <tr>\n      <th>11</th>\n      <td>2020 תמא</td>\n    </tr>\n    <tr>\n      <th>12</th>\n      <td>2020 ג</td>\n    </tr>\n    <tr>\n      <th>13</th>\n      <td>2020 םעדו</td>\n    </tr>\n    <tr>\n      <th>14</th>\n      <td>2020 בט</td>\n    </tr>\n    <tr>\n      <th>15</th>\n      <td>2020 ל</td>\n    </tr>\n    <tr>\n      <th>16</th>\n      <td>2020 לחמ</td>\n    </tr>\n    <tr>\n      <th>17</th>\n      <td>2020 ץנ</td>\n    </tr>\n    <tr>\n      <th>18</th>\n      <td>2020 הפ</td>\n    </tr>\n    <tr>\n      <th>19</th>\n      <td>2020 סש</td>\n    </tr>\n    <tr>\n      <th>20</th>\n      <td>2020 עיבצה אל</td>\n    </tr>\n  </tbody>\n</table>\n</div>"
     },
     "metadata": {},
     "output_type": "display_data"
    },
    {
     "data": {
      "text/plain": "           תמא         ג      םעדו        בט         ל       לחמ        ץנ  \\\nתמא   0.625616  0.000000  0.000000  0.000000  0.000000  0.049563  0.000000   \nג     0.000000  0.985003  0.000000  0.000000  0.000000  0.000000  0.000000   \nםעדו  0.000000  0.000000  1.000000  0.000000  0.000000  0.000000  0.000000   \nבט    0.000000  0.000000  0.000000  0.938737  0.000000  0.061263  0.000000   \nל     0.000000  0.000000  0.000000  0.000000  0.917972  0.082028  0.000000   \nלחמ   0.000000  0.000000  0.000000  0.000000  0.000000  1.000000  0.000000   \nץנ    0.000000  0.105131  0.000000  0.060066  0.000000  0.433144  0.265413   \nהפ    0.000000  0.000000  0.000000  0.000000  0.000000  0.000000  0.000000   \nסש    0.000000  0.000000  0.000000  0.000000  0.000000  0.028668  0.000000   \nצרמ   0.669913  0.000000  0.068872  0.000000  0.000000  0.000000  0.000000   \n\n            הפ        סש  \nתמא   0.324822  0.000000  \nג     0.000000  0.014997  \nםעדו  0.000000  0.000000  \nבט    0.000000  0.000000  \nל     0.000000  0.000000  \nלחמ   0.000000  0.000000  \nץנ    0.000000  0.136246  \nהפ    1.000000  0.000000  \nסש    0.000000  0.971332  \nצרמ   0.261215  0.000000  ",
      "text/html": "<div>\n<style scoped>\n    .dataframe tbody tr th:only-of-type {\n        vertical-align: middle;\n    }\n\n    .dataframe tbody tr th {\n        vertical-align: top;\n    }\n\n    .dataframe thead th {\n        text-align: right;\n    }\n</style>\n<table border=\"1\" class=\"dataframe\">\n  <thead>\n    <tr style=\"text-align: right;\">\n      <th></th>\n      <th>תמא</th>\n      <th>ג</th>\n      <th>םעדו</th>\n      <th>בט</th>\n      <th>ל</th>\n      <th>לחמ</th>\n      <th>ץנ</th>\n      <th>הפ</th>\n      <th>סש</th>\n    </tr>\n  </thead>\n  <tbody>\n    <tr>\n      <th>תמא</th>\n      <td>0.625616</td>\n      <td>0.000000</td>\n      <td>0.000000</td>\n      <td>0.000000</td>\n      <td>0.000000</td>\n      <td>0.049563</td>\n      <td>0.000000</td>\n      <td>0.324822</td>\n      <td>0.000000</td>\n    </tr>\n    <tr>\n      <th>ג</th>\n      <td>0.000000</td>\n      <td>0.985003</td>\n      <td>0.000000</td>\n      <td>0.000000</td>\n      <td>0.000000</td>\n      <td>0.000000</td>\n      <td>0.000000</td>\n      <td>0.000000</td>\n      <td>0.014997</td>\n    </tr>\n    <tr>\n      <th>םעדו</th>\n      <td>0.000000</td>\n      <td>0.000000</td>\n      <td>1.000000</td>\n      <td>0.000000</td>\n      <td>0.000000</td>\n      <td>0.000000</td>\n      <td>0.000000</td>\n      <td>0.000000</td>\n      <td>0.000000</td>\n    </tr>\n    <tr>\n      <th>בט</th>\n      <td>0.000000</td>\n      <td>0.000000</td>\n      <td>0.000000</td>\n      <td>0.938737</td>\n      <td>0.000000</td>\n      <td>0.061263</td>\n      <td>0.000000</td>\n      <td>0.000000</td>\n      <td>0.000000</td>\n    </tr>\n    <tr>\n      <th>ל</th>\n      <td>0.000000</td>\n      <td>0.000000</td>\n      <td>0.000000</td>\n      <td>0.000000</td>\n      <td>0.917972</td>\n      <td>0.082028</td>\n      <td>0.000000</td>\n      <td>0.000000</td>\n      <td>0.000000</td>\n    </tr>\n    <tr>\n      <th>לחמ</th>\n      <td>0.000000</td>\n      <td>0.000000</td>\n      <td>0.000000</td>\n      <td>0.000000</td>\n      <td>0.000000</td>\n      <td>1.000000</td>\n      <td>0.000000</td>\n      <td>0.000000</td>\n      <td>0.000000</td>\n    </tr>\n    <tr>\n      <th>ץנ</th>\n      <td>0.000000</td>\n      <td>0.105131</td>\n      <td>0.000000</td>\n      <td>0.060066</td>\n      <td>0.000000</td>\n      <td>0.433144</td>\n      <td>0.265413</td>\n      <td>0.000000</td>\n      <td>0.136246</td>\n    </tr>\n    <tr>\n      <th>הפ</th>\n      <td>0.000000</td>\n      <td>0.000000</td>\n      <td>0.000000</td>\n      <td>0.000000</td>\n      <td>0.000000</td>\n      <td>0.000000</td>\n      <td>0.000000</td>\n      <td>1.000000</td>\n      <td>0.000000</td>\n    </tr>\n    <tr>\n      <th>סש</th>\n      <td>0.000000</td>\n      <td>0.000000</td>\n      <td>0.000000</td>\n      <td>0.000000</td>\n      <td>0.000000</td>\n      <td>0.028668</td>\n      <td>0.000000</td>\n      <td>0.000000</td>\n      <td>0.971332</td>\n    </tr>\n    <tr>\n      <th>צרמ</th>\n      <td>0.669913</td>\n      <td>0.000000</td>\n      <td>0.068872</td>\n      <td>0.000000</td>\n      <td>0.000000</td>\n      <td>0.000000</td>\n      <td>0.000000</td>\n      <td>0.261215</td>\n      <td>0.000000</td>\n    </tr>\n  </tbody>\n</table>\n</div>"
     },
     "metadata": {},
     "output_type": "display_data"
    },
    {
     "data": {
      "application/vnd.plotly.v1+json": {
       "config": {
        "plotlyServerURL": "https://plot.ly"
       },
       "data": [
        {
         "link": {
          "color": [
           "rgb(141,211,199)",
           "rgb(141,211,199)",
           "rgb(141,211,199)",
           "rgb(141,211,199)",
           "rgb(141,211,199)",
           "rgb(141,211,199)",
           "rgb(141,211,199)",
           "rgb(141,211,199)",
           "rgb(141,211,199)",
           "rgb(141,211,199)",
           "rgb(255,255,179)",
           "rgb(255,255,179)",
           "rgb(255,255,179)",
           "rgb(255,255,179)",
           "rgb(255,255,179)",
           "rgb(255,255,179)",
           "rgb(255,255,179)",
           "rgb(255,255,179)",
           "rgb(255,255,179)",
           "rgb(255,255,179)",
           "rgb(190,186,218)",
           "rgb(190,186,218)",
           "rgb(190,186,218)",
           "rgb(190,186,218)",
           "rgb(190,186,218)",
           "rgb(190,186,218)",
           "rgb(190,186,218)",
           "rgb(190,186,218)",
           "rgb(190,186,218)",
           "rgb(190,186,218)",
           "rgb(251,128,114)",
           "rgb(251,128,114)",
           "rgb(251,128,114)",
           "rgb(251,128,114)",
           "rgb(251,128,114)",
           "rgb(251,128,114)",
           "rgb(251,128,114)",
           "rgb(251,128,114)",
           "rgb(251,128,114)",
           "rgb(251,128,114)",
           "rgb(128,177,211)",
           "rgb(128,177,211)",
           "rgb(128,177,211)",
           "rgb(128,177,211)",
           "rgb(128,177,211)",
           "rgb(128,177,211)",
           "rgb(128,177,211)",
           "rgb(128,177,211)",
           "rgb(128,177,211)",
           "rgb(128,177,211)",
           "rgb(253,180,98)",
           "rgb(253,180,98)",
           "rgb(253,180,98)",
           "rgb(253,180,98)",
           "rgb(253,180,98)",
           "rgb(253,180,98)",
           "rgb(253,180,98)",
           "rgb(253,180,98)",
           "rgb(253,180,98)",
           "rgb(253,180,98)",
           "rgb(179,222,105)",
           "rgb(179,222,105)",
           "rgb(179,222,105)",
           "rgb(179,222,105)",
           "rgb(179,222,105)",
           "rgb(179,222,105)",
           "rgb(179,222,105)",
           "rgb(179,222,105)",
           "rgb(179,222,105)",
           "rgb(179,222,105)",
           "rgb(252,205,229)",
           "rgb(252,205,229)",
           "rgb(252,205,229)",
           "rgb(252,205,229)",
           "rgb(252,205,229)",
           "rgb(252,205,229)",
           "rgb(252,205,229)",
           "rgb(252,205,229)",
           "rgb(252,205,229)",
           "rgb(252,205,229)",
           "rgb(217,217,217)",
           "rgb(217,217,217)",
           "rgb(217,217,217)",
           "rgb(217,217,217)",
           "rgb(217,217,217)",
           "rgb(217,217,217)",
           "rgb(217,217,217)",
           "rgb(217,217,217)",
           "rgb(217,217,217)",
           "rgb(217,217,217)",
           "rgb(188,128,189)",
           "rgb(188,128,189)",
           "rgb(188,128,189)",
           "rgb(188,128,189)",
           "rgb(188,128,189)",
           "rgb(188,128,189)",
           "rgb(188,128,189)",
           "rgb(188,128,189)",
           "rgb(188,128,189)",
           "rgb(188,128,189)",
           "rgb(204,235,197)",
           "rgb(204,235,197)",
           "rgb(204,235,197)",
           "rgb(204,235,197)",
           "rgb(204,235,197)",
           "rgb(204,235,197)",
           "rgb(204,235,197)",
           "rgb(204,235,197)",
           "rgb(204,235,197)",
           "rgb(204,235,197)"
          ],
          "source": [
           0,
           0,
           0,
           0,
           0,
           0,
           0,
           0,
           0,
           0,
           1,
           1,
           1,
           1,
           1,
           1,
           1,
           1,
           1,
           1,
           2,
           2,
           2,
           2,
           2,
           2,
           2,
           2,
           2,
           2,
           3,
           3,
           3,
           3,
           3,
           3,
           3,
           3,
           3,
           3,
           4,
           4,
           4,
           4,
           4,
           4,
           4,
           4,
           4,
           4,
           5,
           5,
           5,
           5,
           5,
           5,
           5,
           5,
           5,
           5,
           6,
           6,
           6,
           6,
           6,
           6,
           6,
           6,
           6,
           6,
           7,
           7,
           7,
           7,
           7,
           7,
           7,
           7,
           7,
           7,
           8,
           8,
           8,
           8,
           8,
           8,
           8,
           8,
           8,
           8,
           9,
           9,
           9,
           9,
           9,
           9,
           9,
           9,
           9,
           9,
           10,
           10,
           10,
           10,
           10,
           10,
           10,
           10,
           10,
           10
          ],
          "target": [
           11,
           12,
           13,
           14,
           15,
           16,
           17,
           18,
           19,
           20,
           11,
           12,
           13,
           14,
           15,
           16,
           17,
           18,
           19,
           20,
           11,
           12,
           13,
           14,
           15,
           16,
           17,
           18,
           19,
           20,
           11,
           12,
           13,
           14,
           15,
           16,
           17,
           18,
           19,
           20,
           11,
           12,
           13,
           14,
           15,
           16,
           17,
           18,
           19,
           20,
           11,
           12,
           13,
           14,
           15,
           16,
           17,
           18,
           19,
           20,
           11,
           12,
           13,
           14,
           15,
           16,
           17,
           18,
           19,
           20,
           11,
           12,
           13,
           14,
           15,
           16,
           17,
           18,
           19,
           20,
           11,
           12,
           13,
           14,
           15,
           16,
           17,
           18,
           19,
           20,
           11,
           12,
           13,
           14,
           15,
           16,
           17,
           18,
           19,
           20,
           11,
           12,
           13,
           14,
           15,
           16,
           17,
           18,
           19,
           20
          ],
          "value": [
           0.6065250461607736,
           0.0,
           0.0,
           0.014904051285467217,
           0.032369045720632296,
           0.06732460974920164,
           0.0,
           0.2788772470839251,
           0.0,
           0.0,
           0.0,
           0.9370189734107317,
           0.0,
           0.0,
           0.0,
           0.0,
           0.0,
           0.0,
           0.013350928386842886,
           0.04963009820242543,
           0.0,
           0.0,
           1.0,
           0.0,
           0.0,
           0.0,
           0.0,
           0.0,
           0.0,
           0.0,
           0.0,
           0.0,
           0.0,
           0.8947218957223569,
           0.0,
           0.08168614178018047,
           0.0,
           0.0056185398046378005,
           0.0,
           0.01797342269282468,
           0.0,
           0.0,
           0.0,
           0.0,
           0.8103971597296683,
           0.0,
           0.0,
           0.0,
           0.0,
           0.1896028402703317,
           0.0,
           0.0,
           0.0,
           0.0,
           0.0,
           0.9232057168231503,
           0.0,
           0.0,
           0.0,
           0.07679428317684973,
           0.5677655214153936,
           0.0,
           0.09441337966622786,
           0.0,
           0.0,
           0.0,
           0.0,
           0.1357260640479944,
           0.0,
           0.20209503487038422,
           0.0,
           0.0,
           0.0,
           0.0,
           0.0,
           0.007419474778007882,
           0.0,
           0.9492717796894342,
           0.0,
           0.04330874553255793,
           0.0,
           0.0,
           0.0,
           0.0,
           0.0,
           0.02199573455097616,
           0.0,
           0.0,
           0.9583179696144984,
           0.019686295834525396,
           0.0057740664151939534,
           0.006920983124664997,
           0.01328274726116822,
           0.009247203759784602,
           0.0055471285312534,
           0.044714673218963816,
           0.0,
           0.0491608067424697,
           0.00900645393738911,
           0.8563459370091122,
           0.0186512869091921,
           0.16260748876919243,
           0.0,
           0.13592541356088622,
           0.0,
           0.2977804805186592,
           0.21204937683036124,
           0.0,
           0.1386650815082917,
           0.03432087190341735
          ]
         },
         "node": {
          "color": [
           "rgb(141,211,199)",
           "rgb(255,255,179)",
           "rgb(190,186,218)",
           "rgb(251,128,114)",
           "rgb(128,177,211)",
           "rgb(253,180,98)",
           "rgb(179,222,105)",
           "rgb(252,205,229)",
           "rgb(217,217,217)",
           "rgb(188,128,189)",
           "rgb(204,235,197)",
           "rgb(141,211,199)",
           "rgb(255,255,179)",
           "rgb(190,186,218)",
           "rgb(251,128,114)",
           "rgb(128,177,211)",
           "rgb(253,180,98)",
           "rgb(179,222,105)",
           "rgb(252,205,229)",
           "rgb(217,217,217)",
           "rgb(188,128,189)"
          ],
          "label": [
           [
            " 2019 תמא"
           ],
           [
            " 2019 ג"
           ],
           [
            " 2019 םעדו"
           ],
           [
            " 2019 בט"
           ],
           [
            " 2019 ל"
           ],
           [
            " 2019 לחמ"
           ],
           [
            " 2019 צרמ"
           ],
           [
            " 2019 הפ"
           ],
           [
            " 2019 סש"
           ],
           [
            " 2019 עיבצה אל"
           ],
           [
            " 2019 ץנ"
           ],
           [
            " 2020 תמא"
           ],
           [
            " 2020 ג"
           ],
           [
            " 2020 םעדו"
           ],
           [
            " 2020 בט"
           ],
           [
            " 2020 ל"
           ],
           [
            " 2020 לחמ"
           ],
           [
            " 2020 ץנ"
           ],
           [
            " 2020 הפ"
           ],
           [
            " 2020 סש"
           ],
           [
            " 2020 עיבצה אל"
           ]
          ],
          "line": {
           "color": "black",
           "width": 2
          },
          "pad": 5,
          "thickness": 5
         },
         "type": "sankey"
        }
       ],
       "layout": {
        "font": {
         "size": 10
        },
        "template": {
         "data": {
          "bar": [
           {
            "error_x": {
             "color": "#2a3f5f"
            },
            "error_y": {
             "color": "#2a3f5f"
            },
            "marker": {
             "line": {
              "color": "#E5ECF6",
              "width": 0.5
             }
            },
            "type": "bar"
           }
          ],
          "barpolar": [
           {
            "marker": {
             "line": {
              "color": "#E5ECF6",
              "width": 0.5
             }
            },
            "type": "barpolar"
           }
          ],
          "carpet": [
           {
            "aaxis": {
             "endlinecolor": "#2a3f5f",
             "gridcolor": "white",
             "linecolor": "white",
             "minorgridcolor": "white",
             "startlinecolor": "#2a3f5f"
            },
            "baxis": {
             "endlinecolor": "#2a3f5f",
             "gridcolor": "white",
             "linecolor": "white",
             "minorgridcolor": "white",
             "startlinecolor": "#2a3f5f"
            },
            "type": "carpet"
           }
          ],
          "choropleth": [
           {
            "colorbar": {
             "outlinewidth": 0,
             "ticks": ""
            },
            "type": "choropleth"
           }
          ],
          "contour": [
           {
            "colorbar": {
             "outlinewidth": 0,
             "ticks": ""
            },
            "colorscale": [
             [
              0.0,
              "#0d0887"
             ],
             [
              0.1111111111111111,
              "#46039f"
             ],
             [
              0.2222222222222222,
              "#7201a8"
             ],
             [
              0.3333333333333333,
              "#9c179e"
             ],
             [
              0.4444444444444444,
              "#bd3786"
             ],
             [
              0.5555555555555556,
              "#d8576b"
             ],
             [
              0.6666666666666666,
              "#ed7953"
             ],
             [
              0.7777777777777778,
              "#fb9f3a"
             ],
             [
              0.8888888888888888,
              "#fdca26"
             ],
             [
              1.0,
              "#f0f921"
             ]
            ],
            "type": "contour"
           }
          ],
          "contourcarpet": [
           {
            "colorbar": {
             "outlinewidth": 0,
             "ticks": ""
            },
            "type": "contourcarpet"
           }
          ],
          "heatmap": [
           {
            "colorbar": {
             "outlinewidth": 0,
             "ticks": ""
            },
            "colorscale": [
             [
              0.0,
              "#0d0887"
             ],
             [
              0.1111111111111111,
              "#46039f"
             ],
             [
              0.2222222222222222,
              "#7201a8"
             ],
             [
              0.3333333333333333,
              "#9c179e"
             ],
             [
              0.4444444444444444,
              "#bd3786"
             ],
             [
              0.5555555555555556,
              "#d8576b"
             ],
             [
              0.6666666666666666,
              "#ed7953"
             ],
             [
              0.7777777777777778,
              "#fb9f3a"
             ],
             [
              0.8888888888888888,
              "#fdca26"
             ],
             [
              1.0,
              "#f0f921"
             ]
            ],
            "type": "heatmap"
           }
          ],
          "heatmapgl": [
           {
            "colorbar": {
             "outlinewidth": 0,
             "ticks": ""
            },
            "colorscale": [
             [
              0.0,
              "#0d0887"
             ],
             [
              0.1111111111111111,
              "#46039f"
             ],
             [
              0.2222222222222222,
              "#7201a8"
             ],
             [
              0.3333333333333333,
              "#9c179e"
             ],
             [
              0.4444444444444444,
              "#bd3786"
             ],
             [
              0.5555555555555556,
              "#d8576b"
             ],
             [
              0.6666666666666666,
              "#ed7953"
             ],
             [
              0.7777777777777778,
              "#fb9f3a"
             ],
             [
              0.8888888888888888,
              "#fdca26"
             ],
             [
              1.0,
              "#f0f921"
             ]
            ],
            "type": "heatmapgl"
           }
          ],
          "histogram": [
           {
            "marker": {
             "colorbar": {
              "outlinewidth": 0,
              "ticks": ""
             }
            },
            "type": "histogram"
           }
          ],
          "histogram2d": [
           {
            "colorbar": {
             "outlinewidth": 0,
             "ticks": ""
            },
            "colorscale": [
             [
              0.0,
              "#0d0887"
             ],
             [
              0.1111111111111111,
              "#46039f"
             ],
             [
              0.2222222222222222,
              "#7201a8"
             ],
             [
              0.3333333333333333,
              "#9c179e"
             ],
             [
              0.4444444444444444,
              "#bd3786"
             ],
             [
              0.5555555555555556,
              "#d8576b"
             ],
             [
              0.6666666666666666,
              "#ed7953"
             ],
             [
              0.7777777777777778,
              "#fb9f3a"
             ],
             [
              0.8888888888888888,
              "#fdca26"
             ],
             [
              1.0,
              "#f0f921"
             ]
            ],
            "type": "histogram2d"
           }
          ],
          "histogram2dcontour": [
           {
            "colorbar": {
             "outlinewidth": 0,
             "ticks": ""
            },
            "colorscale": [
             [
              0.0,
              "#0d0887"
             ],
             [
              0.1111111111111111,
              "#46039f"
             ],
             [
              0.2222222222222222,
              "#7201a8"
             ],
             [
              0.3333333333333333,
              "#9c179e"
             ],
             [
              0.4444444444444444,
              "#bd3786"
             ],
             [
              0.5555555555555556,
              "#d8576b"
             ],
             [
              0.6666666666666666,
              "#ed7953"
             ],
             [
              0.7777777777777778,
              "#fb9f3a"
             ],
             [
              0.8888888888888888,
              "#fdca26"
             ],
             [
              1.0,
              "#f0f921"
             ]
            ],
            "type": "histogram2dcontour"
           }
          ],
          "mesh3d": [
           {
            "colorbar": {
             "outlinewidth": 0,
             "ticks": ""
            },
            "type": "mesh3d"
           }
          ],
          "parcoords": [
           {
            "line": {
             "colorbar": {
              "outlinewidth": 0,
              "ticks": ""
             }
            },
            "type": "parcoords"
           }
          ],
          "pie": [
           {
            "automargin": true,
            "type": "pie"
           }
          ],
          "scatter": [
           {
            "marker": {
             "colorbar": {
              "outlinewidth": 0,
              "ticks": ""
             }
            },
            "type": "scatter"
           }
          ],
          "scatter3d": [
           {
            "line": {
             "colorbar": {
              "outlinewidth": 0,
              "ticks": ""
             }
            },
            "marker": {
             "colorbar": {
              "outlinewidth": 0,
              "ticks": ""
             }
            },
            "type": "scatter3d"
           }
          ],
          "scattercarpet": [
           {
            "marker": {
             "colorbar": {
              "outlinewidth": 0,
              "ticks": ""
             }
            },
            "type": "scattercarpet"
           }
          ],
          "scattergeo": [
           {
            "marker": {
             "colorbar": {
              "outlinewidth": 0,
              "ticks": ""
             }
            },
            "type": "scattergeo"
           }
          ],
          "scattergl": [
           {
            "marker": {
             "colorbar": {
              "outlinewidth": 0,
              "ticks": ""
             }
            },
            "type": "scattergl"
           }
          ],
          "scattermapbox": [
           {
            "marker": {
             "colorbar": {
              "outlinewidth": 0,
              "ticks": ""
             }
            },
            "type": "scattermapbox"
           }
          ],
          "scatterpolar": [
           {
            "marker": {
             "colorbar": {
              "outlinewidth": 0,
              "ticks": ""
             }
            },
            "type": "scatterpolar"
           }
          ],
          "scatterpolargl": [
           {
            "marker": {
             "colorbar": {
              "outlinewidth": 0,
              "ticks": ""
             }
            },
            "type": "scatterpolargl"
           }
          ],
          "scatterternary": [
           {
            "marker": {
             "colorbar": {
              "outlinewidth": 0,
              "ticks": ""
             }
            },
            "type": "scatterternary"
           }
          ],
          "surface": [
           {
            "colorbar": {
             "outlinewidth": 0,
             "ticks": ""
            },
            "colorscale": [
             [
              0.0,
              "#0d0887"
             ],
             [
              0.1111111111111111,
              "#46039f"
             ],
             [
              0.2222222222222222,
              "#7201a8"
             ],
             [
              0.3333333333333333,
              "#9c179e"
             ],
             [
              0.4444444444444444,
              "#bd3786"
             ],
             [
              0.5555555555555556,
              "#d8576b"
             ],
             [
              0.6666666666666666,
              "#ed7953"
             ],
             [
              0.7777777777777778,
              "#fb9f3a"
             ],
             [
              0.8888888888888888,
              "#fdca26"
             ],
             [
              1.0,
              "#f0f921"
             ]
            ],
            "type": "surface"
           }
          ],
          "table": [
           {
            "cells": {
             "fill": {
              "color": "#EBF0F8"
             },
             "line": {
              "color": "white"
             }
            },
            "header": {
             "fill": {
              "color": "#C8D4E3"
             },
             "line": {
              "color": "white"
             }
            },
            "type": "table"
           }
          ]
         },
         "layout": {
          "annotationdefaults": {
           "arrowcolor": "#2a3f5f",
           "arrowhead": 0,
           "arrowwidth": 1
          },
          "autotypenumbers": "strict",
          "coloraxis": {
           "colorbar": {
            "outlinewidth": 0,
            "ticks": ""
           }
          },
          "colorscale": {
           "diverging": [
            [
             0,
             "#8e0152"
            ],
            [
             0.1,
             "#c51b7d"
            ],
            [
             0.2,
             "#de77ae"
            ],
            [
             0.3,
             "#f1b6da"
            ],
            [
             0.4,
             "#fde0ef"
            ],
            [
             0.5,
             "#f7f7f7"
            ],
            [
             0.6,
             "#e6f5d0"
            ],
            [
             0.7,
             "#b8e186"
            ],
            [
             0.8,
             "#7fbc41"
            ],
            [
             0.9,
             "#4d9221"
            ],
            [
             1,
             "#276419"
            ]
           ],
           "sequential": [
            [
             0.0,
             "#0d0887"
            ],
            [
             0.1111111111111111,
             "#46039f"
            ],
            [
             0.2222222222222222,
             "#7201a8"
            ],
            [
             0.3333333333333333,
             "#9c179e"
            ],
            [
             0.4444444444444444,
             "#bd3786"
            ],
            [
             0.5555555555555556,
             "#d8576b"
            ],
            [
             0.6666666666666666,
             "#ed7953"
            ],
            [
             0.7777777777777778,
             "#fb9f3a"
            ],
            [
             0.8888888888888888,
             "#fdca26"
            ],
            [
             1.0,
             "#f0f921"
            ]
           ],
           "sequentialminus": [
            [
             0.0,
             "#0d0887"
            ],
            [
             0.1111111111111111,
             "#46039f"
            ],
            [
             0.2222222222222222,
             "#7201a8"
            ],
            [
             0.3333333333333333,
             "#9c179e"
            ],
            [
             0.4444444444444444,
             "#bd3786"
            ],
            [
             0.5555555555555556,
             "#d8576b"
            ],
            [
             0.6666666666666666,
             "#ed7953"
            ],
            [
             0.7777777777777778,
             "#fb9f3a"
            ],
            [
             0.8888888888888888,
             "#fdca26"
            ],
            [
             1.0,
             "#f0f921"
            ]
           ]
          },
          "colorway": [
           "#636efa",
           "#EF553B",
           "#00cc96",
           "#ab63fa",
           "#FFA15A",
           "#19d3f3",
           "#FF6692",
           "#B6E880",
           "#FF97FF",
           "#FECB52"
          ],
          "font": {
           "color": "#2a3f5f"
          },
          "geo": {
           "bgcolor": "white",
           "lakecolor": "white",
           "landcolor": "#E5ECF6",
           "showlakes": true,
           "showland": true,
           "subunitcolor": "white"
          },
          "hoverlabel": {
           "align": "left"
          },
          "hovermode": "closest",
          "mapbox": {
           "style": "light"
          },
          "paper_bgcolor": "white",
          "plot_bgcolor": "#E5ECF6",
          "polar": {
           "angularaxis": {
            "gridcolor": "white",
            "linecolor": "white",
            "ticks": ""
           },
           "bgcolor": "#E5ECF6",
           "radialaxis": {
            "gridcolor": "white",
            "linecolor": "white",
            "ticks": ""
           }
          },
          "scene": {
           "xaxis": {
            "backgroundcolor": "#E5ECF6",
            "gridcolor": "white",
            "gridwidth": 2,
            "linecolor": "white",
            "showbackground": true,
            "ticks": "",
            "zerolinecolor": "white"
           },
           "yaxis": {
            "backgroundcolor": "#E5ECF6",
            "gridcolor": "white",
            "gridwidth": 2,
            "linecolor": "white",
            "showbackground": true,
            "ticks": "",
            "zerolinecolor": "white"
           },
           "zaxis": {
            "backgroundcolor": "#E5ECF6",
            "gridcolor": "white",
            "gridwidth": 2,
            "linecolor": "white",
            "showbackground": true,
            "ticks": "",
            "zerolinecolor": "white"
           }
          },
          "shapedefaults": {
           "line": {
            "color": "#2a3f5f"
           }
          },
          "ternary": {
           "aaxis": {
            "gridcolor": "white",
            "linecolor": "white",
            "ticks": ""
           },
           "baxis": {
            "gridcolor": "white",
            "linecolor": "white",
            "ticks": ""
           },
           "bgcolor": "#E5ECF6",
           "caxis": {
            "gridcolor": "white",
            "linecolor": "white",
            "ticks": ""
           }
          },
          "title": {
           "x": 0.05
          },
          "xaxis": {
           "automargin": true,
           "gridcolor": "white",
           "linecolor": "white",
           "ticks": "",
           "title": {
            "standoff": 15
           },
           "zerolinecolor": "white",
           "zerolinewidth": 2
          },
          "yaxis": {
           "automargin": true,
           "gridcolor": "white",
           "linecolor": "white",
           "ticks": "",
           "title": {
            "standoff": 15
           },
           "zerolinecolor": "white",
           "zerolinewidth": 2
          }
         }
        },
        "title": {
         "text": "Elections votes transition Q2"
        }
       }
      },
      "text/html": "<div>                            <div id=\"6a325b79-b7ef-4c88-b3a3-873bdf0d4b9d\" class=\"plotly-graph-div\" style=\"height:525px; width:100%;\"></div>            <script type=\"text/javascript\">                require([\"plotly\"], function(Plotly) {                    window.PLOTLYENV=window.PLOTLYENV || {};                                    if (document.getElementById(\"6a325b79-b7ef-4c88-b3a3-873bdf0d4b9d\")) {                    Plotly.newPlot(                        \"6a325b79-b7ef-4c88-b3a3-873bdf0d4b9d\",                        [{\"link\": {\"color\": [\"rgb(141,211,199)\", \"rgb(141,211,199)\", \"rgb(141,211,199)\", \"rgb(141,211,199)\", \"rgb(141,211,199)\", \"rgb(141,211,199)\", \"rgb(141,211,199)\", \"rgb(141,211,199)\", \"rgb(141,211,199)\", \"rgb(141,211,199)\", \"rgb(255,255,179)\", \"rgb(255,255,179)\", \"rgb(255,255,179)\", \"rgb(255,255,179)\", \"rgb(255,255,179)\", \"rgb(255,255,179)\", \"rgb(255,255,179)\", \"rgb(255,255,179)\", \"rgb(255,255,179)\", \"rgb(255,255,179)\", \"rgb(190,186,218)\", \"rgb(190,186,218)\", \"rgb(190,186,218)\", \"rgb(190,186,218)\", \"rgb(190,186,218)\", \"rgb(190,186,218)\", \"rgb(190,186,218)\", \"rgb(190,186,218)\", \"rgb(190,186,218)\", \"rgb(190,186,218)\", \"rgb(251,128,114)\", \"rgb(251,128,114)\", \"rgb(251,128,114)\", \"rgb(251,128,114)\", \"rgb(251,128,114)\", \"rgb(251,128,114)\", \"rgb(251,128,114)\", \"rgb(251,128,114)\", \"rgb(251,128,114)\", \"rgb(251,128,114)\", \"rgb(128,177,211)\", \"rgb(128,177,211)\", \"rgb(128,177,211)\", \"rgb(128,177,211)\", \"rgb(128,177,211)\", \"rgb(128,177,211)\", \"rgb(128,177,211)\", \"rgb(128,177,211)\", \"rgb(128,177,211)\", \"rgb(128,177,211)\", \"rgb(253,180,98)\", \"rgb(253,180,98)\", \"rgb(253,180,98)\", \"rgb(253,180,98)\", \"rgb(253,180,98)\", \"rgb(253,180,98)\", \"rgb(253,180,98)\", \"rgb(253,180,98)\", \"rgb(253,180,98)\", \"rgb(253,180,98)\", \"rgb(179,222,105)\", \"rgb(179,222,105)\", \"rgb(179,222,105)\", \"rgb(179,222,105)\", \"rgb(179,222,105)\", \"rgb(179,222,105)\", \"rgb(179,222,105)\", \"rgb(179,222,105)\", \"rgb(179,222,105)\", \"rgb(179,222,105)\", \"rgb(252,205,229)\", \"rgb(252,205,229)\", \"rgb(252,205,229)\", \"rgb(252,205,229)\", \"rgb(252,205,229)\", \"rgb(252,205,229)\", \"rgb(252,205,229)\", \"rgb(252,205,229)\", \"rgb(252,205,229)\", \"rgb(252,205,229)\", \"rgb(217,217,217)\", \"rgb(217,217,217)\", \"rgb(217,217,217)\", \"rgb(217,217,217)\", \"rgb(217,217,217)\", \"rgb(217,217,217)\", \"rgb(217,217,217)\", \"rgb(217,217,217)\", \"rgb(217,217,217)\", \"rgb(217,217,217)\", \"rgb(188,128,189)\", \"rgb(188,128,189)\", \"rgb(188,128,189)\", \"rgb(188,128,189)\", \"rgb(188,128,189)\", \"rgb(188,128,189)\", \"rgb(188,128,189)\", \"rgb(188,128,189)\", \"rgb(188,128,189)\", \"rgb(188,128,189)\", \"rgb(204,235,197)\", \"rgb(204,235,197)\", \"rgb(204,235,197)\", \"rgb(204,235,197)\", \"rgb(204,235,197)\", \"rgb(204,235,197)\", \"rgb(204,235,197)\", \"rgb(204,235,197)\", \"rgb(204,235,197)\", \"rgb(204,235,197)\"], \"source\": [0, 0, 0, 0, 0, 0, 0, 0, 0, 0, 1, 1, 1, 1, 1, 1, 1, 1, 1, 1, 2, 2, 2, 2, 2, 2, 2, 2, 2, 2, 3, 3, 3, 3, 3, 3, 3, 3, 3, 3, 4, 4, 4, 4, 4, 4, 4, 4, 4, 4, 5, 5, 5, 5, 5, 5, 5, 5, 5, 5, 6, 6, 6, 6, 6, 6, 6, 6, 6, 6, 7, 7, 7, 7, 7, 7, 7, 7, 7, 7, 8, 8, 8, 8, 8, 8, 8, 8, 8, 8, 9, 9, 9, 9, 9, 9, 9, 9, 9, 9, 10, 10, 10, 10, 10, 10, 10, 10, 10, 10], \"target\": [11, 12, 13, 14, 15, 16, 17, 18, 19, 20, 11, 12, 13, 14, 15, 16, 17, 18, 19, 20, 11, 12, 13, 14, 15, 16, 17, 18, 19, 20, 11, 12, 13, 14, 15, 16, 17, 18, 19, 20, 11, 12, 13, 14, 15, 16, 17, 18, 19, 20, 11, 12, 13, 14, 15, 16, 17, 18, 19, 20, 11, 12, 13, 14, 15, 16, 17, 18, 19, 20, 11, 12, 13, 14, 15, 16, 17, 18, 19, 20, 11, 12, 13, 14, 15, 16, 17, 18, 19, 20, 11, 12, 13, 14, 15, 16, 17, 18, 19, 20, 11, 12, 13, 14, 15, 16, 17, 18, 19, 20], \"value\": [0.6065250461607736, 0.0, 0.0, 0.014904051285467217, 0.032369045720632296, 0.06732460974920164, 0.0, 0.2788772470839251, 0.0, 0.0, 0.0, 0.9370189734107317, 0.0, 0.0, 0.0, 0.0, 0.0, 0.0, 0.013350928386842886, 0.04963009820242543, 0.0, 0.0, 1.0, 0.0, 0.0, 0.0, 0.0, 0.0, 0.0, 0.0, 0.0, 0.0, 0.0, 0.8947218957223569, 0.0, 0.08168614178018047, 0.0, 0.0056185398046378005, 0.0, 0.01797342269282468, 0.0, 0.0, 0.0, 0.0, 0.8103971597296683, 0.0, 0.0, 0.0, 0.0, 0.1896028402703317, 0.0, 0.0, 0.0, 0.0, 0.0, 0.9232057168231503, 0.0, 0.0, 0.0, 0.07679428317684973, 0.5677655214153936, 0.0, 0.09441337966622786, 0.0, 0.0, 0.0, 0.0, 0.1357260640479944, 0.0, 0.20209503487038422, 0.0, 0.0, 0.0, 0.0, 0.0, 0.007419474778007882, 0.0, 0.9492717796894342, 0.0, 0.04330874553255793, 0.0, 0.0, 0.0, 0.0, 0.0, 0.02199573455097616, 0.0, 0.0, 0.9583179696144984, 0.019686295834525396, 0.0057740664151939534, 0.006920983124664997, 0.01328274726116822, 0.009247203759784602, 0.0055471285312534, 0.044714673218963816, 0.0, 0.0491608067424697, 0.00900645393738911, 0.8563459370091122, 0.0186512869091921, 0.16260748876919243, 0.0, 0.13592541356088622, 0.0, 0.2977804805186592, 0.21204937683036124, 0.0, 0.1386650815082917, 0.03432087190341735]}, \"node\": {\"color\": [\"rgb(141,211,199)\", \"rgb(255,255,179)\", \"rgb(190,186,218)\", \"rgb(251,128,114)\", \"rgb(128,177,211)\", \"rgb(253,180,98)\", \"rgb(179,222,105)\", \"rgb(252,205,229)\", \"rgb(217,217,217)\", \"rgb(188,128,189)\", \"rgb(204,235,197)\", \"rgb(141,211,199)\", \"rgb(255,255,179)\", \"rgb(190,186,218)\", \"rgb(251,128,114)\", \"rgb(128,177,211)\", \"rgb(253,180,98)\", \"rgb(179,222,105)\", \"rgb(252,205,229)\", \"rgb(217,217,217)\", \"rgb(188,128,189)\"], \"label\": [[\" 2019 \\u05ea\\u05de\\u05d0\"], [\" 2019 \\u05d2\"], [\" 2019 \\u05dd\\u05e2\\u05d3\\u05d5\"], [\" 2019 \\u05d1\\u05d8\"], [\" 2019 \\u05dc\"], [\" 2019 \\u05dc\\u05d7\\u05de\"], [\" 2019 \\u05e6\\u05e8\\u05de\"], [\" 2019 \\u05d4\\u05e4\"], [\" 2019 \\u05e1\\u05e9\"], [\" 2019 \\u05e2\\u05d9\\u05d1\\u05e6\\u05d4 \\u05d0\\u05dc\"], [\" 2019 \\u05e5\\u05e0\"], [\" 2020 \\u05ea\\u05de\\u05d0\"], [\" 2020 \\u05d2\"], [\" 2020 \\u05dd\\u05e2\\u05d3\\u05d5\"], [\" 2020 \\u05d1\\u05d8\"], [\" 2020 \\u05dc\"], [\" 2020 \\u05dc\\u05d7\\u05de\"], [\" 2020 \\u05e5\\u05e0\"], [\" 2020 \\u05d4\\u05e4\"], [\" 2020 \\u05e1\\u05e9\"], [\" 2020 \\u05e2\\u05d9\\u05d1\\u05e6\\u05d4 \\u05d0\\u05dc\"]], \"line\": {\"color\": \"black\", \"width\": 2}, \"pad\": 5, \"thickness\": 5}, \"type\": \"sankey\"}],                        {\"font\": {\"size\": 10}, \"template\": {\"data\": {\"bar\": [{\"error_x\": {\"color\": \"#2a3f5f\"}, \"error_y\": {\"color\": \"#2a3f5f\"}, \"marker\": {\"line\": {\"color\": \"#E5ECF6\", \"width\": 0.5}}, \"type\": \"bar\"}], \"barpolar\": [{\"marker\": {\"line\": {\"color\": \"#E5ECF6\", \"width\": 0.5}}, \"type\": \"barpolar\"}], \"carpet\": [{\"aaxis\": {\"endlinecolor\": \"#2a3f5f\", \"gridcolor\": \"white\", \"linecolor\": \"white\", \"minorgridcolor\": \"white\", \"startlinecolor\": \"#2a3f5f\"}, \"baxis\": {\"endlinecolor\": \"#2a3f5f\", \"gridcolor\": \"white\", \"linecolor\": \"white\", \"minorgridcolor\": \"white\", \"startlinecolor\": \"#2a3f5f\"}, \"type\": \"carpet\"}], \"choropleth\": [{\"colorbar\": {\"outlinewidth\": 0, \"ticks\": \"\"}, \"type\": \"choropleth\"}], \"contour\": [{\"colorbar\": {\"outlinewidth\": 0, \"ticks\": \"\"}, \"colorscale\": [[0.0, \"#0d0887\"], [0.1111111111111111, \"#46039f\"], [0.2222222222222222, \"#7201a8\"], [0.3333333333333333, \"#9c179e\"], [0.4444444444444444, \"#bd3786\"], [0.5555555555555556, \"#d8576b\"], [0.6666666666666666, \"#ed7953\"], [0.7777777777777778, \"#fb9f3a\"], [0.8888888888888888, \"#fdca26\"], [1.0, \"#f0f921\"]], \"type\": \"contour\"}], \"contourcarpet\": [{\"colorbar\": {\"outlinewidth\": 0, \"ticks\": \"\"}, \"type\": \"contourcarpet\"}], \"heatmap\": [{\"colorbar\": {\"outlinewidth\": 0, \"ticks\": \"\"}, \"colorscale\": [[0.0, \"#0d0887\"], [0.1111111111111111, \"#46039f\"], [0.2222222222222222, \"#7201a8\"], [0.3333333333333333, \"#9c179e\"], [0.4444444444444444, \"#bd3786\"], [0.5555555555555556, \"#d8576b\"], [0.6666666666666666, \"#ed7953\"], [0.7777777777777778, \"#fb9f3a\"], [0.8888888888888888, \"#fdca26\"], [1.0, \"#f0f921\"]], \"type\": \"heatmap\"}], \"heatmapgl\": [{\"colorbar\": {\"outlinewidth\": 0, \"ticks\": \"\"}, \"colorscale\": [[0.0, \"#0d0887\"], [0.1111111111111111, \"#46039f\"], [0.2222222222222222, \"#7201a8\"], [0.3333333333333333, \"#9c179e\"], [0.4444444444444444, \"#bd3786\"], [0.5555555555555556, \"#d8576b\"], [0.6666666666666666, \"#ed7953\"], [0.7777777777777778, \"#fb9f3a\"], [0.8888888888888888, \"#fdca26\"], [1.0, \"#f0f921\"]], \"type\": \"heatmapgl\"}], \"histogram\": [{\"marker\": {\"colorbar\": {\"outlinewidth\": 0, \"ticks\": \"\"}}, \"type\": \"histogram\"}], \"histogram2d\": [{\"colorbar\": {\"outlinewidth\": 0, \"ticks\": \"\"}, \"colorscale\": [[0.0, \"#0d0887\"], [0.1111111111111111, \"#46039f\"], [0.2222222222222222, \"#7201a8\"], [0.3333333333333333, \"#9c179e\"], [0.4444444444444444, \"#bd3786\"], [0.5555555555555556, \"#d8576b\"], [0.6666666666666666, \"#ed7953\"], [0.7777777777777778, \"#fb9f3a\"], [0.8888888888888888, \"#fdca26\"], [1.0, \"#f0f921\"]], \"type\": \"histogram2d\"}], \"histogram2dcontour\": [{\"colorbar\": {\"outlinewidth\": 0, \"ticks\": \"\"}, \"colorscale\": [[0.0, \"#0d0887\"], [0.1111111111111111, \"#46039f\"], [0.2222222222222222, \"#7201a8\"], [0.3333333333333333, \"#9c179e\"], [0.4444444444444444, \"#bd3786\"], [0.5555555555555556, \"#d8576b\"], [0.6666666666666666, \"#ed7953\"], [0.7777777777777778, \"#fb9f3a\"], [0.8888888888888888, \"#fdca26\"], [1.0, \"#f0f921\"]], \"type\": \"histogram2dcontour\"}], \"mesh3d\": [{\"colorbar\": {\"outlinewidth\": 0, \"ticks\": \"\"}, \"type\": \"mesh3d\"}], \"parcoords\": [{\"line\": {\"colorbar\": {\"outlinewidth\": 0, \"ticks\": \"\"}}, \"type\": \"parcoords\"}], \"pie\": [{\"automargin\": true, \"type\": \"pie\"}], \"scatter\": [{\"marker\": {\"colorbar\": {\"outlinewidth\": 0, \"ticks\": \"\"}}, \"type\": \"scatter\"}], \"scatter3d\": [{\"line\": {\"colorbar\": {\"outlinewidth\": 0, \"ticks\": \"\"}}, \"marker\": {\"colorbar\": {\"outlinewidth\": 0, \"ticks\": \"\"}}, \"type\": \"scatter3d\"}], \"scattercarpet\": [{\"marker\": {\"colorbar\": {\"outlinewidth\": 0, \"ticks\": \"\"}}, \"type\": \"scattercarpet\"}], \"scattergeo\": [{\"marker\": {\"colorbar\": {\"outlinewidth\": 0, \"ticks\": \"\"}}, \"type\": \"scattergeo\"}], \"scattergl\": [{\"marker\": {\"colorbar\": {\"outlinewidth\": 0, \"ticks\": \"\"}}, \"type\": \"scattergl\"}], \"scattermapbox\": [{\"marker\": {\"colorbar\": {\"outlinewidth\": 0, \"ticks\": \"\"}}, \"type\": \"scattermapbox\"}], \"scatterpolar\": [{\"marker\": {\"colorbar\": {\"outlinewidth\": 0, \"ticks\": \"\"}}, \"type\": \"scatterpolar\"}], \"scatterpolargl\": [{\"marker\": {\"colorbar\": {\"outlinewidth\": 0, \"ticks\": \"\"}}, \"type\": \"scatterpolargl\"}], \"scatterternary\": [{\"marker\": {\"colorbar\": {\"outlinewidth\": 0, \"ticks\": \"\"}}, \"type\": \"scatterternary\"}], \"surface\": [{\"colorbar\": {\"outlinewidth\": 0, \"ticks\": \"\"}, \"colorscale\": [[0.0, \"#0d0887\"], [0.1111111111111111, \"#46039f\"], [0.2222222222222222, \"#7201a8\"], [0.3333333333333333, \"#9c179e\"], [0.4444444444444444, \"#bd3786\"], [0.5555555555555556, \"#d8576b\"], [0.6666666666666666, \"#ed7953\"], [0.7777777777777778, \"#fb9f3a\"], [0.8888888888888888, \"#fdca26\"], [1.0, \"#f0f921\"]], \"type\": \"surface\"}], \"table\": [{\"cells\": {\"fill\": {\"color\": \"#EBF0F8\"}, \"line\": {\"color\": \"white\"}}, \"header\": {\"fill\": {\"color\": \"#C8D4E3\"}, \"line\": {\"color\": \"white\"}}, \"type\": \"table\"}]}, \"layout\": {\"annotationdefaults\": {\"arrowcolor\": \"#2a3f5f\", \"arrowhead\": 0, \"arrowwidth\": 1}, \"autotypenumbers\": \"strict\", \"coloraxis\": {\"colorbar\": {\"outlinewidth\": 0, \"ticks\": \"\"}}, \"colorscale\": {\"diverging\": [[0, \"#8e0152\"], [0.1, \"#c51b7d\"], [0.2, \"#de77ae\"], [0.3, \"#f1b6da\"], [0.4, \"#fde0ef\"], [0.5, \"#f7f7f7\"], [0.6, \"#e6f5d0\"], [0.7, \"#b8e186\"], [0.8, \"#7fbc41\"], [0.9, \"#4d9221\"], [1, \"#276419\"]], \"sequential\": [[0.0, \"#0d0887\"], [0.1111111111111111, \"#46039f\"], [0.2222222222222222, \"#7201a8\"], [0.3333333333333333, \"#9c179e\"], [0.4444444444444444, \"#bd3786\"], [0.5555555555555556, \"#d8576b\"], [0.6666666666666666, \"#ed7953\"], [0.7777777777777778, \"#fb9f3a\"], [0.8888888888888888, \"#fdca26\"], [1.0, \"#f0f921\"]], \"sequentialminus\": [[0.0, \"#0d0887\"], [0.1111111111111111, \"#46039f\"], [0.2222222222222222, \"#7201a8\"], [0.3333333333333333, \"#9c179e\"], [0.4444444444444444, \"#bd3786\"], [0.5555555555555556, \"#d8576b\"], [0.6666666666666666, \"#ed7953\"], [0.7777777777777778, \"#fb9f3a\"], [0.8888888888888888, \"#fdca26\"], [1.0, \"#f0f921\"]]}, \"colorway\": [\"#636efa\", \"#EF553B\", \"#00cc96\", \"#ab63fa\", \"#FFA15A\", \"#19d3f3\", \"#FF6692\", \"#B6E880\", \"#FF97FF\", \"#FECB52\"], \"font\": {\"color\": \"#2a3f5f\"}, \"geo\": {\"bgcolor\": \"white\", \"lakecolor\": \"white\", \"landcolor\": \"#E5ECF6\", \"showlakes\": true, \"showland\": true, \"subunitcolor\": \"white\"}, \"hoverlabel\": {\"align\": \"left\"}, \"hovermode\": \"closest\", \"mapbox\": {\"style\": \"light\"}, \"paper_bgcolor\": \"white\", \"plot_bgcolor\": \"#E5ECF6\", \"polar\": {\"angularaxis\": {\"gridcolor\": \"white\", \"linecolor\": \"white\", \"ticks\": \"\"}, \"bgcolor\": \"#E5ECF6\", \"radialaxis\": {\"gridcolor\": \"white\", \"linecolor\": \"white\", \"ticks\": \"\"}}, \"scene\": {\"xaxis\": {\"backgroundcolor\": \"#E5ECF6\", \"gridcolor\": \"white\", \"gridwidth\": 2, \"linecolor\": \"white\", \"showbackground\": true, \"ticks\": \"\", \"zerolinecolor\": \"white\"}, \"yaxis\": {\"backgroundcolor\": \"#E5ECF6\", \"gridcolor\": \"white\", \"gridwidth\": 2, \"linecolor\": \"white\", \"showbackground\": true, \"ticks\": \"\", \"zerolinecolor\": \"white\"}, \"zaxis\": {\"backgroundcolor\": \"#E5ECF6\", \"gridcolor\": \"white\", \"gridwidth\": 2, \"linecolor\": \"white\", \"showbackground\": true, \"ticks\": \"\", \"zerolinecolor\": \"white\"}}, \"shapedefaults\": {\"line\": {\"color\": \"#2a3f5f\"}}, \"ternary\": {\"aaxis\": {\"gridcolor\": \"white\", \"linecolor\": \"white\", \"ticks\": \"\"}, \"baxis\": {\"gridcolor\": \"white\", \"linecolor\": \"white\", \"ticks\": \"\"}, \"bgcolor\": \"#E5ECF6\", \"caxis\": {\"gridcolor\": \"white\", \"linecolor\": \"white\", \"ticks\": \"\"}}, \"title\": {\"x\": 0.05}, \"xaxis\": {\"automargin\": true, \"gridcolor\": \"white\", \"linecolor\": \"white\", \"ticks\": \"\", \"title\": {\"standoff\": 15}, \"zerolinecolor\": \"white\", \"zerolinewidth\": 2}, \"yaxis\": {\"automargin\": true, \"gridcolor\": \"white\", \"linecolor\": \"white\", \"ticks\": \"\", \"title\": {\"standoff\": 15}, \"zerolinecolor\": \"white\", \"zerolinewidth\": 2}}}, \"title\": {\"text\": \"Elections votes transition Q2\"}},                        {\"responsive\": true}                    ).then(function(){\n                            \nvar gd = document.getElementById('6a325b79-b7ef-4c88-b3a3-873bdf0d4b9d');\nvar x = new MutationObserver(function (mutations, observer) {{\n        var display = window.getComputedStyle(gd).display;\n        if (!display || display === 'none') {{\n            console.log([gd, 'removed!']);\n            Plotly.purge(gd);\n            observer.disconnect();\n        }}\n}});\n\n// Listen for the removal of the full notebook cells\nvar notebookContainer = gd.closest('#notebook-container');\nif (notebookContainer) {{\n    x.observe(notebookContainer, {childList: true});\n}}\n\n// Listen for the clearing of the current output cell\nvar outputEl = gd.closest('.output');\nif (outputEl) {{\n    x.observe(outputEl, {childList: true});\n}}\n\n                        })                };                });            </script>        </div>"
     },
     "metadata": {},
     "output_type": "display_data"
    }
   ],
   "source": [
    "\n",
    "\n",
    "special_6 = M_q2_1.iloc[6].copy()\n",
    "special_10 = M_q2_1.iloc[10].copy()\n",
    "M_q2_1.iloc[6]= M_q2_1.iloc[10]\n",
    "M_q2_1.iloc[10]= special_6\n",
    "\n",
    "combined_names =  [\" 2019 \" + name[::-1]  for name in b2019b.columns] +\\\n",
    "                 [\" 2020 \" + name[::-1] for name in b2020.columns]\n",
    "combined_names = pd.DataFrame(combined_names)\n",
    "display(combined_names)\n",
    "display(pd_M)\n",
    "#display(M_q2_1)\n",
    "\n",
    "source = np.tile(np.arange(0,11), (10,1)).T.flatten()\n",
    "target = np.tile(np.arange(11,21), 11)\n",
    "colors = px.colors.qualitative.Set3[:-1]\n",
    "color_node = colors + colors[:9] + colors[11:] + [colors[9]]\n",
    "np_color = np.tile(np.array(colors), (10,1)).T.flatten()\n",
    "#print(np_color)\n",
    "\n",
    "fig = go.Figure(data=[go.Sankey(\n",
    "    node = dict(\n",
    "      pad = 5,\n",
    "      thickness = 5,\n",
    "      line = dict(color = \"black\", width = 2),\n",
    "      label = combined_names,  # parties names\n",
    "      color = color_node\n",
    "    ),\n",
    "    link = dict(\n",
    "        # from 0-10 is 2019. from 11-20 is 2020 print\n",
    "      source = source, # 2019\n",
    "      target = target,  # 2020\n",
    "      value = M_q2_1.to_numpy().flatten(),\n",
    "      color = np_color\n",
    "  ))])\n",
    "\n",
    "fig.update_layout(title_text=\"Elections votes transition Q2\", font_size=10)\n",
    "fig.show()\n"
   ],
   "metadata": {
    "collapsed": false,
    "pycharm": {
     "name": "#%%\n",
     "is_executing": false
    }
   }
  },
  {
   "cell_type": "code",
   "execution_count": 95,
   "outputs": [],
   "source": [
    "\n",
    "\n"
   ],
   "metadata": {
    "collapsed": false,
    "pycharm": {
     "name": "#%%\n",
     "is_executing": false
    }
   }
  },
  {
   "cell_type": "markdown",
   "source": [
    "בקוד הבא ניתן לראות את גרף sankey plot תחת וריאציית המעברים עבור שאלה 3"
   ],
   "metadata": {
    "collapsed": false,
    "pycharm": {
     "name": "#%% md\n",
     "is_executing": false
    }
   }
  },
  {
   "cell_type": "code",
   "execution_count": 96,
   "outputs": [
    {
     "data": {
      "application/vnd.plotly.v1+json": {
       "config": {
        "plotlyServerURL": "https://plot.ly"
       },
       "data": [
        {
         "link": {
          "color": [
           "rgb(141,211,199)",
           "rgb(141,211,199)",
           "rgb(141,211,199)",
           "rgb(141,211,199)",
           "rgb(141,211,199)",
           "rgb(141,211,199)",
           "rgb(141,211,199)",
           "rgb(141,211,199)",
           "rgb(141,211,199)",
           "rgb(255,255,179)",
           "rgb(255,255,179)",
           "rgb(255,255,179)",
           "rgb(255,255,179)",
           "rgb(255,255,179)",
           "rgb(255,255,179)",
           "rgb(255,255,179)",
           "rgb(255,255,179)",
           "rgb(255,255,179)",
           "rgb(190,186,218)",
           "rgb(190,186,218)",
           "rgb(190,186,218)",
           "rgb(190,186,218)",
           "rgb(190,186,218)",
           "rgb(190,186,218)",
           "rgb(190,186,218)",
           "rgb(190,186,218)",
           "rgb(190,186,218)",
           "rgb(251,128,114)",
           "rgb(251,128,114)",
           "rgb(251,128,114)",
           "rgb(251,128,114)",
           "rgb(251,128,114)",
           "rgb(251,128,114)",
           "rgb(251,128,114)",
           "rgb(251,128,114)",
           "rgb(251,128,114)",
           "rgb(128,177,211)",
           "rgb(128,177,211)",
           "rgb(128,177,211)",
           "rgb(128,177,211)",
           "rgb(128,177,211)",
           "rgb(128,177,211)",
           "rgb(128,177,211)",
           "rgb(128,177,211)",
           "rgb(128,177,211)",
           "rgb(253,180,98)",
           "rgb(253,180,98)",
           "rgb(253,180,98)",
           "rgb(253,180,98)",
           "rgb(253,180,98)",
           "rgb(253,180,98)",
           "rgb(253,180,98)",
           "rgb(253,180,98)",
           "rgb(253,180,98)",
           "rgb(179,222,105)",
           "rgb(179,222,105)",
           "rgb(179,222,105)",
           "rgb(179,222,105)",
           "rgb(179,222,105)",
           "rgb(179,222,105)",
           "rgb(179,222,105)",
           "rgb(179,222,105)",
           "rgb(179,222,105)",
           "rgb(252,205,229)",
           "rgb(252,205,229)",
           "rgb(252,205,229)",
           "rgb(252,205,229)",
           "rgb(252,205,229)",
           "rgb(252,205,229)",
           "rgb(252,205,229)",
           "rgb(252,205,229)",
           "rgb(252,205,229)",
           "rgb(217,217,217)",
           "rgb(217,217,217)",
           "rgb(217,217,217)",
           "rgb(217,217,217)",
           "rgb(217,217,217)",
           "rgb(217,217,217)",
           "rgb(217,217,217)",
           "rgb(217,217,217)",
           "rgb(217,217,217)",
           "rgb(188,128,189)",
           "rgb(188,128,189)",
           "rgb(188,128,189)",
           "rgb(188,128,189)",
           "rgb(188,128,189)",
           "rgb(188,128,189)",
           "rgb(188,128,189)",
           "rgb(188,128,189)",
           "rgb(188,128,189)"
          ],
          "source": [
           0,
           0,
           0,
           0,
           0,
           0,
           0,
           0,
           0,
           1,
           1,
           1,
           1,
           1,
           1,
           1,
           1,
           1,
           2,
           2,
           2,
           2,
           2,
           2,
           2,
           2,
           2,
           3,
           3,
           3,
           3,
           3,
           3,
           3,
           3,
           3,
           4,
           4,
           4,
           4,
           4,
           4,
           4,
           4,
           4,
           5,
           5,
           5,
           5,
           5,
           5,
           5,
           5,
           5,
           6,
           6,
           6,
           6,
           6,
           6,
           6,
           6,
           6,
           7,
           7,
           7,
           7,
           7,
           7,
           7,
           7,
           7,
           8,
           8,
           8,
           8,
           8,
           8,
           8,
           8,
           8,
           9,
           9,
           9,
           9,
           9,
           9,
           9,
           9,
           9
          ],
          "target": [
           10,
           11,
           12,
           13,
           14,
           15,
           16,
           17,
           18,
           10,
           11,
           12,
           13,
           14,
           15,
           16,
           17,
           18,
           10,
           11,
           12,
           13,
           14,
           15,
           16,
           17,
           18,
           10,
           11,
           12,
           13,
           14,
           15,
           16,
           17,
           18,
           10,
           11,
           12,
           13,
           14,
           15,
           16,
           17,
           18,
           10,
           11,
           12,
           13,
           14,
           15,
           16,
           17,
           18,
           10,
           11,
           12,
           13,
           14,
           15,
           16,
           17,
           18,
           10,
           11,
           12,
           13,
           14,
           15,
           16,
           17,
           18,
           10,
           11,
           12,
           13,
           14,
           15,
           16,
           17,
           18,
           10,
           11,
           12,
           13,
           14,
           15,
           16,
           17,
           18
          ],
          "value": [
           0.6130552462655069,
           0.0,
           0.0,
           0.0,
           0.0,
           0.048567468197424815,
           0.0,
           0.31829995892449114,
           0.0,
           0.0,
           0.9799012164761852,
           0.0,
           0.0,
           0.0,
           0.0,
           0.0,
           0.0,
           0.014919304094907361,
           0.0,
           0.0,
           1.1689882104600775,
           0.0,
           0.0,
           0.0,
           0.0,
           0.0,
           0.0,
           0.0,
           0.0,
           0.0,
           0.9023046449160619,
           0.0,
           0.05888550769464555,
           0.0,
           0.0,
           0.0,
           0.0,
           0.0,
           0.0,
           0.0,
           0.8678404887881241,
           0.07754863692251174,
           0.0,
           0.0,
           0.0,
           0.0,
           0.0,
           0.0,
           0.0,
           0.0,
           1.0783307478262378,
           0.0,
           0.0,
           0.0,
           0.0,
           0.08542017470601257,
           0.0,
           0.04880440116586849,
           0.0,
           0.35193306966442756,
           0.21565010995375486,
           0.0,
           0.1107009421945445,
           0.0,
           0.0,
           0.0,
           0.0,
           0.0,
           0.0,
           0.0,
           0.9234304511602409,
           0.0,
           0.0,
           0.0,
           0.0,
           0.0,
           0.0,
           0.029223933620997893,
           0.0,
           0.0,
           0.9901714884072538,
           0.6915957648980672,
           0.0,
           0.07110109453209663,
           0.0,
           0.0,
           0.0,
           0.0,
           0.26967029492739575,
           0.0
          ]
         },
         "node": {
          "color": [
           "rgb(141,211,199)",
           "rgb(255,255,179)",
           "rgb(190,186,218)",
           "rgb(251,128,114)",
           "rgb(128,177,211)",
           "rgb(253,180,98)",
           "rgb(179,222,105)",
           "rgb(252,205,229)",
           "rgb(217,217,217)",
           "rgb(188,128,189)",
           "rgb(141,211,199)",
           "rgb(255,255,179)",
           "rgb(190,186,218)",
           "rgb(251,128,114)",
           "rgb(128,177,211)",
           "rgb(253,180,98)",
           "rgb(179,222,105)",
           "rgb(252,205,229)",
           "rgb(217,217,217)"
          ],
          "label": [
           [
            " 2019 תמא"
           ],
           [
            " 2019 ג"
           ],
           [
            " 2019 םעדו"
           ],
           [
            " 2019 בט"
           ],
           [
            " 2019 ל"
           ],
           [
            " 2019 לחמ"
           ],
           [
            " 2019 ץנ"
           ],
           [
            " 2019 הפ"
           ],
           [
            " 2019 סש"
           ],
           [
            " 2019 צרמ"
           ],
           [
            " 2020 תמא"
           ],
           [
            " 2020 ג"
           ],
           [
            " 2020 םעדו"
           ],
           [
            " 2020 בט"
           ],
           [
            " 2020 ל"
           ],
           [
            " 2020 לחמ"
           ],
           [
            " 2020 ץנ"
           ],
           [
            " 2020 הפ"
           ],
           [
            " 2020 סש"
           ]
          ],
          "line": {
           "color": "black",
           "width": 2
          },
          "pad": 5,
          "thickness": 5
         },
         "type": "sankey"
        }
       ],
       "layout": {
        "font": {
         "size": 10
        },
        "template": {
         "data": {
          "bar": [
           {
            "error_x": {
             "color": "#2a3f5f"
            },
            "error_y": {
             "color": "#2a3f5f"
            },
            "marker": {
             "line": {
              "color": "#E5ECF6",
              "width": 0.5
             }
            },
            "type": "bar"
           }
          ],
          "barpolar": [
           {
            "marker": {
             "line": {
              "color": "#E5ECF6",
              "width": 0.5
             }
            },
            "type": "barpolar"
           }
          ],
          "carpet": [
           {
            "aaxis": {
             "endlinecolor": "#2a3f5f",
             "gridcolor": "white",
             "linecolor": "white",
             "minorgridcolor": "white",
             "startlinecolor": "#2a3f5f"
            },
            "baxis": {
             "endlinecolor": "#2a3f5f",
             "gridcolor": "white",
             "linecolor": "white",
             "minorgridcolor": "white",
             "startlinecolor": "#2a3f5f"
            },
            "type": "carpet"
           }
          ],
          "choropleth": [
           {
            "colorbar": {
             "outlinewidth": 0,
             "ticks": ""
            },
            "type": "choropleth"
           }
          ],
          "contour": [
           {
            "colorbar": {
             "outlinewidth": 0,
             "ticks": ""
            },
            "colorscale": [
             [
              0.0,
              "#0d0887"
             ],
             [
              0.1111111111111111,
              "#46039f"
             ],
             [
              0.2222222222222222,
              "#7201a8"
             ],
             [
              0.3333333333333333,
              "#9c179e"
             ],
             [
              0.4444444444444444,
              "#bd3786"
             ],
             [
              0.5555555555555556,
              "#d8576b"
             ],
             [
              0.6666666666666666,
              "#ed7953"
             ],
             [
              0.7777777777777778,
              "#fb9f3a"
             ],
             [
              0.8888888888888888,
              "#fdca26"
             ],
             [
              1.0,
              "#f0f921"
             ]
            ],
            "type": "contour"
           }
          ],
          "contourcarpet": [
           {
            "colorbar": {
             "outlinewidth": 0,
             "ticks": ""
            },
            "type": "contourcarpet"
           }
          ],
          "heatmap": [
           {
            "colorbar": {
             "outlinewidth": 0,
             "ticks": ""
            },
            "colorscale": [
             [
              0.0,
              "#0d0887"
             ],
             [
              0.1111111111111111,
              "#46039f"
             ],
             [
              0.2222222222222222,
              "#7201a8"
             ],
             [
              0.3333333333333333,
              "#9c179e"
             ],
             [
              0.4444444444444444,
              "#bd3786"
             ],
             [
              0.5555555555555556,
              "#d8576b"
             ],
             [
              0.6666666666666666,
              "#ed7953"
             ],
             [
              0.7777777777777778,
              "#fb9f3a"
             ],
             [
              0.8888888888888888,
              "#fdca26"
             ],
             [
              1.0,
              "#f0f921"
             ]
            ],
            "type": "heatmap"
           }
          ],
          "heatmapgl": [
           {
            "colorbar": {
             "outlinewidth": 0,
             "ticks": ""
            },
            "colorscale": [
             [
              0.0,
              "#0d0887"
             ],
             [
              0.1111111111111111,
              "#46039f"
             ],
             [
              0.2222222222222222,
              "#7201a8"
             ],
             [
              0.3333333333333333,
              "#9c179e"
             ],
             [
              0.4444444444444444,
              "#bd3786"
             ],
             [
              0.5555555555555556,
              "#d8576b"
             ],
             [
              0.6666666666666666,
              "#ed7953"
             ],
             [
              0.7777777777777778,
              "#fb9f3a"
             ],
             [
              0.8888888888888888,
              "#fdca26"
             ],
             [
              1.0,
              "#f0f921"
             ]
            ],
            "type": "heatmapgl"
           }
          ],
          "histogram": [
           {
            "marker": {
             "colorbar": {
              "outlinewidth": 0,
              "ticks": ""
             }
            },
            "type": "histogram"
           }
          ],
          "histogram2d": [
           {
            "colorbar": {
             "outlinewidth": 0,
             "ticks": ""
            },
            "colorscale": [
             [
              0.0,
              "#0d0887"
             ],
             [
              0.1111111111111111,
              "#46039f"
             ],
             [
              0.2222222222222222,
              "#7201a8"
             ],
             [
              0.3333333333333333,
              "#9c179e"
             ],
             [
              0.4444444444444444,
              "#bd3786"
             ],
             [
              0.5555555555555556,
              "#d8576b"
             ],
             [
              0.6666666666666666,
              "#ed7953"
             ],
             [
              0.7777777777777778,
              "#fb9f3a"
             ],
             [
              0.8888888888888888,
              "#fdca26"
             ],
             [
              1.0,
              "#f0f921"
             ]
            ],
            "type": "histogram2d"
           }
          ],
          "histogram2dcontour": [
           {
            "colorbar": {
             "outlinewidth": 0,
             "ticks": ""
            },
            "colorscale": [
             [
              0.0,
              "#0d0887"
             ],
             [
              0.1111111111111111,
              "#46039f"
             ],
             [
              0.2222222222222222,
              "#7201a8"
             ],
             [
              0.3333333333333333,
              "#9c179e"
             ],
             [
              0.4444444444444444,
              "#bd3786"
             ],
             [
              0.5555555555555556,
              "#d8576b"
             ],
             [
              0.6666666666666666,
              "#ed7953"
             ],
             [
              0.7777777777777778,
              "#fb9f3a"
             ],
             [
              0.8888888888888888,
              "#fdca26"
             ],
             [
              1.0,
              "#f0f921"
             ]
            ],
            "type": "histogram2dcontour"
           }
          ],
          "mesh3d": [
           {
            "colorbar": {
             "outlinewidth": 0,
             "ticks": ""
            },
            "type": "mesh3d"
           }
          ],
          "parcoords": [
           {
            "line": {
             "colorbar": {
              "outlinewidth": 0,
              "ticks": ""
             }
            },
            "type": "parcoords"
           }
          ],
          "pie": [
           {
            "automargin": true,
            "type": "pie"
           }
          ],
          "scatter": [
           {
            "marker": {
             "colorbar": {
              "outlinewidth": 0,
              "ticks": ""
             }
            },
            "type": "scatter"
           }
          ],
          "scatter3d": [
           {
            "line": {
             "colorbar": {
              "outlinewidth": 0,
              "ticks": ""
             }
            },
            "marker": {
             "colorbar": {
              "outlinewidth": 0,
              "ticks": ""
             }
            },
            "type": "scatter3d"
           }
          ],
          "scattercarpet": [
           {
            "marker": {
             "colorbar": {
              "outlinewidth": 0,
              "ticks": ""
             }
            },
            "type": "scattercarpet"
           }
          ],
          "scattergeo": [
           {
            "marker": {
             "colorbar": {
              "outlinewidth": 0,
              "ticks": ""
             }
            },
            "type": "scattergeo"
           }
          ],
          "scattergl": [
           {
            "marker": {
             "colorbar": {
              "outlinewidth": 0,
              "ticks": ""
             }
            },
            "type": "scattergl"
           }
          ],
          "scattermapbox": [
           {
            "marker": {
             "colorbar": {
              "outlinewidth": 0,
              "ticks": ""
             }
            },
            "type": "scattermapbox"
           }
          ],
          "scatterpolar": [
           {
            "marker": {
             "colorbar": {
              "outlinewidth": 0,
              "ticks": ""
             }
            },
            "type": "scatterpolar"
           }
          ],
          "scatterpolargl": [
           {
            "marker": {
             "colorbar": {
              "outlinewidth": 0,
              "ticks": ""
             }
            },
            "type": "scatterpolargl"
           }
          ],
          "scatterternary": [
           {
            "marker": {
             "colorbar": {
              "outlinewidth": 0,
              "ticks": ""
             }
            },
            "type": "scatterternary"
           }
          ],
          "surface": [
           {
            "colorbar": {
             "outlinewidth": 0,
             "ticks": ""
            },
            "colorscale": [
             [
              0.0,
              "#0d0887"
             ],
             [
              0.1111111111111111,
              "#46039f"
             ],
             [
              0.2222222222222222,
              "#7201a8"
             ],
             [
              0.3333333333333333,
              "#9c179e"
             ],
             [
              0.4444444444444444,
              "#bd3786"
             ],
             [
              0.5555555555555556,
              "#d8576b"
             ],
             [
              0.6666666666666666,
              "#ed7953"
             ],
             [
              0.7777777777777778,
              "#fb9f3a"
             ],
             [
              0.8888888888888888,
              "#fdca26"
             ],
             [
              1.0,
              "#f0f921"
             ]
            ],
            "type": "surface"
           }
          ],
          "table": [
           {
            "cells": {
             "fill": {
              "color": "#EBF0F8"
             },
             "line": {
              "color": "white"
             }
            },
            "header": {
             "fill": {
              "color": "#C8D4E3"
             },
             "line": {
              "color": "white"
             }
            },
            "type": "table"
           }
          ]
         },
         "layout": {
          "annotationdefaults": {
           "arrowcolor": "#2a3f5f",
           "arrowhead": 0,
           "arrowwidth": 1
          },
          "autotypenumbers": "strict",
          "coloraxis": {
           "colorbar": {
            "outlinewidth": 0,
            "ticks": ""
           }
          },
          "colorscale": {
           "diverging": [
            [
             0,
             "#8e0152"
            ],
            [
             0.1,
             "#c51b7d"
            ],
            [
             0.2,
             "#de77ae"
            ],
            [
             0.3,
             "#f1b6da"
            ],
            [
             0.4,
             "#fde0ef"
            ],
            [
             0.5,
             "#f7f7f7"
            ],
            [
             0.6,
             "#e6f5d0"
            ],
            [
             0.7,
             "#b8e186"
            ],
            [
             0.8,
             "#7fbc41"
            ],
            [
             0.9,
             "#4d9221"
            ],
            [
             1,
             "#276419"
            ]
           ],
           "sequential": [
            [
             0.0,
             "#0d0887"
            ],
            [
             0.1111111111111111,
             "#46039f"
            ],
            [
             0.2222222222222222,
             "#7201a8"
            ],
            [
             0.3333333333333333,
             "#9c179e"
            ],
            [
             0.4444444444444444,
             "#bd3786"
            ],
            [
             0.5555555555555556,
             "#d8576b"
            ],
            [
             0.6666666666666666,
             "#ed7953"
            ],
            [
             0.7777777777777778,
             "#fb9f3a"
            ],
            [
             0.8888888888888888,
             "#fdca26"
            ],
            [
             1.0,
             "#f0f921"
            ]
           ],
           "sequentialminus": [
            [
             0.0,
             "#0d0887"
            ],
            [
             0.1111111111111111,
             "#46039f"
            ],
            [
             0.2222222222222222,
             "#7201a8"
            ],
            [
             0.3333333333333333,
             "#9c179e"
            ],
            [
             0.4444444444444444,
             "#bd3786"
            ],
            [
             0.5555555555555556,
             "#d8576b"
            ],
            [
             0.6666666666666666,
             "#ed7953"
            ],
            [
             0.7777777777777778,
             "#fb9f3a"
            ],
            [
             0.8888888888888888,
             "#fdca26"
            ],
            [
             1.0,
             "#f0f921"
            ]
           ]
          },
          "colorway": [
           "#636efa",
           "#EF553B",
           "#00cc96",
           "#ab63fa",
           "#FFA15A",
           "#19d3f3",
           "#FF6692",
           "#B6E880",
           "#FF97FF",
           "#FECB52"
          ],
          "font": {
           "color": "#2a3f5f"
          },
          "geo": {
           "bgcolor": "white",
           "lakecolor": "white",
           "landcolor": "#E5ECF6",
           "showlakes": true,
           "showland": true,
           "subunitcolor": "white"
          },
          "hoverlabel": {
           "align": "left"
          },
          "hovermode": "closest",
          "mapbox": {
           "style": "light"
          },
          "paper_bgcolor": "white",
          "plot_bgcolor": "#E5ECF6",
          "polar": {
           "angularaxis": {
            "gridcolor": "white",
            "linecolor": "white",
            "ticks": ""
           },
           "bgcolor": "#E5ECF6",
           "radialaxis": {
            "gridcolor": "white",
            "linecolor": "white",
            "ticks": ""
           }
          },
          "scene": {
           "xaxis": {
            "backgroundcolor": "#E5ECF6",
            "gridcolor": "white",
            "gridwidth": 2,
            "linecolor": "white",
            "showbackground": true,
            "ticks": "",
            "zerolinecolor": "white"
           },
           "yaxis": {
            "backgroundcolor": "#E5ECF6",
            "gridcolor": "white",
            "gridwidth": 2,
            "linecolor": "white",
            "showbackground": true,
            "ticks": "",
            "zerolinecolor": "white"
           },
           "zaxis": {
            "backgroundcolor": "#E5ECF6",
            "gridcolor": "white",
            "gridwidth": 2,
            "linecolor": "white",
            "showbackground": true,
            "ticks": "",
            "zerolinecolor": "white"
           }
          },
          "shapedefaults": {
           "line": {
            "color": "#2a3f5f"
           }
          },
          "ternary": {
           "aaxis": {
            "gridcolor": "white",
            "linecolor": "white",
            "ticks": ""
           },
           "baxis": {
            "gridcolor": "white",
            "linecolor": "white",
            "ticks": ""
           },
           "bgcolor": "#E5ECF6",
           "caxis": {
            "gridcolor": "white",
            "linecolor": "white",
            "ticks": ""
           }
          },
          "title": {
           "x": 0.05
          },
          "xaxis": {
           "automargin": true,
           "gridcolor": "white",
           "linecolor": "white",
           "ticks": "",
           "title": {
            "standoff": 15
           },
           "zerolinecolor": "white",
           "zerolinewidth": 2
          },
          "yaxis": {
           "automargin": true,
           "gridcolor": "white",
           "linecolor": "white",
           "ticks": "",
           "title": {
            "standoff": 15
           },
           "zerolinecolor": "white",
           "zerolinewidth": 2
          }
         }
        },
        "title": {
         "text": "Elections votes transition Q3"
        }
       }
      },
      "text/html": "<div>                            <div id=\"0c9499e1-3148-4e11-b459-5e7bf8c6b44a\" class=\"plotly-graph-div\" style=\"height:525px; width:100%;\"></div>            <script type=\"text/javascript\">                require([\"plotly\"], function(Plotly) {                    window.PLOTLYENV=window.PLOTLYENV || {};                                    if (document.getElementById(\"0c9499e1-3148-4e11-b459-5e7bf8c6b44a\")) {                    Plotly.newPlot(                        \"0c9499e1-3148-4e11-b459-5e7bf8c6b44a\",                        [{\"link\": {\"color\": [\"rgb(141,211,199)\", \"rgb(141,211,199)\", \"rgb(141,211,199)\", \"rgb(141,211,199)\", \"rgb(141,211,199)\", \"rgb(141,211,199)\", \"rgb(141,211,199)\", \"rgb(141,211,199)\", \"rgb(141,211,199)\", \"rgb(255,255,179)\", \"rgb(255,255,179)\", \"rgb(255,255,179)\", \"rgb(255,255,179)\", \"rgb(255,255,179)\", \"rgb(255,255,179)\", \"rgb(255,255,179)\", \"rgb(255,255,179)\", \"rgb(255,255,179)\", \"rgb(190,186,218)\", \"rgb(190,186,218)\", \"rgb(190,186,218)\", \"rgb(190,186,218)\", \"rgb(190,186,218)\", \"rgb(190,186,218)\", \"rgb(190,186,218)\", \"rgb(190,186,218)\", \"rgb(190,186,218)\", \"rgb(251,128,114)\", \"rgb(251,128,114)\", \"rgb(251,128,114)\", \"rgb(251,128,114)\", \"rgb(251,128,114)\", \"rgb(251,128,114)\", \"rgb(251,128,114)\", \"rgb(251,128,114)\", \"rgb(251,128,114)\", \"rgb(128,177,211)\", \"rgb(128,177,211)\", \"rgb(128,177,211)\", \"rgb(128,177,211)\", \"rgb(128,177,211)\", \"rgb(128,177,211)\", \"rgb(128,177,211)\", \"rgb(128,177,211)\", \"rgb(128,177,211)\", \"rgb(253,180,98)\", \"rgb(253,180,98)\", \"rgb(253,180,98)\", \"rgb(253,180,98)\", \"rgb(253,180,98)\", \"rgb(253,180,98)\", \"rgb(253,180,98)\", \"rgb(253,180,98)\", \"rgb(253,180,98)\", \"rgb(179,222,105)\", \"rgb(179,222,105)\", \"rgb(179,222,105)\", \"rgb(179,222,105)\", \"rgb(179,222,105)\", \"rgb(179,222,105)\", \"rgb(179,222,105)\", \"rgb(179,222,105)\", \"rgb(179,222,105)\", \"rgb(252,205,229)\", \"rgb(252,205,229)\", \"rgb(252,205,229)\", \"rgb(252,205,229)\", \"rgb(252,205,229)\", \"rgb(252,205,229)\", \"rgb(252,205,229)\", \"rgb(252,205,229)\", \"rgb(252,205,229)\", \"rgb(217,217,217)\", \"rgb(217,217,217)\", \"rgb(217,217,217)\", \"rgb(217,217,217)\", \"rgb(217,217,217)\", \"rgb(217,217,217)\", \"rgb(217,217,217)\", \"rgb(217,217,217)\", \"rgb(217,217,217)\", \"rgb(188,128,189)\", \"rgb(188,128,189)\", \"rgb(188,128,189)\", \"rgb(188,128,189)\", \"rgb(188,128,189)\", \"rgb(188,128,189)\", \"rgb(188,128,189)\", \"rgb(188,128,189)\", \"rgb(188,128,189)\"], \"source\": [0, 0, 0, 0, 0, 0, 0, 0, 0, 1, 1, 1, 1, 1, 1, 1, 1, 1, 2, 2, 2, 2, 2, 2, 2, 2, 2, 3, 3, 3, 3, 3, 3, 3, 3, 3, 4, 4, 4, 4, 4, 4, 4, 4, 4, 5, 5, 5, 5, 5, 5, 5, 5, 5, 6, 6, 6, 6, 6, 6, 6, 6, 6, 7, 7, 7, 7, 7, 7, 7, 7, 7, 8, 8, 8, 8, 8, 8, 8, 8, 8, 9, 9, 9, 9, 9, 9, 9, 9, 9], \"target\": [10, 11, 12, 13, 14, 15, 16, 17, 18, 10, 11, 12, 13, 14, 15, 16, 17, 18, 10, 11, 12, 13, 14, 15, 16, 17, 18, 10, 11, 12, 13, 14, 15, 16, 17, 18, 10, 11, 12, 13, 14, 15, 16, 17, 18, 10, 11, 12, 13, 14, 15, 16, 17, 18, 10, 11, 12, 13, 14, 15, 16, 17, 18, 10, 11, 12, 13, 14, 15, 16, 17, 18, 10, 11, 12, 13, 14, 15, 16, 17, 18, 10, 11, 12, 13, 14, 15, 16, 17, 18], \"value\": [0.6130552462655069, 0.0, 0.0, 0.0, 0.0, 0.048567468197424815, 0.0, 0.31829995892449114, 0.0, 0.0, 0.9799012164761852, 0.0, 0.0, 0.0, 0.0, 0.0, 0.0, 0.014919304094907361, 0.0, 0.0, 1.1689882104600775, 0.0, 0.0, 0.0, 0.0, 0.0, 0.0, 0.0, 0.0, 0.0, 0.9023046449160619, 0.0, 0.05888550769464555, 0.0, 0.0, 0.0, 0.0, 0.0, 0.0, 0.0, 0.8678404887881241, 0.07754863692251174, 0.0, 0.0, 0.0, 0.0, 0.0, 0.0, 0.0, 0.0, 1.0783307478262378, 0.0, 0.0, 0.0, 0.0, 0.08542017470601257, 0.0, 0.04880440116586849, 0.0, 0.35193306966442756, 0.21565010995375486, 0.0, 0.1107009421945445, 0.0, 0.0, 0.0, 0.0, 0.0, 0.0, 0.0, 0.9234304511602409, 0.0, 0.0, 0.0, 0.0, 0.0, 0.0, 0.029223933620997893, 0.0, 0.0, 0.9901714884072538, 0.6915957648980672, 0.0, 0.07110109453209663, 0.0, 0.0, 0.0, 0.0, 0.26967029492739575, 0.0]}, \"node\": {\"color\": [\"rgb(141,211,199)\", \"rgb(255,255,179)\", \"rgb(190,186,218)\", \"rgb(251,128,114)\", \"rgb(128,177,211)\", \"rgb(253,180,98)\", \"rgb(179,222,105)\", \"rgb(252,205,229)\", \"rgb(217,217,217)\", \"rgb(188,128,189)\", \"rgb(141,211,199)\", \"rgb(255,255,179)\", \"rgb(190,186,218)\", \"rgb(251,128,114)\", \"rgb(128,177,211)\", \"rgb(253,180,98)\", \"rgb(179,222,105)\", \"rgb(252,205,229)\", \"rgb(217,217,217)\"], \"label\": [[\" 2019 \\u05ea\\u05de\\u05d0\"], [\" 2019 \\u05d2\"], [\" 2019 \\u05dd\\u05e2\\u05d3\\u05d5\"], [\" 2019 \\u05d1\\u05d8\"], [\" 2019 \\u05dc\"], [\" 2019 \\u05dc\\u05d7\\u05de\"], [\" 2019 \\u05e5\\u05e0\"], [\" 2019 \\u05d4\\u05e4\"], [\" 2019 \\u05e1\\u05e9\"], [\" 2019 \\u05e6\\u05e8\\u05de\"], [\" 2020 \\u05ea\\u05de\\u05d0\"], [\" 2020 \\u05d2\"], [\" 2020 \\u05dd\\u05e2\\u05d3\\u05d5\"], [\" 2020 \\u05d1\\u05d8\"], [\" 2020 \\u05dc\"], [\" 2020 \\u05dc\\u05d7\\u05de\"], [\" 2020 \\u05e5\\u05e0\"], [\" 2020 \\u05d4\\u05e4\"], [\" 2020 \\u05e1\\u05e9\"]], \"line\": {\"color\": \"black\", \"width\": 2}, \"pad\": 5, \"thickness\": 5}, \"type\": \"sankey\"}],                        {\"font\": {\"size\": 10}, \"template\": {\"data\": {\"bar\": [{\"error_x\": {\"color\": \"#2a3f5f\"}, \"error_y\": {\"color\": \"#2a3f5f\"}, \"marker\": {\"line\": {\"color\": \"#E5ECF6\", \"width\": 0.5}}, \"type\": \"bar\"}], \"barpolar\": [{\"marker\": {\"line\": {\"color\": \"#E5ECF6\", \"width\": 0.5}}, \"type\": \"barpolar\"}], \"carpet\": [{\"aaxis\": {\"endlinecolor\": \"#2a3f5f\", \"gridcolor\": \"white\", \"linecolor\": \"white\", \"minorgridcolor\": \"white\", \"startlinecolor\": \"#2a3f5f\"}, \"baxis\": {\"endlinecolor\": \"#2a3f5f\", \"gridcolor\": \"white\", \"linecolor\": \"white\", \"minorgridcolor\": \"white\", \"startlinecolor\": \"#2a3f5f\"}, \"type\": \"carpet\"}], \"choropleth\": [{\"colorbar\": {\"outlinewidth\": 0, \"ticks\": \"\"}, \"type\": \"choropleth\"}], \"contour\": [{\"colorbar\": {\"outlinewidth\": 0, \"ticks\": \"\"}, \"colorscale\": [[0.0, \"#0d0887\"], [0.1111111111111111, \"#46039f\"], [0.2222222222222222, \"#7201a8\"], [0.3333333333333333, \"#9c179e\"], [0.4444444444444444, \"#bd3786\"], [0.5555555555555556, \"#d8576b\"], [0.6666666666666666, \"#ed7953\"], [0.7777777777777778, \"#fb9f3a\"], [0.8888888888888888, \"#fdca26\"], [1.0, \"#f0f921\"]], \"type\": \"contour\"}], \"contourcarpet\": [{\"colorbar\": {\"outlinewidth\": 0, \"ticks\": \"\"}, \"type\": \"contourcarpet\"}], \"heatmap\": [{\"colorbar\": {\"outlinewidth\": 0, \"ticks\": \"\"}, \"colorscale\": [[0.0, \"#0d0887\"], [0.1111111111111111, \"#46039f\"], [0.2222222222222222, \"#7201a8\"], [0.3333333333333333, \"#9c179e\"], [0.4444444444444444, \"#bd3786\"], [0.5555555555555556, \"#d8576b\"], [0.6666666666666666, \"#ed7953\"], [0.7777777777777778, \"#fb9f3a\"], [0.8888888888888888, \"#fdca26\"], [1.0, \"#f0f921\"]], \"type\": \"heatmap\"}], \"heatmapgl\": [{\"colorbar\": {\"outlinewidth\": 0, \"ticks\": \"\"}, \"colorscale\": [[0.0, \"#0d0887\"], [0.1111111111111111, \"#46039f\"], [0.2222222222222222, \"#7201a8\"], [0.3333333333333333, \"#9c179e\"], [0.4444444444444444, \"#bd3786\"], [0.5555555555555556, \"#d8576b\"], [0.6666666666666666, \"#ed7953\"], [0.7777777777777778, \"#fb9f3a\"], [0.8888888888888888, \"#fdca26\"], [1.0, \"#f0f921\"]], \"type\": \"heatmapgl\"}], \"histogram\": [{\"marker\": {\"colorbar\": {\"outlinewidth\": 0, \"ticks\": \"\"}}, \"type\": \"histogram\"}], \"histogram2d\": [{\"colorbar\": {\"outlinewidth\": 0, \"ticks\": \"\"}, \"colorscale\": [[0.0, \"#0d0887\"], [0.1111111111111111, \"#46039f\"], [0.2222222222222222, \"#7201a8\"], [0.3333333333333333, \"#9c179e\"], [0.4444444444444444, \"#bd3786\"], [0.5555555555555556, \"#d8576b\"], [0.6666666666666666, \"#ed7953\"], [0.7777777777777778, \"#fb9f3a\"], [0.8888888888888888, \"#fdca26\"], [1.0, \"#f0f921\"]], \"type\": \"histogram2d\"}], \"histogram2dcontour\": [{\"colorbar\": {\"outlinewidth\": 0, \"ticks\": \"\"}, \"colorscale\": [[0.0, \"#0d0887\"], [0.1111111111111111, \"#46039f\"], [0.2222222222222222, \"#7201a8\"], [0.3333333333333333, \"#9c179e\"], [0.4444444444444444, \"#bd3786\"], [0.5555555555555556, \"#d8576b\"], [0.6666666666666666, \"#ed7953\"], [0.7777777777777778, \"#fb9f3a\"], [0.8888888888888888, \"#fdca26\"], [1.0, \"#f0f921\"]], \"type\": \"histogram2dcontour\"}], \"mesh3d\": [{\"colorbar\": {\"outlinewidth\": 0, \"ticks\": \"\"}, \"type\": \"mesh3d\"}], \"parcoords\": [{\"line\": {\"colorbar\": {\"outlinewidth\": 0, \"ticks\": \"\"}}, \"type\": \"parcoords\"}], \"pie\": [{\"automargin\": true, \"type\": \"pie\"}], \"scatter\": [{\"marker\": {\"colorbar\": {\"outlinewidth\": 0, \"ticks\": \"\"}}, \"type\": \"scatter\"}], \"scatter3d\": [{\"line\": {\"colorbar\": {\"outlinewidth\": 0, \"ticks\": \"\"}}, \"marker\": {\"colorbar\": {\"outlinewidth\": 0, \"ticks\": \"\"}}, \"type\": \"scatter3d\"}], \"scattercarpet\": [{\"marker\": {\"colorbar\": {\"outlinewidth\": 0, \"ticks\": \"\"}}, \"type\": \"scattercarpet\"}], \"scattergeo\": [{\"marker\": {\"colorbar\": {\"outlinewidth\": 0, \"ticks\": \"\"}}, \"type\": \"scattergeo\"}], \"scattergl\": [{\"marker\": {\"colorbar\": {\"outlinewidth\": 0, \"ticks\": \"\"}}, \"type\": \"scattergl\"}], \"scattermapbox\": [{\"marker\": {\"colorbar\": {\"outlinewidth\": 0, \"ticks\": \"\"}}, \"type\": \"scattermapbox\"}], \"scatterpolar\": [{\"marker\": {\"colorbar\": {\"outlinewidth\": 0, \"ticks\": \"\"}}, \"type\": \"scatterpolar\"}], \"scatterpolargl\": [{\"marker\": {\"colorbar\": {\"outlinewidth\": 0, \"ticks\": \"\"}}, \"type\": \"scatterpolargl\"}], \"scatterternary\": [{\"marker\": {\"colorbar\": {\"outlinewidth\": 0, \"ticks\": \"\"}}, \"type\": \"scatterternary\"}], \"surface\": [{\"colorbar\": {\"outlinewidth\": 0, \"ticks\": \"\"}, \"colorscale\": [[0.0, \"#0d0887\"], [0.1111111111111111, \"#46039f\"], [0.2222222222222222, \"#7201a8\"], [0.3333333333333333, \"#9c179e\"], [0.4444444444444444, \"#bd3786\"], [0.5555555555555556, \"#d8576b\"], [0.6666666666666666, \"#ed7953\"], [0.7777777777777778, \"#fb9f3a\"], [0.8888888888888888, \"#fdca26\"], [1.0, \"#f0f921\"]], \"type\": \"surface\"}], \"table\": [{\"cells\": {\"fill\": {\"color\": \"#EBF0F8\"}, \"line\": {\"color\": \"white\"}}, \"header\": {\"fill\": {\"color\": \"#C8D4E3\"}, \"line\": {\"color\": \"white\"}}, \"type\": \"table\"}]}, \"layout\": {\"annotationdefaults\": {\"arrowcolor\": \"#2a3f5f\", \"arrowhead\": 0, \"arrowwidth\": 1}, \"autotypenumbers\": \"strict\", \"coloraxis\": {\"colorbar\": {\"outlinewidth\": 0, \"ticks\": \"\"}}, \"colorscale\": {\"diverging\": [[0, \"#8e0152\"], [0.1, \"#c51b7d\"], [0.2, \"#de77ae\"], [0.3, \"#f1b6da\"], [0.4, \"#fde0ef\"], [0.5, \"#f7f7f7\"], [0.6, \"#e6f5d0\"], [0.7, \"#b8e186\"], [0.8, \"#7fbc41\"], [0.9, \"#4d9221\"], [1, \"#276419\"]], \"sequential\": [[0.0, \"#0d0887\"], [0.1111111111111111, \"#46039f\"], [0.2222222222222222, \"#7201a8\"], [0.3333333333333333, \"#9c179e\"], [0.4444444444444444, \"#bd3786\"], [0.5555555555555556, \"#d8576b\"], [0.6666666666666666, \"#ed7953\"], [0.7777777777777778, \"#fb9f3a\"], [0.8888888888888888, \"#fdca26\"], [1.0, \"#f0f921\"]], \"sequentialminus\": [[0.0, \"#0d0887\"], [0.1111111111111111, \"#46039f\"], [0.2222222222222222, \"#7201a8\"], [0.3333333333333333, \"#9c179e\"], [0.4444444444444444, \"#bd3786\"], [0.5555555555555556, \"#d8576b\"], [0.6666666666666666, \"#ed7953\"], [0.7777777777777778, \"#fb9f3a\"], [0.8888888888888888, \"#fdca26\"], [1.0, \"#f0f921\"]]}, \"colorway\": [\"#636efa\", \"#EF553B\", \"#00cc96\", \"#ab63fa\", \"#FFA15A\", \"#19d3f3\", \"#FF6692\", \"#B6E880\", \"#FF97FF\", \"#FECB52\"], \"font\": {\"color\": \"#2a3f5f\"}, \"geo\": {\"bgcolor\": \"white\", \"lakecolor\": \"white\", \"landcolor\": \"#E5ECF6\", \"showlakes\": true, \"showland\": true, \"subunitcolor\": \"white\"}, \"hoverlabel\": {\"align\": \"left\"}, \"hovermode\": \"closest\", \"mapbox\": {\"style\": \"light\"}, \"paper_bgcolor\": \"white\", \"plot_bgcolor\": \"#E5ECF6\", \"polar\": {\"angularaxis\": {\"gridcolor\": \"white\", \"linecolor\": \"white\", \"ticks\": \"\"}, \"bgcolor\": \"#E5ECF6\", \"radialaxis\": {\"gridcolor\": \"white\", \"linecolor\": \"white\", \"ticks\": \"\"}}, \"scene\": {\"xaxis\": {\"backgroundcolor\": \"#E5ECF6\", \"gridcolor\": \"white\", \"gridwidth\": 2, \"linecolor\": \"white\", \"showbackground\": true, \"ticks\": \"\", \"zerolinecolor\": \"white\"}, \"yaxis\": {\"backgroundcolor\": \"#E5ECF6\", \"gridcolor\": \"white\", \"gridwidth\": 2, \"linecolor\": \"white\", \"showbackground\": true, \"ticks\": \"\", \"zerolinecolor\": \"white\"}, \"zaxis\": {\"backgroundcolor\": \"#E5ECF6\", \"gridcolor\": \"white\", \"gridwidth\": 2, \"linecolor\": \"white\", \"showbackground\": true, \"ticks\": \"\", \"zerolinecolor\": \"white\"}}, \"shapedefaults\": {\"line\": {\"color\": \"#2a3f5f\"}}, \"ternary\": {\"aaxis\": {\"gridcolor\": \"white\", \"linecolor\": \"white\", \"ticks\": \"\"}, \"baxis\": {\"gridcolor\": \"white\", \"linecolor\": \"white\", \"ticks\": \"\"}, \"bgcolor\": \"#E5ECF6\", \"caxis\": {\"gridcolor\": \"white\", \"linecolor\": \"white\", \"ticks\": \"\"}}, \"title\": {\"x\": 0.05}, \"xaxis\": {\"automargin\": true, \"gridcolor\": \"white\", \"linecolor\": \"white\", \"ticks\": \"\", \"title\": {\"standoff\": 15}, \"zerolinecolor\": \"white\", \"zerolinewidth\": 2}, \"yaxis\": {\"automargin\": true, \"gridcolor\": \"white\", \"linecolor\": \"white\", \"ticks\": \"\", \"title\": {\"standoff\": 15}, \"zerolinecolor\": \"white\", \"zerolinewidth\": 2}}}, \"title\": {\"text\": \"Elections votes transition Q3\"}},                        {\"responsive\": true}                    ).then(function(){\n                            \nvar gd = document.getElementById('0c9499e1-3148-4e11-b459-5e7bf8c6b44a');\nvar x = new MutationObserver(function (mutations, observer) {{\n        var display = window.getComputedStyle(gd).display;\n        if (!display || display === 'none') {{\n            console.log([gd, 'removed!']);\n            Plotly.purge(gd);\n            observer.disconnect();\n        }}\n}});\n\n// Listen for the removal of the full notebook cells\nvar notebookContainer = gd.closest('#notebook-container');\nif (notebookContainer) {{\n    x.observe(notebookContainer, {childList: true});\n}}\n\n// Listen for the clearing of the current output cell\nvar outputEl = gd.closest('.output');\nif (outputEl) {{\n    x.observe(outputEl, {childList: true});\n}}\n\n                        })                };                });            </script>        </div>"
     },
     "metadata": {},
     "output_type": "display_data"
    }
   ],
   "source": [
    "current_q = M_q3_1\n",
    "combined_names =  [\" 2019 \" + name  for name in list(current_q.index)] +\\\n",
    "                 [\" 2020 \" + name for name in list(current_q.columns)]\n",
    "combined_names = pd.DataFrame(combined_names)\n",
    "#display(combined_names)\n",
    "#display(current_q)\n",
    "\n",
    "# source = np.tile(np.arange(0,11), (10,1)).T.flatten()\n",
    "# target = np.tile(np.arange(11,21), 11)\n",
    "\n",
    "source = np.tile(np.arange(0,10), (9,1)).T.flatten()\n",
    "#print(source)\n",
    "target = np.tile(np.arange(10,19), 10)\n",
    "#print(target)\n",
    "colors = px.colors.qualitative.Set3[:-2]\n",
    "color_node = colors + colors[:8] + colors[10:] + [colors[8]]\n",
    "np_color = np.tile(np.array(colors), (9,1)).T.flatten()\n",
    "#print(np_color)\n",
    "\n",
    "fig = go.Figure(data=[go.Sankey(\n",
    "    node = dict(\n",
    "      pad = 5,\n",
    "      thickness = 5,\n",
    "      line = dict(color = \"black\", width = 2),\n",
    "      label = combined_names,  # parties names\n",
    "      color = color_node\n",
    "    ),\n",
    "    link = dict(\n",
    "        # from 0-10 is 2019. from 11-20 is 2020 print\n",
    "      source = source, # 2019\n",
    "      target = target,  # 2020\n",
    "      value = current_q.to_numpy().flatten(),\n",
    "      color = np_color\n",
    "  ))])\n",
    "\n",
    "fig.update_layout(title_text=\"Elections votes transition Q3\", font_size=10)\n",
    "fig.show()\n"
   ],
   "metadata": {
    "collapsed": false,
    "pycharm": {
     "name": "#%%\n",
     "is_executing": false
    }
   }
  },
  {
   "cell_type": "markdown",
   "source": [
    "לסיכום, ראינו כי הגרפים מתארים באופן מדוייק בורור, ואף נעים לעין, את השינויים המשמעותיים בבחירות ולכן נעדיף להשתמש בהם על פני מפות החום את הפיזור, בכל סיטואציה אפשרית, חרף אילוצי הזמן\n"
   ],
   "metadata": {
    "collapsed": false,
    "pycharm": {
     "name": "#%% md\n"
    }
   }
  }
 ]
}
